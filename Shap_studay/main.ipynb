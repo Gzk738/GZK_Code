{
 "cells": [
  {
   "cell_type": "markdown",
   "metadata": {},
   "source": [
    "Census income classification with XGBoost\n",
    "This notebook demonstrates how to use XGBoost to predict the probability of an individual making over $50K a year in annual income. It uses the standard UCI Adult income dataset. To download a copy of this notebook visit github.\n",
    "\n",
    "Gradient boosting machine methods such as XGBoost are state-of-the-art for these types of prediction problems with tabular style input data of many modalities. Tree SHAP (arXiv paper) allows for the exact computation of SHAP values for tree ensemble methods, and has been integrated directly into the C++ XGBoost code base. This allows fast exact computation of SHAP values without sampling and without providing a background dataset (since the background is inferred from the coverage of the trees).\n",
    "\n",
    "Here we demonstrate how to use SHAP values to understand XGBoost model predictions.\n",
    "\n",
    "使用XGBoost进行人口普查收入分类\n",
    "这款笔记本演示了如何使用XGBoost预测个人年收入超过5万美元的可能性。 它使用标准的UCI成人收入数据集。 要下载此笔记本的副本，请访问github。\n",
    "\n",
    "诸如XGBoost之类的梯度增强机器方法对于具有多种形式的表格样式输入数据的这些类型的预测问题都是最先进的。 Tree SHAP（arXiv论文）允许为树集成方法精确计算SHAP值，并且已直接集成到C ++ XGBoost代码库中。 这样就可以快速精确地计算SHAP值，而无需进行采样，也无需提供背景数据集（因为背景是从树的覆盖范围推断出的）。\n",
    "\n",
    "在这里，我们演示了如何使用SHAP值来了解XGBoost模型预测。"
   ]
  },
  {
   "cell_type": "code",
   "execution_count": null,
   "metadata": {},
   "outputs": [],
   "source": []
  }
 ],
 "metadata": {
  "kernelspec": {
   "display_name": "env_lime",
   "language": "python",
   "name": "env_lime"
  },
  "language_info": {
   "codemirror_mode": {
    "name": "ipython",
    "version": 3
   },
   "file_extension": ".py",
   "mimetype": "text/x-python",
   "name": "python",
   "nbconvert_exporter": "python",
   "pygments_lexer": "ipython3",
   "version": "3.6.13"
  }
 },
 "nbformat": 4,
 "nbformat_minor": 4
}

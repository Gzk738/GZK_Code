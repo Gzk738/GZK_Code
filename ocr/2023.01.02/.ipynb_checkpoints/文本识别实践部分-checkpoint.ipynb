{
 "cells": [
  {
   "cell_type": "markdown",
   "metadata": {},
   "source": [
    "# 文本识别实战\n",
    "\n",
    "上一章理论部分，介绍了文本识别领域的主要方法，其中CRNN是较早被提出也是目前工业界应用较多的方法。本章将详细介绍如何基于PaddleOCR完成CRNN文本识别模型的搭建、训练、评估和预测。数据集采用 icdar 2015，其中训练集有4468张，测试集有2077张。\n",
    "\n",
    "\n",
    "通过本章的学习，你可以掌握：\n",
    "\n",
    "1. 如何使用PaddleOCR whl包快速完成文本识别预测\n",
    "\n",
    "2. CRNN的基本原理和网络结构\n",
    "\n",
    "3. 模型训练的必须步骤和调参方式\n",
    "\n",
    "4. 使用自定义的数据集训练网络\n",
    "\n",
    "注：`paddleocr`指代`PaddleOCR whl包`"
   ]
  },
  {
   "cell_type": "markdown",
   "metadata": {},
   "source": [
    "## 1. 快速体验\n",
    "\n",
    "### 1.1 安装相关的依赖及whl包\n",
    "\n",
    "首先确认安装了 paddle 以及 paddleocr，如果已经安装过，忽略该步骤。"
   ]
  },
  {
   "cell_type": "code",
   "execution_count": 1,
   "metadata": {
    "collapsed": false,
    "jupyter": {
     "outputs_hidden": false
    }
   },
   "outputs": [
    {
     "name": "stdout",
     "output_type": "stream",
     "text": [
      "Collecting paddlepaddle-gpu\n",
      "  Downloading paddlepaddle_gpu-2.4.1-cp38-cp38-win_amd64.whl (521.5 MB)\n",
      "     -------------------------------------- 521.5/521.5 MB 2.7 MB/s eta 0:00:00\n",
      "Requirement already satisfied: protobuf<=3.20.0,>=3.1.0 in d:\\software\\anaconda\\envs\\ocr\\lib\\site-packages (from paddlepaddle-gpu) (3.20.0)\n",
      "Requirement already satisfied: Pillow in d:\\software\\anaconda\\envs\\ocr\\lib\\site-packages (from paddlepaddle-gpu) (9.3.0)\n",
      "Requirement already satisfied: paddle-bfloat==0.1.7 in d:\\software\\anaconda\\envs\\ocr\\lib\\site-packages (from paddlepaddle-gpu) (0.1.7)\n",
      "Requirement already satisfied: decorator in d:\\software\\anaconda\\envs\\ocr\\lib\\site-packages (from paddlepaddle-gpu) (5.1.1)\n",
      "Requirement already satisfied: requests>=2.20.0 in c:\\users\\zikun\\appdata\\roaming\\python\\python38\\site-packages (from paddlepaddle-gpu) (2.25.1)\n",
      "Requirement already satisfied: opt-einsum==3.3.0 in d:\\software\\anaconda\\envs\\ocr\\lib\\site-packages (from paddlepaddle-gpu) (3.3.0)\n",
      "Requirement already satisfied: six in d:\\software\\anaconda\\envs\\ocr\\lib\\site-packages (from paddlepaddle-gpu) (1.16.0)\n",
      "Requirement already satisfied: numpy>=1.13 in d:\\software\\anaconda\\envs\\ocr\\lib\\site-packages (from paddlepaddle-gpu) (1.23.5)\n",
      "Requirement already satisfied: astor in d:\\software\\anaconda\\envs\\ocr\\lib\\site-packages (from paddlepaddle-gpu) (0.8.1)\n",
      "Requirement already satisfied: certifi>=2017.4.17 in d:\\software\\anaconda\\envs\\ocr\\lib\\site-packages (from requests>=2.20.0->paddlepaddle-gpu) (2022.9.24)\n",
      "Requirement already satisfied: urllib3<1.27,>=1.21.1 in d:\\software\\anaconda\\envs\\ocr\\lib\\site-packages (from requests>=2.20.0->paddlepaddle-gpu) (1.26.13)\n",
      "Requirement already satisfied: chardet<5,>=3.0.2 in c:\\users\\zikun\\appdata\\roaming\\python\\python38\\site-packages (from requests>=2.20.0->paddlepaddle-gpu) (4.0.0)\n",
      "Requirement already satisfied: idna<3,>=2.5 in c:\\users\\zikun\\appdata\\roaming\\python\\python38\\site-packages (from requests>=2.20.0->paddlepaddle-gpu) (2.10)\n",
      "Installing collected packages: paddlepaddle-gpu\n",
      "Successfully installed paddlepaddle-gpu-2.4.1\n",
      "Requirement already satisfied: pip in d:\\software\\anaconda\\envs\\ocr\\lib\\site-packages (22.2.2)\n",
      "Collecting pip\n",
      "  Downloading pip-22.3.1-py3-none-any.whl (2.1 MB)\n",
      "     ---------------------------------------- 2.1/2.1 MB 14.6 MB/s eta 0:00:00\n"
     ]
    },
    {
     "name": "stderr",
     "output_type": "stream",
     "text": [
      "ERROR: To modify pip, please run the following command:\n",
      "D:\\software\\anaconda\\envs\\ocr\\python.exe -m pip install -U pip\n"
     ]
    },
    {
     "name": "stdout",
     "output_type": "stream",
     "text": [
      "Requirement already satisfied: paddleocr in d:\\software\\anaconda\\envs\\ocr\\lib\\site-packages (2.6.1.1)\n",
      "Requirement already satisfied: attrdict in d:\\software\\anaconda\\envs\\ocr\\lib\\site-packages (from paddleocr) (2.0.1)\n",
      "Requirement already satisfied: python-docx in d:\\software\\anaconda\\envs\\ocr\\lib\\site-packages (from paddleocr) (0.8.11)\n",
      "Requirement already satisfied: scikit-image in d:\\software\\anaconda\\envs\\ocr\\lib\\site-packages (from paddleocr) (0.19.3)\n",
      "Requirement already satisfied: lxml in d:\\software\\anaconda\\envs\\ocr\\lib\\site-packages (from paddleocr) (4.9.1)\n",
      "Requirement already satisfied: pyclipper in d:\\software\\anaconda\\envs\\ocr\\lib\\site-packages (from paddleocr) (1.3.0.post4)\n",
      "Requirement already satisfied: shapely in d:\\software\\anaconda\\envs\\ocr\\lib\\site-packages (from paddleocr) (1.8.5.post1)\n",
      "Requirement already satisfied: lmdb in d:\\software\\anaconda\\envs\\ocr\\lib\\site-packages (from paddleocr) (1.3.0)\n",
      "Requirement already satisfied: fire>=0.3.0 in d:\\software\\anaconda\\envs\\ocr\\lib\\site-packages (from paddleocr) (0.4.0)\n",
      "Requirement already satisfied: numpy in d:\\software\\anaconda\\envs\\ocr\\lib\\site-packages (from paddleocr) (1.23.5)\n",
      "Requirement already satisfied: rapidfuzz in d:\\software\\anaconda\\envs\\ocr\\lib\\site-packages (from paddleocr) (2.13.2)\n",
      "Requirement already satisfied: visualdl in d:\\software\\anaconda\\envs\\ocr\\lib\\site-packages (from paddleocr) (2.4.1)\n",
      "Requirement already satisfied: tqdm in d:\\software\\anaconda\\envs\\ocr\\lib\\site-packages (from paddleocr) (4.64.1)\n",
      "Requirement already satisfied: cython in d:\\software\\anaconda\\envs\\ocr\\lib\\site-packages (from paddleocr) (0.29.32)\n",
      "Requirement already satisfied: premailer in d:\\software\\anaconda\\envs\\ocr\\lib\\site-packages (from paddleocr) (3.10.0)\n",
      "Requirement already satisfied: pdf2docx in d:\\software\\anaconda\\envs\\ocr\\lib\\site-packages (from paddleocr) (0.5.6)\n",
      "Requirement already satisfied: opencv-python in d:\\software\\anaconda\\envs\\ocr\\lib\\site-packages (from paddleocr) (4.6.0.66)\n",
      "Requirement already satisfied: PyMuPDF<1.21.0 in d:\\software\\anaconda\\envs\\ocr\\lib\\site-packages (from paddleocr) (1.20.2)\n",
      "Requirement already satisfied: opencv-contrib-python in d:\\software\\anaconda\\envs\\ocr\\lib\\site-packages (from paddleocr) (4.6.0.66)\n",
      "Requirement already satisfied: openpyxl in d:\\software\\anaconda\\envs\\ocr\\lib\\site-packages (from paddleocr) (3.0.10)\n",
      "Requirement already satisfied: imgaug in d:\\software\\anaconda\\envs\\ocr\\lib\\site-packages (from paddleocr) (0.4.0)\n",
      "Requirement already satisfied: fonttools>=4.24.0 in c:\\users\\zikun\\appdata\\roaming\\python\\python38\\site-packages (from paddleocr) (4.33.3)\n",
      "Requirement already satisfied: beautifulsoup4 in d:\\software\\anaconda\\envs\\ocr\\lib\\site-packages (from paddleocr) (4.11.1)\n",
      "Requirement already satisfied: termcolor in d:\\software\\anaconda\\envs\\ocr\\lib\\site-packages (from fire>=0.3.0->paddleocr) (2.1.1)\n",
      "Requirement already satisfied: six in d:\\software\\anaconda\\envs\\ocr\\lib\\site-packages (from fire>=0.3.0->paddleocr) (1.16.0)\n",
      "Requirement already satisfied: soupsieve>1.2 in d:\\software\\anaconda\\envs\\ocr\\lib\\site-packages (from beautifulsoup4->paddleocr) (2.3.2.post1)\n",
      "Requirement already satisfied: imageio in d:\\software\\anaconda\\envs\\ocr\\lib\\site-packages (from imgaug->paddleocr) (2.22.4)\n",
      "Requirement already satisfied: matplotlib in c:\\users\\zikun\\appdata\\roaming\\python\\python38\\site-packages (from imgaug->paddleocr) (3.5.1)\n",
      "Requirement already satisfied: scipy in d:\\software\\anaconda\\envs\\ocr\\lib\\site-packages (from imgaug->paddleocr) (1.9.3)\n",
      "Requirement already satisfied: Pillow in d:\\software\\anaconda\\envs\\ocr\\lib\\site-packages (from imgaug->paddleocr) (9.3.0)\n",
      "Requirement already satisfied: networkx>=2.2 in d:\\software\\anaconda\\envs\\ocr\\lib\\site-packages (from scikit-image->paddleocr) (2.8.8)\n",
      "Requirement already satisfied: PyWavelets>=1.1.1 in d:\\software\\anaconda\\envs\\ocr\\lib\\site-packages (from scikit-image->paddleocr) (1.4.1)\n",
      "Requirement already satisfied: packaging>=20.0 in d:\\software\\anaconda\\envs\\ocr\\lib\\site-packages (from scikit-image->paddleocr) (21.3)\n",
      "Requirement already satisfied: tifffile>=2019.7.26 in d:\\software\\anaconda\\envs\\ocr\\lib\\site-packages (from scikit-image->paddleocr) (2022.10.10)\n",
      "Requirement already satisfied: et-xmlfile in d:\\software\\anaconda\\envs\\ocr\\lib\\site-packages (from openpyxl->paddleocr) (1.1.0)\n",
      "Requirement already satisfied: requests in c:\\users\\zikun\\appdata\\roaming\\python\\python38\\site-packages (from premailer->paddleocr) (2.25.1)\n",
      "Requirement already satisfied: cssselect in d:\\software\\anaconda\\envs\\ocr\\lib\\site-packages (from premailer->paddleocr) (1.2.0)\n",
      "Requirement already satisfied: cssutils in d:\\software\\anaconda\\envs\\ocr\\lib\\site-packages (from premailer->paddleocr) (2.6.0)\n",
      "Requirement already satisfied: cachetools in d:\\software\\anaconda\\envs\\ocr\\lib\\site-packages (from premailer->paddleocr) (5.2.0)\n",
      "Requirement already satisfied: colorama in d:\\software\\anaconda\\envs\\ocr\\lib\\site-packages (from tqdm->paddleocr) (0.4.6)\n",
      "Requirement already satisfied: multiprocess in d:\\software\\anaconda\\envs\\ocr\\lib\\site-packages (from visualdl->paddleocr) (0.70.14)\n",
      "Requirement already satisfied: Flask-Babel>=1.0.0 in d:\\software\\anaconda\\envs\\ocr\\lib\\site-packages (from visualdl->paddleocr) (2.0.0)\n",
      "Requirement already satisfied: bce-python-sdk in d:\\software\\anaconda\\envs\\ocr\\lib\\site-packages (from visualdl->paddleocr) (0.8.74)\n",
      "Requirement already satisfied: pandas in c:\\users\\zikun\\appdata\\roaming\\python\\python38\\site-packages (from visualdl->paddleocr) (1.2.4)\n",
      "Requirement already satisfied: protobuf>=3.11.0 in d:\\software\\anaconda\\envs\\ocr\\lib\\site-packages (from visualdl->paddleocr) (3.20.0)\n",
      "Requirement already satisfied: flask>=1.1.1 in d:\\software\\anaconda\\envs\\ocr\\lib\\site-packages (from visualdl->paddleocr) (2.2.2)\n",
      "Requirement already satisfied: Jinja2>=3.0 in d:\\software\\anaconda\\envs\\ocr\\lib\\site-packages (from flask>=1.1.1->visualdl->paddleocr) (3.1.2)\n",
      "Requirement already satisfied: itsdangerous>=2.0 in d:\\software\\anaconda\\envs\\ocr\\lib\\site-packages (from flask>=1.1.1->visualdl->paddleocr) (2.1.2)\n",
      "Requirement already satisfied: importlib-metadata>=3.6.0 in d:\\software\\anaconda\\envs\\ocr\\lib\\site-packages (from flask>=1.1.1->visualdl->paddleocr) (5.1.0)\n",
      "Requirement already satisfied: Werkzeug>=2.2.2 in d:\\software\\anaconda\\envs\\ocr\\lib\\site-packages (from flask>=1.1.1->visualdl->paddleocr) (2.2.2)\n",
      "Requirement already satisfied: click>=8.0 in d:\\software\\anaconda\\envs\\ocr\\lib\\site-packages (from flask>=1.1.1->visualdl->paddleocr) (8.1.3)\n",
      "Requirement already satisfied: Babel>=2.3 in d:\\software\\anaconda\\envs\\ocr\\lib\\site-packages (from Flask-Babel>=1.0.0->visualdl->paddleocr) (2.11.0)\n",
      "Requirement already satisfied: pytz in d:\\software\\anaconda\\envs\\ocr\\lib\\site-packages (from Flask-Babel>=1.0.0->visualdl->paddleocr) (2022.6)\n",
      "Requirement already satisfied: pyparsing!=3.0.5,>=2.0.2 in d:\\software\\anaconda\\envs\\ocr\\lib\\site-packages (from packaging>=20.0->scikit-image->paddleocr) (3.0.9)\n",
      "Requirement already satisfied: pycryptodome>=3.8.0 in d:\\software\\anaconda\\envs\\ocr\\lib\\site-packages (from bce-python-sdk->visualdl->paddleocr) (3.15.0)\n",
      "Requirement already satisfied: future>=0.6.0 in d:\\software\\anaconda\\envs\\ocr\\lib\\site-packages (from bce-python-sdk->visualdl->paddleocr) (0.18.2)\n",
      "Requirement already satisfied: python-dateutil>=2.7 in d:\\software\\anaconda\\envs\\ocr\\lib\\site-packages (from matplotlib->imgaug->paddleocr) (2.8.2)\n",
      "Requirement already satisfied: cycler>=0.10 in c:\\users\\zikun\\appdata\\roaming\\python\\python38\\site-packages (from matplotlib->imgaug->paddleocr) (0.11.0)\n",
      "Requirement already satisfied: kiwisolver>=1.0.1 in c:\\users\\zikun\\appdata\\roaming\\python\\python38\\site-packages (from matplotlib->imgaug->paddleocr) (1.4.2)\n",
      "Requirement already satisfied: dill>=0.3.6 in d:\\software\\anaconda\\envs\\ocr\\lib\\site-packages (from multiprocess->visualdl->paddleocr) (0.3.6)\n",
      "Requirement already satisfied: urllib3<1.27,>=1.21.1 in d:\\software\\anaconda\\envs\\ocr\\lib\\site-packages (from requests->premailer->paddleocr) (1.26.13)\n",
      "Requirement already satisfied: idna<3,>=2.5 in c:\\users\\zikun\\appdata\\roaming\\python\\python38\\site-packages (from requests->premailer->paddleocr) (2.10)\n",
      "Requirement already satisfied: certifi>=2017.4.17 in d:\\software\\anaconda\\envs\\ocr\\lib\\site-packages (from requests->premailer->paddleocr) (2022.9.24)\n",
      "Requirement already satisfied: chardet<5,>=3.0.2 in c:\\users\\zikun\\appdata\\roaming\\python\\python38\\site-packages (from requests->premailer->paddleocr) (4.0.0)\n",
      "Requirement already satisfied: zipp>=0.5 in d:\\software\\anaconda\\envs\\ocr\\lib\\site-packages (from importlib-metadata>=3.6.0->flask>=1.1.1->visualdl->paddleocr) (3.10.0)\n",
      "Requirement already satisfied: MarkupSafe>=2.0 in d:\\software\\anaconda\\envs\\ocr\\lib\\site-packages (from Jinja2>=3.0->flask>=1.1.1->visualdl->paddleocr) (2.1.1)\n"
     ]
    }
   ],
   "source": [
    "# 安装 PaddlePaddle GPU 版本\n",
    "!pip install paddlepaddle-gpu\n",
    "# 安装 PaddleOCR whl包\n",
    "! pip install -U pip\n",
    "! pip install paddleocr"
   ]
  },
  {
   "cell_type": "markdown",
   "metadata": {},
   "source": [
    "### 1.2 快速预测文字内容\n",
    "\n",
    "PaddleOCR whl包会自动下载ppocr轻量级模型作为默认模型\n",
    "\n",
    "下面展示如何使用whl包进行识别预测：\n",
    "\n",
    "测试图片：\n",
    "\n",
    "![](https://ai-studio-static-online.cdn.bcebos.com/531d9b3aff45449893b33bcb5dd13971057fcb4038f045578b3abd99fa3a96f2)"
   ]
  },
  {
   "cell_type": "code",
   "execution_count": 5,
   "metadata": {
    "collapsed": false,
    "jupyter": {
     "outputs_hidden": false
    }
   },
   "outputs": [
    {
     "name": "stdout",
     "output_type": "stream",
     "text": [
      "[2023/01/02 19:49:23] ppocr DEBUG: Namespace(alpha=1.0, benchmark=False, beta=1.0, cls_batch_num=6, cls_image_shape='3, 48, 192', cls_model_dir='C:\\\\Users\\\\zikun/.paddleocr/whl\\\\cls\\\\ch_ppocr_mobile_v2.0_cls_infer', cls_thresh=0.9, cpu_threads=10, crop_res_save_dir='./output', det=True, det_algorithm='DB', det_box_type='quad', det_db_box_thresh=0.6, det_db_score_mode='fast', det_db_thresh=0.3, det_db_unclip_ratio=1.5, det_east_cover_thresh=0.1, det_east_nms_thresh=0.2, det_east_score_thresh=0.8, det_limit_side_len=960, det_limit_type='max', det_model_dir='C:\\\\Users\\\\zikun/.paddleocr/whl\\\\det\\\\ch\\\\ch_PP-OCRv3_det_infer', det_pse_box_thresh=0.85, det_pse_min_area=16, det_pse_scale=1, det_pse_thresh=0, det_sast_nms_thresh=0.2, det_sast_score_thresh=0.5, draw_img_save_dir='./inference_results', drop_score=0.5, e2e_algorithm='PGNet', e2e_char_dict_path='./ppocr/utils/ic15_dict.txt', e2e_limit_side_len=768, e2e_limit_type='max', e2e_model_dir=None, e2e_pgnet_mode='fast', e2e_pgnet_score_thresh=0.5, e2e_pgnet_valid_set='totaltext', enable_mkldnn=False, fourier_degree=5, gpu_mem=500, help='==SUPPRESS==', image_dir=None, image_orientation=False, ir_optim=True, kie_algorithm='LayoutXLM', label_list=['0', '180'], lang='ch', layout=True, layout_dict_path=None, layout_model_dir=None, layout_nms_threshold=0.5, layout_score_threshold=0.5, max_batch_size=10, max_text_length=25, merge_no_span_structure=True, min_subgraph_size=15, mode='structure', ocr=True, ocr_order_method=None, ocr_version='PP-OCRv3', output='./output', page_num=0, precision='fp32', process_id=0, re_model_dir=None, rec=True, rec_algorithm='SVTR_LCNet', rec_batch_num=6, rec_char_dict_path='D:\\\\software\\\\anaconda\\\\envs\\\\ocr\\\\lib\\\\site-packages\\\\paddleocr\\\\ppocr\\\\utils\\\\ppocr_keys_v1.txt', rec_image_inverse=True, rec_image_shape='3, 48, 320', rec_model_dir='C:\\\\Users\\\\zikun/.paddleocr/whl\\\\rec\\\\ch\\\\ch_PP-OCRv3_rec_infer', recovery=False, save_crop_res=False, save_log_path='./log_output/', scales=[8, 16, 32], ser_dict_path='../train_data/XFUND/class_list_xfun.txt', ser_model_dir=None, show_log=True, sr_batch_num=1, sr_image_shape='3, 32, 128', sr_model_dir=None, structure_version='PP-StructureV2', table=True, table_algorithm='TableAttn', table_char_dict_path=None, table_max_len=488, table_model_dir=None, total_process_num=1, type='ocr', use_angle_cls=False, use_dilation=False, use_gpu=True, use_mp=False, use_npu=False, use_onnx=False, use_pdf2docx_api=False, use_pdserving=False, use_space_char=True, use_tensorrt=False, use_visual_backbone=True, use_xpu=False, vis_font_path='./doc/fonts/simfang.ttf', warmup=False)\n",
      "[2023/01/02 19:49:25] ppocr WARNING: Since the angle classifier is not initialized, the angle classifier will not be uesd during the forward process\n"
     ]
    },
    {
     "ename": "RuntimeError",
     "evalue": "(PreconditionNotMet) The third-party dynamic library (cudnn64_7.dll) that Paddle depends on is not configured correctly. (error code is 126)\n  Suggestions:\n  1. Check if the third-party dynamic library (e.g. CUDA, CUDNN) is installed correctly and its version is matched with paddlepaddle you installed.\n  2. Configure third-party dynamic library environment variables as follows:\n  - Linux: set LD_LIBRARY_PATH by `export LD_LIBRARY_PATH=...`\n  - Windows: set PATH by `set PATH=XXX; (at ..\\paddle\\phi\\backends\\dynload\\dynamic_loader.cc:305)\n",
     "output_type": "error",
     "traceback": [
      "\u001b[1;31m---------------------------------------------------------------------------\u001b[0m",
      "\u001b[1;31mRuntimeError\u001b[0m                              Traceback (most recent call last)",
      "Cell \u001b[1;32mIn [5], line 5\u001b[0m\n\u001b[0;32m      3\u001b[0m ocr \u001b[38;5;241m=\u001b[39m PaddleOCR()  \u001b[38;5;66;03m# need to run only once to download and load model into memory\u001b[39;00m\n\u001b[0;32m      4\u001b[0m img_path \u001b[38;5;241m=\u001b[39m \u001b[38;5;124m'\u001b[39m\u001b[38;5;124mD:/github/GZK_Code/ocr/2023.01.02/knu.png\u001b[39m\u001b[38;5;124m'\u001b[39m\n\u001b[1;32m----> 5\u001b[0m result \u001b[38;5;241m=\u001b[39m \u001b[43mocr\u001b[49m\u001b[38;5;241;43m.\u001b[39;49m\u001b[43mocr\u001b[49m\u001b[43m(\u001b[49m\u001b[43mimg_path\u001b[49m\u001b[43m,\u001b[49m\u001b[43m \u001b[49m\u001b[43mdet\u001b[49m\u001b[38;5;241;43m=\u001b[39;49m\u001b[38;5;28;43;01mFalse\u001b[39;49;00m\u001b[43m)\u001b[49m\n\u001b[0;32m      6\u001b[0m \u001b[38;5;28;01mfor\u001b[39;00m line \u001b[38;5;129;01min\u001b[39;00m result:\n\u001b[0;32m      7\u001b[0m     \u001b[38;5;28mprint\u001b[39m(line)\n",
      "File \u001b[1;32mD:\\software\\anaconda\\envs\\ocr\\lib\\site-packages\\paddleocr\\paddleocr.py:556\u001b[0m, in \u001b[0;36mPaddleOCR.ocr\u001b[1;34m(self, img, det, rec, cls)\u001b[0m\n\u001b[0;32m    554\u001b[0m         \u001b[38;5;28;01mif\u001b[39;00m \u001b[38;5;129;01mnot\u001b[39;00m rec:\n\u001b[0;32m    555\u001b[0m             cls_res\u001b[38;5;241m.\u001b[39mappend(cls_res_tmp)\n\u001b[1;32m--> 556\u001b[0m     rec_res, elapse \u001b[38;5;241m=\u001b[39m \u001b[38;5;28;43mself\u001b[39;49m\u001b[38;5;241;43m.\u001b[39;49m\u001b[43mtext_recognizer\u001b[49m\u001b[43m(\u001b[49m\u001b[43mimg\u001b[49m\u001b[43m)\u001b[49m\n\u001b[0;32m    557\u001b[0m     ocr_res\u001b[38;5;241m.\u001b[39mappend(rec_res)\n\u001b[0;32m    558\u001b[0m \u001b[38;5;28;01mif\u001b[39;00m \u001b[38;5;129;01mnot\u001b[39;00m rec:\n",
      "File \u001b[1;32mD:\\software\\anaconda\\envs\\ocr\\lib\\site-packages\\paddleocr\\tools\\infer\\predict_rec.py:607\u001b[0m, in \u001b[0;36mTextRecognizer.__call__\u001b[1;34m(self, img_list)\u001b[0m\n\u001b[0;32m    605\u001b[0m     preds \u001b[38;5;241m=\u001b[39m outputs[\u001b[38;5;241m0\u001b[39m]\n\u001b[0;32m    606\u001b[0m \u001b[38;5;28;01melse\u001b[39;00m:\n\u001b[1;32m--> 607\u001b[0m     \u001b[38;5;28;43mself\u001b[39;49m\u001b[38;5;241;43m.\u001b[39;49m\u001b[43minput_tensor\u001b[49m\u001b[38;5;241;43m.\u001b[39;49m\u001b[43mcopy_from_cpu\u001b[49m\u001b[43m(\u001b[49m\u001b[43mnorm_img_batch\u001b[49m\u001b[43m)\u001b[49m\n\u001b[0;32m    608\u001b[0m     \u001b[38;5;28mself\u001b[39m\u001b[38;5;241m.\u001b[39mpredictor\u001b[38;5;241m.\u001b[39mrun()\n\u001b[0;32m    609\u001b[0m     outputs \u001b[38;5;241m=\u001b[39m []\n",
      "File \u001b[1;32mD:\\software\\anaconda\\envs\\ocr\\lib\\site-packages\\paddle\\fluid\\inference\\wrapper.py:38\u001b[0m, in \u001b[0;36mtensor_copy_from_cpu\u001b[1;34m(self, data)\u001b[0m\n\u001b[0;32m     33\u001b[0m \u001b[38;5;124;03m'''\u001b[39;00m\n\u001b[0;32m     34\u001b[0m \u001b[38;5;124;03mSupport input type check based on tensor.copy_from_cpu.\u001b[39;00m\n\u001b[0;32m     35\u001b[0m \u001b[38;5;124;03m'''\u001b[39;00m\n\u001b[0;32m     36\u001b[0m \u001b[38;5;28;01mif\u001b[39;00m \u001b[38;5;28misinstance\u001b[39m(data, np\u001b[38;5;241m.\u001b[39mndarray) \u001b[38;5;129;01mor\u001b[39;00m (\u001b[38;5;28misinstance\u001b[39m(data, \u001b[38;5;28mlist\u001b[39m) \u001b[38;5;129;01mand\u001b[39;00m \u001b[38;5;28mlen\u001b[39m(data) \u001b[38;5;241m>\u001b[39m \u001b[38;5;241m0\u001b[39m\n\u001b[0;32m     37\u001b[0m                                     \u001b[38;5;129;01mand\u001b[39;00m \u001b[38;5;28misinstance\u001b[39m(data[\u001b[38;5;241m0\u001b[39m], \u001b[38;5;28mstr\u001b[39m)):\n\u001b[1;32m---> 38\u001b[0m     \u001b[38;5;28;43mself\u001b[39;49m\u001b[38;5;241;43m.\u001b[39;49m\u001b[43mcopy_from_cpu_bind\u001b[49m\u001b[43m(\u001b[49m\u001b[43mdata\u001b[49m\u001b[43m)\u001b[49m\n\u001b[0;32m     39\u001b[0m \u001b[38;5;28;01melse\u001b[39;00m:\n\u001b[0;32m     40\u001b[0m     \u001b[38;5;28;01mraise\u001b[39;00m \u001b[38;5;167;01mTypeError\u001b[39;00m(\n\u001b[0;32m     41\u001b[0m         \u001b[38;5;124m\"\u001b[39m\u001b[38;5;124mIn copy_from_cpu, we only support numpy ndarray and list[str] data type.\u001b[39m\u001b[38;5;124m\"\u001b[39m\n\u001b[0;32m     42\u001b[0m     )\n",
      "\u001b[1;31mRuntimeError\u001b[0m: (PreconditionNotMet) The third-party dynamic library (cudnn64_7.dll) that Paddle depends on is not configured correctly. (error code is 126)\n  Suggestions:\n  1. Check if the third-party dynamic library (e.g. CUDA, CUDNN) is installed correctly and its version is matched with paddlepaddle you installed.\n  2. Configure third-party dynamic library environment variables as follows:\n  - Linux: set LD_LIBRARY_PATH by `export LD_LIBRARY_PATH=...`\n  - Windows: set PATH by `set PATH=XXX; (at ..\\paddle\\phi\\backends\\dynload\\dynamic_loader.cc:305)\n"
     ]
    }
   ],
   "source": [
    "from paddleocr import PaddleOCR\n",
    "\n",
    "ocr = PaddleOCR()  # need to run only once to download and load model into memory\n",
    "img_path = 'D:/github/GZK_Code/ocr/2023.01.02/knu.png'\n",
    "result = ocr.ocr(img_path, det=False)\n",
    "for line in result:\n",
    "    print(line)"
   ]
  },
  {
   "cell_type": "markdown",
   "metadata": {},
   "source": [
    "执行完上述代码块，将返回识别结果和识别置信度\n",
    "\n",
    "```\n",
    "('SLOW', 0.9776376)\n",
    "```\n",
    "\n",
    "至此，你掌握了如何使用 paddleocr whl 包进行预测。`./work/` 路径下有更多测试图片，可以尝试其他图片结果。"
   ]
  },
  {
   "cell_type": "markdown",
   "metadata": {},
   "source": [
    "## 2. 预测原理详解\n",
    "\n",
    "第一节中 paddleocr 加载训练好的 CRNN 识别模型进行预测，本节将详细介绍 CRNN 的原理及流程。\n",
    "\n",
    "### 2.1 所属类别\n",
    "\n",
    "CRNN 是基于CTC的算法，在理论部分介绍的分类图中，处在如下位置。可以看出CRNN主要用于解决规则文本，基于CTC的算法有较快的预测速度并且很好的适用长文本。因此CRNN是PPOCR选择的中文识别算法。\n",
    "<center><img src=https://ai-studio-static-online.cdn.bcebos.com/0e74d46918e5423684e06df8e6eb992cf9f7c485d6c142fb98cc263714559898 width=\"600\"></center>\n",
    "\n",
    "\n",
    "### 2.2 算法详解\n",
    "\n",
    "CRNN 的网络结构体系如下所示，从下往上分别为卷积层、递归层和转录层三部分：\n",
    "\n",
    "<center><img src=https://ai-studio-static-online.cdn.bcebos.com/f6fae3ff66bd413fa182d75782034a2af6aab1994fa148a08e6565f3fb75b18d width=\"600\"></center>\n",
    "\n",
    "1. backbone：\n",
    "\n",
    "卷积网络作为底层的骨干网络，用于从输入图像中提取特征序列。由于 `conv`、`max-pooling`、`elementwise` 和激活函数都作用在局部区域上，所以它们是平移不变的。因此，特征映射的每一列对应于原始图像的一个矩形区域(称为感受野)，并且这些矩形区域与它们在特征映射上对应的列从左到右的顺序相同。由于CNN需要将输入的图像缩放到固定的尺寸以满足其固定的输入维数，因此它不适合长度变化很大的序列对象。为了更好的支持变长序列，CRNN将backbone最后一层输出的特征向量送到了RNN层，转换为序列特征。\n",
    "\n",
    "<center><img src=https://ai-studio-static-online.cdn.bcebos.com/6694818123724b0d92d05b63dc9dfb08c7ced6c47c3b4f4d9b110ae9ccfe941d width=\"600\"></center>\n",
    "\n",
    "2. neck: \n",
    "\n",
    "递归层，在卷积网络的基础上，构建递归网络，将图像特征转换为序列特征，预测每个帧的标签分布。\n",
    "RNN具有很强的捕获序列上下文信息的能力。使用上下文线索进行基于图像的序列识别比单独处理每个像素更有效。以场景文本识别为例，宽字符可能需要几个连续的帧来充分描述。此外，有些歧义字符在观察其上下文时更容易区分。其次，RNN可以将误差差分反向传播回卷积层，使网络可以统一训练。第三，RNN能够对任意长度的序列进行操作，解决了文本图片变长的问题。CRNN使用双层LSTM作为递归层，解决了长序列训练过程中的梯度消失和梯度爆炸问题。\n",
    "\n",
    "<center><img src=https://ai-studio-static-online.cdn.bcebos.com/41cdb7fb08fb4b55923b0baf66b783e46fd063223d05416fa952369ad20ac83c width=\"600\"></center>\n",
    "\n",
    "\n",
    "3. head: \n",
    "\n",
    "转录层，通过全连接网络和softmax激活函数，将每帧的预测转换为最终的标签序列。最后使用 CTC Loss 在无需序列对齐的情况下，完成CNN和RNN的联合训练。CTC 有一套特别的合并序列机制，LSTM输出序列后，需要在时序上分类得到预测结果。可能存在多个时间步对应同一个类别，因此需要对相同结果进行合并。为避免合并本身存在的重复字符，CTC 引入了一个 `blank` 字符插入在重复字符之间。\n",
    "\n",
    "<center><img src=https://ai-studio-static-online.cdn.bcebos.com/bea6be2f5d9d4ac791118737c3f2f140a2a261e0d8a540a3b0ef239b6bcb2c43 width=\"600\"></center>\n",
    "\n"
   ]
  },
  {
   "cell_type": "markdown",
   "metadata": {},
   "source": [
    "### 2.3 代码实现\n",
    "\n",
    "整个网络结构非常简洁，代码实现也相对简单，可以跟随预测流程依次搭建模块。本节需要完成：数据输入、backbone搭建、neck搭建、head搭建。\n",
    "\n",
    "**【数据输入】**\n",
    "\n",
    "数据送入网络前需要缩放到统一尺寸(3,32,320)，并完成归一化处理。这里省略掉训练时需要的数据增强部分，以单张图为例展示预处理的必须步骤（[源码位置](https://github.com/PaddlePaddle/PaddleOCR/blob/release/2.3/ppocr/data/imaug/rec_img_aug.py#L126)）：\n"
   ]
  },
  {
   "cell_type": "code",
   "execution_count": 1,
   "metadata": {
    "collapsed": false,
    "jupyter": {
     "outputs_hidden": false
    }
   },
   "outputs": [],
   "source": [
    "import cv2\n",
    "import math\n",
    "import numpy as np\n",
    "\n",
    "def resize_norm_img(img):\n",
    "    \"\"\"\n",
    "    数据缩放和归一化\n",
    "    :param img: 输入图片\n",
    "    \"\"\"\n",
    "\n",
    "    # 默认输入尺寸\n",
    "    imgC = 3\n",
    "    imgH = 32\n",
    "    imgW = 320\n",
    "\n",
    "    # 图片的真实高宽\n",
    "    h, w = img.shape[:2]\n",
    "    # 图片真实长宽比\n",
    "    ratio = w / float(h)\n",
    "\n",
    "    # 按比例缩放\n",
    "    if math.ceil(imgH * ratio) > imgW:\n",
    "        # 如大于默认宽度，则宽度为imgW\n",
    "        resized_w = imgW\n",
    "    else:\n",
    "        # 如小于默认宽度则以图片真实宽为准\n",
    "        resized_w = int(math.ceil(imgH * ratio))\n",
    "    # 缩放\n",
    "    resized_image = cv2.resize(img, (resized_w, imgH))\n",
    "    resized_image = resized_image.astype('float32')\n",
    "    # 归一化\n",
    "    resized_image = resized_image.transpose((2, 0, 1)) / 255\n",
    "    resized_image -= 0.5\n",
    "    resized_image /= 0.5\n",
    "    # 对宽度不足的位置，补0\n",
    "    padding_im = np.zeros((imgC, imgH, imgW), dtype=np.float32)\n",
    "    padding_im[:, :, 0:resized_w] = resized_image\n",
    "    # 转置 padding 后的图片用于可视化\n",
    "    draw_img = padding_im.transpose((1,2,0))\n",
    "    return padding_im, draw_img\n"
   ]
  },
  {
   "cell_type": "code",
   "execution_count": 8,
   "metadata": {
    "collapsed": false,
    "jupyter": {
     "outputs_hidden": false
    }
   },
   "outputs": [
    {
     "name": "stderr",
     "output_type": "stream",
     "text": [
      "Clipping input data to the valid range for imshow with RGB data ([0..1] for floats or [0..255] for integers).\n"
     ]
    },
    {
     "data": {
      "image/png": "[encoded data removed]",
      "text/plain": [
       "<Figure size 640x480 with 2 Axes>"
      ]
     },
     "metadata": {},
     "output_type": "display_data"
    }
   ],
   "source": [
    "import matplotlib.pyplot as plt\n",
    "# 读图\n",
    "raw_img = cv2.imread(\"../knu.png\")\n",
    "plt.figure()\n",
    "plt.subplot(2,1,1)\n",
    "# 可视化原图\n",
    "plt.imshow(raw_img)\n",
    "# 缩放并归一化\n",
    "padding_im, draw_img = resize_norm_img(raw_img)\n",
    "plt.subplot(2,1,2)\n",
    "# 可视化网络输入图\n",
    "plt.imshow(draw_img)\n",
    "plt.show()"
   ]
  },
  {
   "cell_type": "markdown",
   "metadata": {},
   "source": [
    "**【网络结构】**\n",
    "\n",
    "* backbone\n",
    "\n",
    "PaddleOCR 使用 MobileNetV3 作为骨干网络，组网顺序与网络结构一致。首先，定义网络中的公共模块([源码位置](https://github.com/PaddlePaddle/PaddleOCR/blob/release/2.3/ppocr/modeling/backbones/rec_mobilenet_v3.py))：`ConvBNLayer`、`ResidualUnit`、`make_divisible`。"
   ]
  },
  {
   "cell_type": "code",
   "execution_count": 9,
   "metadata": {
    "collapsed": false,
    "jupyter": {
     "outputs_hidden": false
    }
   },
   "outputs": [],
   "source": [
    "import paddle\n",
    "import paddle.nn as nn\n",
    "import paddle.nn.functional as F\n",
    "\n",
    "class ConvBNLayer(nn.Layer):\n",
    "    def __init__(self,\n",
    "                 in_channels,\n",
    "                 out_channels,\n",
    "                 kernel_size,\n",
    "                 stride,\n",
    "                 padding,\n",
    "                 groups=1,\n",
    "                 if_act=True,\n",
    "                 act=None):\n",
    "        \"\"\"\n",
    "        卷积BN层\n",
    "        :param in_channels: 输入通道数\n",
    "        :param out_channels: 输出通道数\n",
    "        :param kernel_size: 卷积核尺寸\n",
    "        :parma stride: 步长大小\n",
    "        :param padding: 填充大小\n",
    "        :param groups: 二维卷积层的组数\n",
    "        :param if_act: 是否添加激活函数\n",
    "        :param act: 激活函数\n",
    "        \"\"\"\n",
    "        super(ConvBNLayer, self).__init__()\n",
    "        self.if_act = if_act\n",
    "        self.act = act\n",
    "        self.conv = nn.Conv2D(\n",
    "            in_channels=in_channels,\n",
    "            out_channels=out_channels,\n",
    "            kernel_size=kernel_size,\n",
    "            stride=stride,\n",
    "            padding=padding,\n",
    "            groups=groups,\n",
    "            bias_attr=False)\n",
    "\n",
    "        self.bn = nn.BatchNorm(num_channels=out_channels, act=None)\n",
    "\n",
    "    def forward(self, x):\n",
    "        # conv层\n",
    "        x = self.conv(x)\n",
    "        # batchnorm层\n",
    "        x = self.bn(x)\n",
    "        # 是否使用激活函数\n",
    "        if self.if_act:\n",
    "            if self.act == \"relu\":\n",
    "                x = F.relu(x)\n",
    "            elif self.act == \"hardswish\":\n",
    "                x = F.hardswish(x)\n",
    "            else:\n",
    "                print(\"The activation function({}) is selected incorrectly.\".\n",
    "                      format(self.act))\n",
    "                exit()\n",
    "        return x\n",
    "\n",
    "class SEModule(nn.Layer):\n",
    "    def __init__(self, in_channels, reduction=4):\n",
    "        \"\"\"\n",
    "        SE模块\n",
    "        :param in_channels: 输入通道数\n",
    "        :param reduction: 通道缩放率\n",
    "        \"\"\"        \n",
    "        super(SEModule, self).__init__()\n",
    "        self.avg_pool = nn.AdaptiveAvgPool2D(1)\n",
    "        self.conv1 = nn.Conv2D(\n",
    "            in_channels=in_channels,\n",
    "            out_channels=in_channels // reduction,\n",
    "            kernel_size=1,\n",
    "            stride=1,\n",
    "            padding=0)\n",
    "        self.conv2 = nn.Conv2D(\n",
    "            in_channels=in_channels // reduction,\n",
    "            out_channels=in_channels,\n",
    "            kernel_size=1,\n",
    "            stride=1,\n",
    "            padding=0)\n",
    "\n",
    "    def forward(self, inputs):\n",
    "        # 平均池化\n",
    "        outputs = self.avg_pool(inputs)\n",
    "        # 第一个卷积层\n",
    "        outputs = self.conv1(outputs)\n",
    "        # relu激活函数\n",
    "        outputs = F.relu(outputs)\n",
    "        # 第二个卷积层\n",
    "        outputs = self.conv2(outputs)\n",
    "        # hardsigmoid 激活函数\n",
    "        outputs = F.hardsigmoid(outputs, slope=0.2, offset=0.5)\n",
    "        return inputs * outputs\n",
    "\n",
    "\n",
    "class ResidualUnit(nn.Layer):\n",
    "    def __init__(self,\n",
    "                 in_channels,\n",
    "                 mid_channels,\n",
    "                 out_channels,\n",
    "                 kernel_size,\n",
    "                 stride,\n",
    "                 use_se,\n",
    "                 act=None):\n",
    "        \"\"\"\n",
    "        残差层\n",
    "        :param in_channels: 输入通道数\n",
    "        :param mid_channels: 中间通道数\n",
    "        :param out_channels: 输出通道数\n",
    "        :param kernel_size: 卷积核尺寸\n",
    "        :parma stride: 步长大小\n",
    "        :param use_se: 是否使用se模块\n",
    "        :param act: 激活函数\n",
    "        \"\"\" \n",
    "        super(ResidualUnit, self).__init__()\n",
    "        self.if_shortcut = stride == 1 and in_channels == out_channels\n",
    "        self.if_se = use_se\n",
    "\n",
    "        self.expand_conv = ConvBNLayer(\n",
    "            in_channels=in_channels,\n",
    "            out_channels=mid_channels,\n",
    "            kernel_size=1,\n",
    "            stride=1,\n",
    "            padding=0,\n",
    "            if_act=True,\n",
    "            act=act)\n",
    "        self.bottleneck_conv = ConvBNLayer(\n",
    "            in_channels=mid_channels,\n",
    "            out_channels=mid_channels,\n",
    "            kernel_size=kernel_size,\n",
    "            stride=stride,\n",
    "            padding=int((kernel_size - 1) // 2),\n",
    "            groups=mid_channels,\n",
    "            if_act=True,\n",
    "            act=act)\n",
    "        if self.if_se:\n",
    "            self.mid_se = SEModule(mid_channels)\n",
    "        self.linear_conv = ConvBNLayer(\n",
    "            in_channels=mid_channels,\n",
    "            out_channels=out_channels,\n",
    "            kernel_size=1,\n",
    "            stride=1,\n",
    "            padding=0,\n",
    "            if_act=False,\n",
    "            act=None)\n",
    "\n",
    "    def forward(self, inputs):\n",
    "        x = self.expand_conv(inputs)\n",
    "        x = self.bottleneck_conv(x)\n",
    "        if self.if_se:\n",
    "            x = self.mid_se(x)\n",
    "        x = self.linear_conv(x)\n",
    "        if self.if_shortcut:\n",
    "            x = paddle.add(inputs, x)\n",
    "        return x\n",
    "\n",
    "\n",
    "def make_divisible(v, divisor=8, min_value=None):\n",
    "    \"\"\"\n",
    "    确保被8整除\n",
    "    \"\"\" \n",
    "    if min_value is None:\n",
    "        min_value = divisor\n",
    "    new_v = max(min_value, int(v + divisor / 2) // divisor * divisor)\n",
    "    if new_v < 0.9 * v:\n",
    "        new_v += divisor\n",
    "    return new_v\n"
   ]
  },
  {
   "cell_type": "markdown",
   "metadata": {},
   "source": [
    "利用公共模块搭建骨干网络："
   ]
  },
  {
   "cell_type": "code",
   "execution_count": 10,
   "metadata": {
    "collapsed": false,
    "jupyter": {
     "outputs_hidden": false
    }
   },
   "outputs": [],
   "source": [
    "class MobileNetV3(nn.Layer):\n",
    "    def __init__(self,\n",
    "                 in_channels=3,\n",
    "                 model_name='small',\n",
    "                 scale=0.5,\n",
    "                 small_stride=None,\n",
    "                 disable_se=False,\n",
    "                 **kwargs):\n",
    "        super(MobileNetV3, self).__init__()\n",
    "        self.disable_se = disable_se\n",
    "        \n",
    "        small_stride = [1, 2, 2, 2]\n",
    "\n",
    "        if model_name == \"small\":\n",
    "            cfg = [\n",
    "                # k, exp, c,  se,     nl,  s,\n",
    "                [3, 16, 16, True, 'relu', (small_stride[0], 1)],\n",
    "                [3, 72, 24, False, 'relu', (small_stride[1], 1)],\n",
    "                [3, 88, 24, False, 'relu', 1],\n",
    "                [5, 96, 40, True, 'hardswish', (small_stride[2], 1)],\n",
    "                [5, 240, 40, True, 'hardswish', 1],\n",
    "                [5, 240, 40, True, 'hardswish', 1],\n",
    "                [5, 120, 48, True, 'hardswish', 1],\n",
    "                [5, 144, 48, True, 'hardswish', 1],\n",
    "                [5, 288, 96, True, 'hardswish', (small_stride[3], 1)],\n",
    "                [5, 576, 96, True, 'hardswish', 1],\n",
    "                [5, 576, 96, True, 'hardswish', 1],\n",
    "            ]\n",
    "            cls_ch_squeeze = 576\n",
    "        else:\n",
    "            raise NotImplementedError(\"mode[\" + model_name +\n",
    "                                      \"_model] is not implemented!\")\n",
    "\n",
    "        supported_scale = [0.35, 0.5, 0.75, 1.0, 1.25]\n",
    "        assert scale in supported_scale, \\\n",
    "            \"supported scales are {} but input scale is {}\".format(supported_scale, scale)\n",
    "\n",
    "        inplanes = 16\n",
    "        # conv1\n",
    "        self.conv1 = ConvBNLayer(\n",
    "            in_channels=in_channels,\n",
    "            out_channels=make_divisible(inplanes * scale),\n",
    "            kernel_size=3,\n",
    "            stride=2,\n",
    "            padding=1,\n",
    "            groups=1,\n",
    "            if_act=True,\n",
    "            act='hardswish')\n",
    "        i = 0\n",
    "        block_list = []\n",
    "        inplanes = make_divisible(inplanes * scale)\n",
    "        for (k, exp, c, se, nl, s) in cfg:\n",
    "            se = se and not self.disable_se\n",
    "            block_list.append(\n",
    "                ResidualUnit(\n",
    "                    in_channels=inplanes,\n",
    "                    mid_channels=make_divisible(scale * exp),\n",
    "                    out_channels=make_divisible(scale * c),\n",
    "                    kernel_size=k,\n",
    "                    stride=s,\n",
    "                    use_se=se,\n",
    "                    act=nl))\n",
    "            inplanes = make_divisible(scale * c)\n",
    "            i += 1\n",
    "        self.blocks = nn.Sequential(*block_list)\n",
    "\n",
    "        self.conv2 = ConvBNLayer(\n",
    "            in_channels=inplanes,\n",
    "            out_channels=make_divisible(scale * cls_ch_squeeze),\n",
    "            kernel_size=1,\n",
    "            stride=1,\n",
    "            padding=0,\n",
    "            groups=1,\n",
    "            if_act=True,\n",
    "            act='hardswish')\n",
    "\n",
    "        self.pool = nn.MaxPool2D(kernel_size=2, stride=2, padding=0)\n",
    "        self.out_channels = make_divisible(scale * cls_ch_squeeze)\n",
    "\n",
    "    def forward(self, x):\n",
    "        x = self.conv1(x)\n",
    "        x = self.blocks(x)\n",
    "        x = self.conv2(x)\n",
    "        x = self.pool(x)\n",
    "        return x\n"
   ]
  },
  {
   "cell_type": "markdown",
   "metadata": {},
   "source": [
    "至此就完成了骨干网络的定义，可通过 paddle.summary 结构可视化整个网络结构："
   ]
  },
  {
   "cell_type": "code",
   "execution_count": 11,
   "metadata": {
    "collapsed": false,
    "jupyter": {
     "outputs_hidden": false
    }
   },
   "outputs": [
    {
     "ename": "RuntimeError",
     "evalue": "(PreconditionNotMet) The third-party dynamic library (cudnn64_7.dll) that Paddle depends on is not configured correctly. (error code is 126)\n  Suggestions:\n  1. Check if the third-party dynamic library (e.g. CUDA, CUDNN) is installed correctly and its version is matched with paddlepaddle you installed.\n  2. Configure third-party dynamic library environment variables as follows:\n  - Linux: set LD_LIBRARY_PATH by `export LD_LIBRARY_PATH=...`\n  - Windows: set PATH by `set PATH=XXX; (at ..\\paddle\\phi\\backends\\dynload\\dynamic_loader.cc:305)\n",
     "output_type": "error",
     "traceback": [
      "\u001b[1;31m---------------------------------------------------------------------------\u001b[0m",
      "\u001b[1;31mRuntimeError\u001b[0m                              Traceback (most recent call last)",
      "Cell \u001b[1;32mIn [11], line 8\u001b[0m\n\u001b[0;32m      4\u001b[0m IMAGE_SHAPE_W \u001b[38;5;241m=\u001b[39m \u001b[38;5;241m320\u001b[39m\n\u001b[0;32m      7\u001b[0m \u001b[38;5;66;03m# 可视化网络结构\u001b[39;00m\n\u001b[1;32m----> 8\u001b[0m paddle\u001b[38;5;241m.\u001b[39msummary(\u001b[43mMobileNetV3\u001b[49m\u001b[43m(\u001b[49m\u001b[43m)\u001b[49m,[(\u001b[38;5;241m1\u001b[39m, IMAGE_SHAPE_C, IMAGE_SHAPE_H, IMAGE_SHAPE_W)])\n",
      "Cell \u001b[1;32mIn [10], line 40\u001b[0m, in \u001b[0;36mMobileNetV3.__init__\u001b[1;34m(self, in_channels, model_name, scale, small_stride, disable_se, **kwargs)\u001b[0m\n\u001b[0;32m     38\u001b[0m inplanes \u001b[38;5;241m=\u001b[39m \u001b[38;5;241m16\u001b[39m\n\u001b[0;32m     39\u001b[0m \u001b[38;5;66;03m# conv1\u001b[39;00m\n\u001b[1;32m---> 40\u001b[0m \u001b[38;5;28mself\u001b[39m\u001b[38;5;241m.\u001b[39mconv1 \u001b[38;5;241m=\u001b[39m \u001b[43mConvBNLayer\u001b[49m\u001b[43m(\u001b[49m\n\u001b[0;32m     41\u001b[0m \u001b[43m    \u001b[49m\u001b[43min_channels\u001b[49m\u001b[38;5;241;43m=\u001b[39;49m\u001b[43min_channels\u001b[49m\u001b[43m,\u001b[49m\n\u001b[0;32m     42\u001b[0m \u001b[43m    \u001b[49m\u001b[43mout_channels\u001b[49m\u001b[38;5;241;43m=\u001b[39;49m\u001b[43mmake_divisible\u001b[49m\u001b[43m(\u001b[49m\u001b[43minplanes\u001b[49m\u001b[43m \u001b[49m\u001b[38;5;241;43m*\u001b[39;49m\u001b[43m \u001b[49m\u001b[43mscale\u001b[49m\u001b[43m)\u001b[49m\u001b[43m,\u001b[49m\n\u001b[0;32m     43\u001b[0m \u001b[43m    \u001b[49m\u001b[43mkernel_size\u001b[49m\u001b[38;5;241;43m=\u001b[39;49m\u001b[38;5;241;43m3\u001b[39;49m\u001b[43m,\u001b[49m\n\u001b[0;32m     44\u001b[0m \u001b[43m    \u001b[49m\u001b[43mstride\u001b[49m\u001b[38;5;241;43m=\u001b[39;49m\u001b[38;5;241;43m2\u001b[39;49m\u001b[43m,\u001b[49m\n\u001b[0;32m     45\u001b[0m \u001b[43m    \u001b[49m\u001b[43mpadding\u001b[49m\u001b[38;5;241;43m=\u001b[39;49m\u001b[38;5;241;43m1\u001b[39;49m\u001b[43m,\u001b[49m\n\u001b[0;32m     46\u001b[0m \u001b[43m    \u001b[49m\u001b[43mgroups\u001b[49m\u001b[38;5;241;43m=\u001b[39;49m\u001b[38;5;241;43m1\u001b[39;49m\u001b[43m,\u001b[49m\n\u001b[0;32m     47\u001b[0m \u001b[43m    \u001b[49m\u001b[43mif_act\u001b[49m\u001b[38;5;241;43m=\u001b[39;49m\u001b[38;5;28;43;01mTrue\u001b[39;49;00m\u001b[43m,\u001b[49m\n\u001b[0;32m     48\u001b[0m \u001b[43m    \u001b[49m\u001b[43mact\u001b[49m\u001b[38;5;241;43m=\u001b[39;49m\u001b[38;5;124;43m'\u001b[39;49m\u001b[38;5;124;43mhardswish\u001b[39;49m\u001b[38;5;124;43m'\u001b[39;49m\u001b[43m)\u001b[49m\n\u001b[0;32m     49\u001b[0m i \u001b[38;5;241m=\u001b[39m \u001b[38;5;241m0\u001b[39m\n\u001b[0;32m     50\u001b[0m block_list \u001b[38;5;241m=\u001b[39m []\n",
      "Cell \u001b[1;32mIn [9], line 29\u001b[0m, in \u001b[0;36mConvBNLayer.__init__\u001b[1;34m(self, in_channels, out_channels, kernel_size, stride, padding, groups, if_act, act)\u001b[0m\n\u001b[0;32m     27\u001b[0m \u001b[38;5;28mself\u001b[39m\u001b[38;5;241m.\u001b[39mif_act \u001b[38;5;241m=\u001b[39m if_act\n\u001b[0;32m     28\u001b[0m \u001b[38;5;28mself\u001b[39m\u001b[38;5;241m.\u001b[39mact \u001b[38;5;241m=\u001b[39m act\n\u001b[1;32m---> 29\u001b[0m \u001b[38;5;28mself\u001b[39m\u001b[38;5;241m.\u001b[39mconv \u001b[38;5;241m=\u001b[39m \u001b[43mnn\u001b[49m\u001b[38;5;241;43m.\u001b[39;49m\u001b[43mConv2D\u001b[49m\u001b[43m(\u001b[49m\n\u001b[0;32m     30\u001b[0m \u001b[43m    \u001b[49m\u001b[43min_channels\u001b[49m\u001b[38;5;241;43m=\u001b[39;49m\u001b[43min_channels\u001b[49m\u001b[43m,\u001b[49m\n\u001b[0;32m     31\u001b[0m \u001b[43m    \u001b[49m\u001b[43mout_channels\u001b[49m\u001b[38;5;241;43m=\u001b[39;49m\u001b[43mout_channels\u001b[49m\u001b[43m,\u001b[49m\n\u001b[0;32m     32\u001b[0m \u001b[43m    \u001b[49m\u001b[43mkernel_size\u001b[49m\u001b[38;5;241;43m=\u001b[39;49m\u001b[43mkernel_size\u001b[49m\u001b[43m,\u001b[49m\n\u001b[0;32m     33\u001b[0m \u001b[43m    \u001b[49m\u001b[43mstride\u001b[49m\u001b[38;5;241;43m=\u001b[39;49m\u001b[43mstride\u001b[49m\u001b[43m,\u001b[49m\n\u001b[0;32m     34\u001b[0m \u001b[43m    \u001b[49m\u001b[43mpadding\u001b[49m\u001b[38;5;241;43m=\u001b[39;49m\u001b[43mpadding\u001b[49m\u001b[43m,\u001b[49m\n\u001b[0;32m     35\u001b[0m \u001b[43m    \u001b[49m\u001b[43mgroups\u001b[49m\u001b[38;5;241;43m=\u001b[39;49m\u001b[43mgroups\u001b[49m\u001b[43m,\u001b[49m\n\u001b[0;32m     36\u001b[0m \u001b[43m    \u001b[49m\u001b[43mbias_attr\u001b[49m\u001b[38;5;241;43m=\u001b[39;49m\u001b[38;5;28;43;01mFalse\u001b[39;49;00m\u001b[43m)\u001b[49m\n\u001b[0;32m     38\u001b[0m \u001b[38;5;28mself\u001b[39m\u001b[38;5;241m.\u001b[39mbn \u001b[38;5;241m=\u001b[39m nn\u001b[38;5;241m.\u001b[39mBatchNorm(num_channels\u001b[38;5;241m=\u001b[39mout_channels, act\u001b[38;5;241m=\u001b[39m\u001b[38;5;28;01mNone\u001b[39;00m)\n",
      "File \u001b[1;32mD:\\software\\anaconda\\envs\\ocr\\lib\\site-packages\\paddle\\nn\\layer\\conv.py:687\u001b[0m, in \u001b[0;36mConv2D.__init__\u001b[1;34m(self, in_channels, out_channels, kernel_size, stride, padding, dilation, groups, padding_mode, weight_attr, bias_attr, data_format)\u001b[0m\n\u001b[0;32m    673\u001b[0m \u001b[38;5;28;01mdef\u001b[39;00m \u001b[38;5;21m__init__\u001b[39m(\n\u001b[0;32m    674\u001b[0m     \u001b[38;5;28mself\u001b[39m,\n\u001b[0;32m    675\u001b[0m     in_channels,\n\u001b[1;32m   (...)\u001b[0m\n\u001b[0;32m    685\u001b[0m     data_format\u001b[38;5;241m=\u001b[39m\u001b[38;5;124m\"\u001b[39m\u001b[38;5;124mNCHW\u001b[39m\u001b[38;5;124m\"\u001b[39m,\n\u001b[0;32m    686\u001b[0m ):\n\u001b[1;32m--> 687\u001b[0m     \u001b[38;5;28;43msuper\u001b[39;49m\u001b[43m(\u001b[49m\u001b[43mConv2D\u001b[49m\u001b[43m,\u001b[49m\u001b[43m \u001b[49m\u001b[38;5;28;43mself\u001b[39;49m\u001b[43m)\u001b[49m\u001b[38;5;241;43m.\u001b[39;49m\u001b[38;5;21;43m__init__\u001b[39;49m\u001b[43m(\u001b[49m\n\u001b[0;32m    688\u001b[0m \u001b[43m        \u001b[49m\u001b[43min_channels\u001b[49m\u001b[43m,\u001b[49m\n\u001b[0;32m    689\u001b[0m \u001b[43m        \u001b[49m\u001b[43mout_channels\u001b[49m\u001b[43m,\u001b[49m\n\u001b[0;32m    690\u001b[0m \u001b[43m        \u001b[49m\u001b[43mkernel_size\u001b[49m\u001b[43m,\u001b[49m\n\u001b[0;32m    691\u001b[0m \u001b[43m        \u001b[49m\u001b[38;5;28;43;01mFalse\u001b[39;49;00m\u001b[43m,\u001b[49m\n\u001b[0;32m    692\u001b[0m \u001b[43m        \u001b[49m\u001b[38;5;241;43m2\u001b[39;49m\u001b[43m,\u001b[49m\n\u001b[0;32m    693\u001b[0m \u001b[43m        \u001b[49m\u001b[43mstride\u001b[49m\u001b[38;5;241;43m=\u001b[39;49m\u001b[43mstride\u001b[49m\u001b[43m,\u001b[49m\n\u001b[0;32m    694\u001b[0m \u001b[43m        \u001b[49m\u001b[43mpadding\u001b[49m\u001b[38;5;241;43m=\u001b[39;49m\u001b[43mpadding\u001b[49m\u001b[43m,\u001b[49m\n\u001b[0;32m    695\u001b[0m \u001b[43m        \u001b[49m\u001b[43mpadding_mode\u001b[49m\u001b[38;5;241;43m=\u001b[39;49m\u001b[43mpadding_mode\u001b[49m\u001b[43m,\u001b[49m\n\u001b[0;32m    696\u001b[0m \u001b[43m        \u001b[49m\u001b[43mdilation\u001b[49m\u001b[38;5;241;43m=\u001b[39;49m\u001b[43mdilation\u001b[49m\u001b[43m,\u001b[49m\n\u001b[0;32m    697\u001b[0m \u001b[43m        \u001b[49m\u001b[43mgroups\u001b[49m\u001b[38;5;241;43m=\u001b[39;49m\u001b[43mgroups\u001b[49m\u001b[43m,\u001b[49m\n\u001b[0;32m    698\u001b[0m \u001b[43m        \u001b[49m\u001b[43mweight_attr\u001b[49m\u001b[38;5;241;43m=\u001b[39;49m\u001b[43mweight_attr\u001b[49m\u001b[43m,\u001b[49m\n\u001b[0;32m    699\u001b[0m \u001b[43m        \u001b[49m\u001b[43mbias_attr\u001b[49m\u001b[38;5;241;43m=\u001b[39;49m\u001b[43mbias_attr\u001b[49m\u001b[43m,\u001b[49m\n\u001b[0;32m    700\u001b[0m \u001b[43m        \u001b[49m\u001b[43mdata_format\u001b[49m\u001b[38;5;241;43m=\u001b[39;49m\u001b[43mdata_format\u001b[49m\u001b[43m,\u001b[49m\n\u001b[0;32m    701\u001b[0m \u001b[43m    \u001b[49m\u001b[43m)\u001b[49m\n",
      "File \u001b[1;32mD:\\software\\anaconda\\envs\\ocr\\lib\\site-packages\\paddle\\nn\\layer\\conv.py:157\u001b[0m, in \u001b[0;36m_ConvNd.__init__\u001b[1;34m(self, in_channels, out_channels, kernel_size, transposed, dims, stride, padding, padding_mode, output_padding, dilation, groups, weight_attr, bias_attr, data_format)\u001b[0m\n\u001b[0;32m    154\u001b[0m     std \u001b[38;5;241m=\u001b[39m (\u001b[38;5;241m2.0\u001b[39m \u001b[38;5;241m/\u001b[39m filter_elem_num) \u001b[38;5;241m*\u001b[39m\u001b[38;5;241m*\u001b[39m \u001b[38;5;241m0.5\u001b[39m\n\u001b[0;32m    155\u001b[0m     \u001b[38;5;28;01mreturn\u001b[39;00m Normal(\u001b[38;5;241m0.0\u001b[39m, std)\n\u001b[1;32m--> 157\u001b[0m \u001b[38;5;28mself\u001b[39m\u001b[38;5;241m.\u001b[39mweight \u001b[38;5;241m=\u001b[39m \u001b[38;5;28;43mself\u001b[39;49m\u001b[38;5;241;43m.\u001b[39;49m\u001b[43mcreate_parameter\u001b[49m\u001b[43m(\u001b[49m\n\u001b[0;32m    158\u001b[0m \u001b[43m    \u001b[49m\u001b[43mshape\u001b[49m\u001b[38;5;241;43m=\u001b[39;49m\u001b[43mfilter_shape\u001b[49m\u001b[43m,\u001b[49m\n\u001b[0;32m    159\u001b[0m \u001b[43m    \u001b[49m\u001b[43mattr\u001b[49m\u001b[38;5;241;43m=\u001b[39;49m\u001b[38;5;28;43mself\u001b[39;49m\u001b[38;5;241;43m.\u001b[39;49m\u001b[43m_param_attr\u001b[49m\u001b[43m,\u001b[49m\n\u001b[0;32m    160\u001b[0m \u001b[43m    \u001b[49m\u001b[43mdefault_initializer\u001b[49m\u001b[38;5;241;43m=\u001b[39;49m\u001b[43m_get_default_param_initializer\u001b[49m\u001b[43m(\u001b[49m\u001b[43m)\u001b[49m\u001b[43m,\u001b[49m\n\u001b[0;32m    161\u001b[0m \u001b[43m\u001b[49m\u001b[43m)\u001b[49m\n\u001b[0;32m    162\u001b[0m \u001b[38;5;28mself\u001b[39m\u001b[38;5;241m.\u001b[39mbias \u001b[38;5;241m=\u001b[39m \u001b[38;5;28mself\u001b[39m\u001b[38;5;241m.\u001b[39mcreate_parameter(\n\u001b[0;32m    163\u001b[0m     attr\u001b[38;5;241m=\u001b[39m\u001b[38;5;28mself\u001b[39m\u001b[38;5;241m.\u001b[39m_bias_attr, shape\u001b[38;5;241m=\u001b[39m[\u001b[38;5;28mself\u001b[39m\u001b[38;5;241m.\u001b[39m_out_channels], is_bias\u001b[38;5;241m=\u001b[39m\u001b[38;5;28;01mTrue\u001b[39;00m\n\u001b[0;32m    164\u001b[0m )\n\u001b[0;32m    166\u001b[0m cudnn_version \u001b[38;5;241m=\u001b[39m get_cudnn_version()\n",
      "File \u001b[1;32mD:\\software\\anaconda\\envs\\ocr\\lib\\site-packages\\paddle\\fluid\\dygraph\\layers.py:446\u001b[0m, in \u001b[0;36mLayer.create_parameter\u001b[1;34m(self, shape, attr, dtype, is_bias, default_initializer)\u001b[0m\n\u001b[0;32m    444\u001b[0m \u001b[38;5;28;01mif\u001b[39;00m \u001b[38;5;28misinstance\u001b[39m(temp_attr, six\u001b[38;5;241m.\u001b[39mstring_types) \u001b[38;5;129;01mand\u001b[39;00m temp_attr \u001b[38;5;241m==\u001b[39m \u001b[38;5;124m\"\u001b[39m\u001b[38;5;124m\"\u001b[39m:\n\u001b[0;32m    445\u001b[0m     temp_attr \u001b[38;5;241m=\u001b[39m \u001b[38;5;28;01mNone\u001b[39;00m\n\u001b[1;32m--> 446\u001b[0m \u001b[38;5;28;01mreturn\u001b[39;00m \u001b[38;5;28;43mself\u001b[39;49m\u001b[38;5;241;43m.\u001b[39;49m\u001b[43m_helper\u001b[49m\u001b[38;5;241;43m.\u001b[39;49m\u001b[43mcreate_parameter\u001b[49m\u001b[43m(\u001b[49m\u001b[43mtemp_attr\u001b[49m\u001b[43m,\u001b[49m\u001b[43m \u001b[49m\u001b[43mshape\u001b[49m\u001b[43m,\u001b[49m\u001b[43m \u001b[49m\u001b[43mdtype\u001b[49m\u001b[43m,\u001b[49m\u001b[43m \u001b[49m\u001b[43mis_bias\u001b[49m\u001b[43m,\u001b[49m\n\u001b[0;32m    447\u001b[0m \u001b[43m                                     \u001b[49m\u001b[43mdefault_initializer\u001b[49m\u001b[43m)\u001b[49m\n",
      "File \u001b[1;32mD:\\software\\anaconda\\envs\\ocr\\lib\\site-packages\\paddle\\fluid\\layer_helper_base.py:374\u001b[0m, in \u001b[0;36mLayerHelperBase.create_parameter\u001b[1;34m(self, attr, shape, dtype, is_bias, default_initializer, stop_gradient, type)\u001b[0m\n\u001b[0;32m    368\u001b[0m     \u001b[38;5;28;01mif\u001b[39;00m is_used:\n\u001b[0;32m    369\u001b[0m         \u001b[38;5;28;01mraise\u001b[39;00m \u001b[38;5;167;01mValueError\u001b[39;00m(\n\u001b[0;32m    370\u001b[0m             \u001b[38;5;124m\"\u001b[39m\u001b[38;5;124mparameter name [\u001b[39m\u001b[38;5;132;01m{}\u001b[39;00m\u001b[38;5;124m] have be been used. \u001b[39m\u001b[38;5;124m\"\u001b[39m\n\u001b[0;32m    371\u001b[0m             \u001b[38;5;124m\"\u001b[39m\u001b[38;5;124mIn dygraph mode, the name of parameter can\u001b[39m\u001b[38;5;124m'\u001b[39m\u001b[38;5;124mt be same.\u001b[39m\u001b[38;5;124m\"\u001b[39m\n\u001b[0;32m    372\u001b[0m             \u001b[38;5;124m\"\u001b[39m\u001b[38;5;124mPlease check the parameter attr value passed to self.create_parameter or \u001b[39m\u001b[38;5;124m\"\u001b[39m\n\u001b[0;32m    373\u001b[0m             \u001b[38;5;124m\"\u001b[39m\u001b[38;5;124mconstructor of dygraph Layers\u001b[39m\u001b[38;5;124m\"\u001b[39m\u001b[38;5;241m.\u001b[39mformat(attr\u001b[38;5;241m.\u001b[39mname))\n\u001b[1;32m--> 374\u001b[0m     \u001b[38;5;28;01mreturn\u001b[39;00m \u001b[38;5;28;43mself\u001b[39;49m\u001b[38;5;241;43m.\u001b[39;49m\u001b[43mmain_program\u001b[49m\u001b[38;5;241;43m.\u001b[39;49m\u001b[43mglobal_block\u001b[49m\u001b[43m(\u001b[49m\u001b[43m)\u001b[49m\u001b[38;5;241;43m.\u001b[39;49m\u001b[43mcreate_parameter\u001b[49m\u001b[43m(\u001b[49m\n\u001b[0;32m    375\u001b[0m \u001b[43m        \u001b[49m\u001b[43mdtype\u001b[49m\u001b[38;5;241;43m=\u001b[39;49m\u001b[43mdtype\u001b[49m\u001b[43m,\u001b[49m\n\u001b[0;32m    376\u001b[0m \u001b[43m        \u001b[49m\u001b[43mshape\u001b[49m\u001b[38;5;241;43m=\u001b[39;49m\u001b[43mshape\u001b[49m\u001b[43m,\u001b[49m\n\u001b[0;32m    377\u001b[0m \u001b[43m        \u001b[49m\u001b[38;5;28;43mtype\u001b[39;49m\u001b[38;5;241;43m=\u001b[39;49m\u001b[38;5;28;43mtype\u001b[39;49m\u001b[43m,\u001b[49m\n\u001b[0;32m    378\u001b[0m \u001b[43m        \u001b[49m\u001b[43mstop_gradient\u001b[49m\u001b[38;5;241;43m=\u001b[39;49m\u001b[43mstop_gradient\u001b[49m\u001b[43m,\u001b[49m\n\u001b[0;32m    379\u001b[0m \u001b[43m        \u001b[49m\u001b[38;5;241;43m*\u001b[39;49m\u001b[38;5;241;43m*\u001b[39;49m\u001b[43mattr\u001b[49m\u001b[38;5;241;43m.\u001b[39;49m\u001b[43m_to_kwargs\u001b[49m\u001b[43m(\u001b[49m\u001b[43mwith_initializer\u001b[49m\u001b[38;5;241;43m=\u001b[39;49m\u001b[38;5;28;43;01mTrue\u001b[39;49;00m\u001b[43m)\u001b[49m\u001b[43m)\u001b[49m\n\u001b[0;32m    380\u001b[0m \u001b[38;5;28;01melse\u001b[39;00m:\n\u001b[0;32m    381\u001b[0m     \u001b[38;5;28mself\u001b[39m\u001b[38;5;241m.\u001b[39mstartup_program\u001b[38;5;241m.\u001b[39mglobal_block()\u001b[38;5;241m.\u001b[39mcreate_parameter(\n\u001b[0;32m    382\u001b[0m         dtype\u001b[38;5;241m=\u001b[39mdtype,\n\u001b[0;32m    383\u001b[0m         shape\u001b[38;5;241m=\u001b[39mshape,\n\u001b[0;32m    384\u001b[0m         \u001b[38;5;28mtype\u001b[39m\u001b[38;5;241m=\u001b[39m\u001b[38;5;28mtype\u001b[39m,\n\u001b[0;32m    385\u001b[0m         \u001b[38;5;241m*\u001b[39m\u001b[38;5;241m*\u001b[39mattr\u001b[38;5;241m.\u001b[39m_to_kwargs(with_initializer\u001b[38;5;241m=\u001b[39m\u001b[38;5;28;01mTrue\u001b[39;00m))\n",
      "File \u001b[1;32mD:\\software\\anaconda\\envs\\ocr\\lib\\site-packages\\paddle\\fluid\\framework.py:3965\u001b[0m, in \u001b[0;36mBlock.create_parameter\u001b[1;34m(self, *args, **kwargs)\u001b[0m\n\u001b[0;32m   3963\u001b[0m         \u001b[38;5;28;01mpass\u001b[39;00m\n\u001b[0;32m   3964\u001b[0m     \u001b[38;5;28;01melse\u001b[39;00m:\n\u001b[1;32m-> 3965\u001b[0m         \u001b[43minitializer\u001b[49m\u001b[43m(\u001b[49m\u001b[43mparam\u001b[49m\u001b[43m,\u001b[49m\u001b[43m \u001b[49m\u001b[38;5;28;43mself\u001b[39;49m\u001b[43m)\u001b[49m\n\u001b[0;32m   3966\u001b[0m \u001b[38;5;28;01mreturn\u001b[39;00m param\n",
      "File \u001b[1;32mD:\\software\\anaconda\\envs\\ocr\\lib\\site-packages\\paddle\\fluid\\initializer.py:56\u001b[0m, in \u001b[0;36mInitializer.__call__\u001b[1;34m(self, param, block)\u001b[0m\n\u001b[0;32m     54\u001b[0m \u001b[38;5;28;01mdef\u001b[39;00m \u001b[38;5;21m__call__\u001b[39m(\u001b[38;5;28mself\u001b[39m, param, block\u001b[38;5;241m=\u001b[39m\u001b[38;5;28;01mNone\u001b[39;00m):\n\u001b[0;32m     55\u001b[0m     \u001b[38;5;28;01mif\u001b[39;00m \u001b[38;5;129;01mnot\u001b[39;00m lazy_init_helper()\u001b[38;5;241m.\u001b[39mstate:\n\u001b[1;32m---> 56\u001b[0m         \u001b[38;5;28;01mreturn\u001b[39;00m \u001b[38;5;28;43mself\u001b[39;49m\u001b[38;5;241;43m.\u001b[39;49m\u001b[43mforward\u001b[49m\u001b[43m(\u001b[49m\u001b[43mparam\u001b[49m\u001b[43m,\u001b[49m\u001b[43m \u001b[49m\u001b[43mblock\u001b[49m\u001b[43m)\u001b[49m\n\u001b[0;32m     58\u001b[0m     \u001b[38;5;28;01mreturn\u001b[39;00m \u001b[38;5;28mself\u001b[39m\u001b[38;5;241m.\u001b[39m_lazy_init(param, block)\n",
      "File \u001b[1;32mD:\\software\\anaconda\\envs\\ocr\\lib\\site-packages\\paddle\\fluid\\initializer.py:382\u001b[0m, in \u001b[0;36mNormalInitializer.forward\u001b[1;34m(self, var, block)\u001b[0m\n\u001b[0;32m    380\u001b[0m \u001b[38;5;28;01mif\u001b[39;00m in_dygraph_mode():\n\u001b[0;32m    381\u001b[0m     place \u001b[38;5;241m=\u001b[39m _current_expected_place()\n\u001b[1;32m--> 382\u001b[0m     out_var \u001b[38;5;241m=\u001b[39m \u001b[43m_C_ops\u001b[49m\u001b[38;5;241;43m.\u001b[39;49m\u001b[43mgaussian_random\u001b[49m\u001b[43m(\u001b[49m\u001b[43mvar\u001b[49m\u001b[38;5;241;43m.\u001b[39;49m\u001b[43mshape\u001b[49m\u001b[43m,\u001b[49m\u001b[43m \u001b[49m\u001b[38;5;28;43mself\u001b[39;49m\u001b[38;5;241;43m.\u001b[39;49m\u001b[43m_mean\u001b[49m\u001b[43m,\u001b[49m\n\u001b[0;32m    383\u001b[0m \u001b[43m                                     \u001b[49m\u001b[38;5;28;43mself\u001b[39;49m\u001b[38;5;241;43m.\u001b[39;49m\u001b[43m_std_dev\u001b[49m\u001b[43m,\u001b[49m\u001b[43m \u001b[49m\u001b[38;5;28;43mself\u001b[39;49m\u001b[38;5;241;43m.\u001b[39;49m\u001b[43m_seed\u001b[49m\u001b[43m,\u001b[49m\n\u001b[0;32m    384\u001b[0m \u001b[43m                                     \u001b[49m\u001b[43mvar\u001b[49m\u001b[38;5;241;43m.\u001b[39;49m\u001b[43mdtype\u001b[49m\u001b[43m,\u001b[49m\u001b[43m \u001b[49m\u001b[43mplace\u001b[49m\u001b[43m)\u001b[49m\n\u001b[0;32m    385\u001b[0m     out_var\u001b[38;5;241m.\u001b[39m_share_underline_tensor_to(var)\n\u001b[0;32m    386\u001b[0m     \u001b[38;5;28;01mreturn\u001b[39;00m \u001b[38;5;28;01mNone\u001b[39;00m\n",
      "\u001b[1;31mRuntimeError\u001b[0m: (PreconditionNotMet) The third-party dynamic library (cudnn64_7.dll) that Paddle depends on is not configured correctly. (error code is 126)\n  Suggestions:\n  1. Check if the third-party dynamic library (e.g. CUDA, CUDNN) is installed correctly and its version is matched with paddlepaddle you installed.\n  2. Configure third-party dynamic library environment variables as follows:\n  - Linux: set LD_LIBRARY_PATH by `export LD_LIBRARY_PATH=...`\n  - Windows: set PATH by `set PATH=XXX; (at ..\\paddle\\phi\\backends\\dynload\\dynamic_loader.cc:305)\n"
     ]
    }
   ],
   "source": [
    "# 定义网络输入shape\n",
    "IMAGE_SHAPE_C = 3\n",
    "IMAGE_SHAPE_H = 32\n",
    "IMAGE_SHAPE_W = 320\n",
    "\n",
    "\n",
    "# 可视化网络结构\n",
    "paddle.summary(MobileNetV3(),[(1, IMAGE_SHAPE_C, IMAGE_SHAPE_H, IMAGE_SHAPE_W)])"
   ]
  },
  {
   "cell_type": "code",
   "execution_count": null,
   "metadata": {
    "collapsed": false,
    "jupyter": {
     "outputs_hidden": false
    }
   },
   "outputs": [
    {
     "name": "stdout",
     "output_type": "stream",
     "text": [
      "backbone output: [1, 288, 1, 80]\n"
     ]
    }
   ],
   "source": [
    "# 图片输入骨干网络\n",
    "backbone = MobileNetV3()\n",
    "# 将numpy数据转换为Tensor\n",
    "input_data = paddle.to_tensor([padding_im])\n",
    "# 骨干网络输出\n",
    "feature = backbone(input_data)\n",
    "# 查看feature map的纬度\n",
    "print(\"backbone output:\", feature.shape)"
   ]
  },
  {
   "cell_type": "markdown",
   "metadata": {},
   "source": [
    "* neck\n",
    "\n",
    "neck 部分将backbone输出的视觉特征图转换为1维向量输入送到 LSTM 网络中，输出序列特征（[源码位置](https://github.com/PaddlePaddle/PaddleOCR/blob/release/2.3/ppocr/modeling/necks/rnn.py)）："
   ]
  },
  {
   "cell_type": "code",
   "execution_count": null,
   "metadata": {
    "collapsed": false,
    "jupyter": {
     "outputs_hidden": false
    }
   },
   "outputs": [],
   "source": [
    "class Im2Seq(nn.Layer):\n",
    "    def __init__(self, in_channels, **kwargs):\n",
    "        \"\"\"\n",
    "        图像特征转换为序列特征\n",
    "        :param in_channels: 输入通道数\n",
    "        \"\"\" \n",
    "        super().__init__()\n",
    "        self.out_channels = in_channels\n",
    "\n",
    "    def forward(self, x):\n",
    "        B, C, H, W = x.shape\n",
    "        assert H == 1\n",
    "        x = x.squeeze(axis=2)\n",
    "        x = x.transpose([0, 2, 1])  # (NWC)(batch, width, channels)\n",
    "        return x\n",
    "\n",
    "class EncoderWithRNN(nn.Layer):\n",
    "    def __init__(self, in_channels, hidden_size):\n",
    "        super(EncoderWithRNN, self).__init__()\n",
    "        self.out_channels = hidden_size * 2\n",
    "        self.lstm = nn.LSTM(\n",
    "            in_channels, hidden_size, direction='bidirectional', num_layers=2)\n",
    "\n",
    "    def forward(self, x):\n",
    "        x, _ = self.lstm(x)\n",
    "        return x\n",
    "\n",
    "\n",
    "class SequenceEncoder(nn.Layer):\n",
    "    def __init__(self, in_channels, hidden_size=48, **kwargs):\n",
    "        \"\"\"\n",
    "        序列编码\n",
    "        :param in_channels: 输入通道数\n",
    "        :param hidden_size: 隐藏层size\n",
    "        \"\"\" \n",
    "        super(SequenceEncoder, self).__init__()\n",
    "        self.encoder_reshape = Im2Seq(in_channels)\n",
    "\n",
    "        self.encoder = EncoderWithRNN(\n",
    "            self.encoder_reshape.out_channels, hidden_size)\n",
    "        self.out_channels = self.encoder.out_channels\n",
    "\n",
    "    def forward(self, x):\n",
    "        x = self.encoder_reshape(x)\n",
    "        x = self.encoder(x)\n",
    "        return x\n"
   ]
  },
  {
   "cell_type": "code",
   "execution_count": null,
   "metadata": {
    "collapsed": false,
    "jupyter": {
     "outputs_hidden": false
    }
   },
   "outputs": [
    {
     "name": "stdout",
     "output_type": "stream",
     "text": [
      "sequence shape: [1, 80, 96]\n"
     ]
    }
   ],
   "source": [
    "neck = SequenceEncoder(in_channels=288)\n",
    "sequence = neck(feature)\n",
    "print(\"sequence shape:\", sequence.shape)"
   ]
  },
  {
   "cell_type": "markdown",
   "metadata": {},
   "source": [
    "* head\n",
    "\n",
    "预测头部分由全连接层和softmax组成，用于计算序列特征时间步上的标签概率分布，本示例仅支持模型识别小写英文字母和数字（26+10）36个类别（[源码位置](https://github.com/PaddlePaddle/PaddleOCR/blob/release/2.3/ppocr/modeling/heads/rec_ctc_head.py)）:"
   ]
  },
  {
   "cell_type": "code",
   "execution_count": null,
   "metadata": {
    "collapsed": false,
    "jupyter": {
     "outputs_hidden": false
    }
   },
   "outputs": [],
   "source": [
    "class CTCHead(nn.Layer):\n",
    "    def __init__(self,\n",
    "                 in_channels,\n",
    "                 out_channels,\n",
    "                 **kwargs):\n",
    "        \"\"\"\n",
    "        CTC 预测层\n",
    "        :param in_channels: 输入通道数\n",
    "        :param out_channels: 输出通道数\n",
    "        \"\"\" \n",
    "        super(CTCHead, self).__init__()\n",
    "        self.fc = nn.Linear(\n",
    "            in_channels,\n",
    "            out_channels)\n",
    "        \n",
    "        # 思考：out_channels 应该等于多少？\n",
    "        self.out_channels = out_channels\n",
    "\n",
    "    def forward(self, x):\n",
    "        predicts = self.fc(x)\n",
    "        result = predicts\n",
    "\n",
    "        if not self.training:\n",
    "            predicts = F.softmax(predicts, axis=2)\n",
    "            result = predicts\n",
    "\n",
    "        return result"
   ]
  },
  {
   "cell_type": "markdown",
   "metadata": {},
   "source": [
    "在网络随机初始化的情况下，输出结果是无序的，经过SoftMax之后，可以得到各时间步上的概率最大的预测结果，其中：`pred_id` 代表预测的标签ID，`pre_scores` 代表预测结果的置信度："
   ]
  },
  {
   "cell_type": "code",
   "execution_count": null,
   "metadata": {
    "collapsed": false,
    "jupyter": {
     "outputs_hidden": false
    }
   },
   "outputs": [
    {
     "name": "stdout",
     "output_type": "stream",
     "text": [
      "predict shape: [1, 80, 37]\n",
      "pred_id: Tensor(shape=[1, 80], dtype=int64, place=CUDAPlace(0), stop_gradient=False,\n",
      "       [[23, 28, 23, 23, 23, 23, 23, 23, 23, 23, 23, 30, 30, 30, 31, 23, 23, 23, 23, 23, 23, 23, 31, 23, 23, 23, 23, 23, 23, 23, 23, 23, 23, 23, 23, 23, 23, 23, 23, 23, 23, 23, 23, 23, 23, 23, 23, 23, 23, 23, 23, 23, 23, 23, 23, 23, 23, 23, 23, 23, 23, 23, 23, 23, 23, 23, 23, 23, 23, 23, 23, 23, 23, 23, 23, 23, 23, 23, 23, 5 ]])\n",
      "pred_scores: Tensor(shape=[1, 80], dtype=float32, place=CUDAPlace(0), stop_gradient=False,\n",
      "       [[0.03683758, 0.03368053, 0.03604801, 0.03504696, 0.03696444, 0.03597261, 0.03925638, 0.03650934, 0.03873367, 0.03572492, 0.03543066, 0.03618268, 0.03805700, 0.03496549, 0.03329032, 0.03565763, 0.03846950, 0.03922413, 0.03970327, 0.03638541, 0.03572393, 0.03618102, 0.03565401, 0.03636984, 0.03691722, 0.03718850, 0.03623354, 0.03877943, 0.03731697, 0.03563465, 0.03447339, 0.03365586, 0.03312979, 0.03285240, 0.03273271, 0.03269565, 0.03269779, 0.03271412, 0.03273287, 0.03274929, 0.03276210, 0.03277146, 0.03277802, 0.03278249, 0.03278547, 0.03278742, 0.03278869, 0.03278949, 0.03279000, 0.03279032, 0.03279052, 0.03279064, 0.03279071, 0.03279077, 0.03279081, 0.03279087, 0.03279094, 0.03279106, 0.03279124, 0.03279152, 0.03279196, 0.03279264, 0.03279363, 0.03279509, 0.03279718, 0.03280006, 0.03280392, 0.03280888, 0.03281487, 0.03282148, 0.03282760, 0.03283087, 0.03282646, 0.03280647, 0.03275031, 0.03263619, 0.03242587, 0.03194289, 0.03122442, 0.02986610]])\n"
     ]
    }
   ],
   "source": [
    "ctc_head = CTCHead(in_channels=96, out_channels=37)\n",
    "predict = ctc_head(sequence)\n",
    "print(\"predict shape:\", predict.shape)\n",
    "result = F.softmax(predict, axis=2)\n",
    "pred_id = paddle.argmax(result, axis=2)\n",
    "pred_socres = paddle.max(result, axis=2)\n",
    "print(\"pred_id:\", pred_id)\n",
    "print(\"pred_scores:\", pred_socres)"
   ]
  },
  {
   "cell_type": "markdown",
   "metadata": {},
   "source": [
    "* 后处理\n",
    "\n",
    "识别网络最终返回的结果是各个时间步上的最大索引值，最终期望的输出是对应的文字结果，因此CRNN的后处理是一个解码过程，主要逻辑如下："
   ]
  },
  {
   "cell_type": "code",
   "execution_count": null,
   "metadata": {
    "collapsed": false,
    "jupyter": {
     "outputs_hidden": false
    }
   },
   "outputs": [],
   "source": [
    "def decode(text_index, text_prob=None, is_remove_duplicate=False):\n",
    "    \"\"\" convert text-index into text-label. \"\"\"\n",
    "    character = \"-0123456789abcdefghijklmnopqrstuvwxyz\"\n",
    "    result_list = []\n",
    "    # 忽略tokens [0] 代表ctc中的blank位\n",
    "    ignored_tokens = [0]\n",
    "    batch_size = len(text_index)\n",
    "    for batch_idx in range(batch_size):\n",
    "        char_list = []\n",
    "        conf_list = []\n",
    "        for idx in range(len(text_index[batch_idx])):\n",
    "            if text_index[batch_idx][idx] in ignored_tokens:\n",
    "                continue\n",
    "            # 合并blank之间相同的字符\n",
    "            if is_remove_duplicate:\n",
    "                # only for predict\n",
    "                if idx > 0 and text_index[batch_idx][idx - 1] == text_index[\n",
    "                        batch_idx][idx]:\n",
    "                    continue\n",
    "            # 将解码结果存在char_list内\n",
    "            char_list.append(character[int(text_index[batch_idx][\n",
    "                idx])])\n",
    "            # 记录置信度\n",
    "            if text_prob is not None:\n",
    "                conf_list.append(text_prob[batch_idx][idx])\n",
    "            else:\n",
    "                conf_list.append(1)\n",
    "        text = ''.join(char_list)\n",
    "        # 输出结果\n",
    "        result_list.append((text, np.mean(conf_list)))\n",
    "    return result_list"
   ]
  },
  {
   "cell_type": "markdown",
   "metadata": {},
   "source": [
    "以 head 部分随机初始化预测出的结果为例，进行解码得到："
   ]
  },
  {
   "cell_type": "code",
   "execution_count": null,
   "metadata": {
    "collapsed": false,
    "jupyter": {
     "outputs_hidden": false
    }
   },
   "outputs": [
    {
     "name": "stdout",
     "output_type": "stream",
     "text": [
      "Tensor(shape=[1, 80], dtype=int64, place=CUDAPlace(0), stop_gradient=False,\n",
      "       [[23, 28, 23, 23, 23, 23, 23, 23, 23, 23, 23, 30, 30, 30, 31, 23, 23, 23, 23, 23, 23, 23, 31, 23, 23, 23, 23, 23, 23, 23, 23, 23, 23, 23, 23, 23, 23, 23, 23, 23, 23, 23, 23, 23, 23, 23, 23, 23, 23, 23, 23, 23, 23, 23, 23, 23, 23, 23, 23, 23, 23, 23, 23, 23, 23, 23, 23, 23, 23, 23, 23, 23, 23, 23, 23, 23, 23, 23, 23, 5 ]])\n",
      "decode out: [('mrmmmmmmmmmtttummmmmmmummmmmmmmmmmmmmmmmmmmmmmmmmmmmmmmmmmmmmmmmmmmmmmmmmmmmmmm4', 0.034180813)]\n"
     ]
    }
   ],
   "source": [
    "pred_id = paddle.argmax(result, axis=2)\n",
    "pred_socres = paddle.max(result, axis=2)\n",
    "print(pred_id)\n",
    "decode_out = decode(pred_id, pred_socres)\n",
    "print(\"decode out:\", decode_out)"
   ]
  },
  {
   "cell_type": "markdown",
   "metadata": {},
   "source": [
    "**小测试：** 如果输入模型训练好的index，解码结果是否正确呢？"
   ]
  },
  {
   "cell_type": "code",
   "execution_count": null,
   "metadata": {
    "collapsed": false,
    "jupyter": {
     "outputs_hidden": false
    }
   },
   "outputs": [
    {
     "name": "stdout",
     "output_type": "stream",
     "text": [
      "out: [('pain', 1.0)]\n"
     ]
    }
   ],
   "source": [
    "# 替换模型预测好的结果\n",
    "right_pred_id = paddle.to_tensor([['xxxxxxxxxxxxx']])\n",
    "tmp_scores = paddle.ones(shape=right_pred_id.shape)\n",
    "out = decode(right_pred_id, tmp_scores)\n",
    "print(\"out:\",out)"
   ]
  },
  {
   "cell_type": "markdown",
   "metadata": {},
   "source": [
    "上述步骤完成了网络的搭建，也实现了一个简单的前向预测过程。\n",
    "\n",
    "没有经过训练的网络无法正确预测结果，因此需要定义损失函数、优化策略，将整个网络run起来，下面将详细介绍网络训练原理。\n",
    "\n",
    "\n",
    "## 3. 训练原理详解\n",
    "### 3.1 准备训练数据\n",
    "PaddleOCR 支持两种数据格式:\n",
    " - `lmdb` 用于训练以lmdb格式存储的数据集(LMDBDataSet);\n",
    " - `通用数据` 用于训练以文本文件存储的数据集(SimpleDataSet);\n",
    " \n",
    " 本次只介绍通用数据格式读取\n",
    "\n",
    "训练数据的默认存储路径是 `./train_data`, 执行以下命令解压数据："
   ]
  },
  {
   "cell_type": "code",
   "execution_count": null,
   "metadata": {
    "collapsed": false,
    "jupyter": {
     "outputs_hidden": false
    }
   },
   "outputs": [],
   "source": [
    "!cd /home/aistudio/work/train_data/ && tar xf ic15_data.tar "
   ]
  },
  {
   "cell_type": "markdown",
   "metadata": {},
   "source": [
    "解压完成后，训练图片都在同一个文件夹内，并有一个txt文件（rec_gt_train.txt）记录图片路径和标签，txt文件里的内容如下:\n",
    "\n",
    "```\n",
    "\" 图像文件名         图像标注信息 \"\n",
    "\n",
    "train/word_1.png\tGenaxis Theatre\n",
    "train/word_2.png\t[06]\n",
    "...\n",
    "```\n",
    "\n",
    "**注意：** txt文件中默认将图片路径和图片标签用 \\t 分割，如用其他方式分割将造成训练报错。\n",
    "\n",
    "\n",
    "数据集应有如下文件结构：\n",
    "```\n",
    "|-train_data\n",
    "  |-ic15_data\n",
    "    |- rec_gt_train.txt\n",
    "    |- train\n",
    "        |- word_001.png\n",
    "        |- word_002.jpg\n",
    "        |- word_003.jpg\n",
    "        | ...\n",
    "    |- rec_gt_test.txt\n",
    "    |- test\n",
    "        |- word_001.png\n",
    "        |- word_002.jpg\n",
    "        |- word_003.jpg\n",
    "        | ...\n",
    "```\n"
   ]
  },
  {
   "cell_type": "markdown",
   "metadata": {},
   "source": [
    "确认配置文件中的数据路径是否正确，以 [rec_icdar15_train.yml](https://github.com/PaddlePaddle/PaddleOCR/blob/release/2.3/configs/rec/rec_icdar15_train.yml)为例：\n",
    "\n",
    "```yaml\n",
    "Train:\n",
    "  dataset:\n",
    "    name: SimpleDataSet\n",
    "    # 训练数据根目录\n",
    "    data_dir: ./train_data/ic15_data/\n",
    "    # 训练数据标签\n",
    "    label_file_list: [\"./train_data/ic15_data/rec_gt_train.txt\"]\n",
    "    transforms:\n",
    "      - DecodeImage: # load image\n",
    "          img_mode: BGR\n",
    "          channel_first: False\n",
    "      - CTCLabelEncode: # Class handling label\n",
    "      - RecResizeImg:\n",
    "          image_shape: [3, 32, 100]  # [3,32,320]\n",
    "      - KeepKeys:\n",
    "          keep_keys: ['image', 'label', 'length'] # dataloader will return list in this order\n",
    "  loader:\n",
    "    shuffle: True\n",
    "    batch_size_per_card: 256\n",
    "    drop_last: True\n",
    "    num_workers: 8\n",
    "    use_shared_memory: False\n",
    "\n",
    "Eval:\n",
    "  dataset:\n",
    "    name: SimpleDataSet\n",
    "    # 评估数据根目录\n",
    "    data_dir: ./train_data/ic15_data\n",
    "    # 评估数据标签\n",
    "    label_file_list: [\"./train_data/ic15_data/rec_gt_test.txt\"]\n",
    "    transforms:\n",
    "      - DecodeImage: # load image\n",
    "          img_mode: BGR\n",
    "          channel_first: False\n",
    "      - CTCLabelEncode: # Class handling label\n",
    "      - RecResizeImg:\n",
    "          image_shape: [3, 32, 100]\n",
    "      - KeepKeys:\n",
    "          keep_keys: ['image', 'label', 'length'] # dataloader will return list in this order\n",
    "  loader:\n",
    "    shuffle: False\n",
    "    drop_last: False\n",
    "    batch_size_per_card: 256\n",
    "    num_workers: 4\n",
    "    use_shared_memory: False\n",
    "    ```"
   ]
  },
  {
   "cell_type": "markdown",
   "metadata": {},
   "source": [
    "### 3.2 数据预处理\n",
    "\n",
    "送入网络的训练数据，需要保证一个batch内维度一致，同时为了不同维度之间的特征在数值上有一定的比较性，需要对数据做统一尺度**缩放**和**归一化**。\n",
    "\n",
    "为了增加模型的鲁棒性，抑制过拟合提升泛化性能，需要实现一定的**数据增广**。\n",
    "\n",
    "* 缩放和归一化\n",
    "\n",
    "第二节中已经介绍了相关内容，这是图片送入网络之前的最后一步操作。调用 `resize_norm_img` 完成图片缩放、padding和归一化。\n",
    "\n",
    "* 数据增广\n",
    "\n",
    "PaddleOCR中实现了多种数据增广方式，如：颜色反转、随机切割、仿射变化、随机噪声等等，这里以简单的随机切割为例，更多增广方式可参考：[rec_img_aug.py](https://github.com/PaddlePaddle/PaddleOCR/blob/release/2.3/ppocr/data/imaug/rec_img_aug.py)"
   ]
  },
  {
   "cell_type": "code",
   "execution_count": null,
   "metadata": {
    "collapsed": false,
    "jupyter": {
     "outputs_hidden": false
    }
   },
   "outputs": [],
   "source": [
    "def get_crop(image):\n",
    "    \"\"\"\n",
    "    random crop\n",
    "    \"\"\"\n",
    "    import random\n",
    "    h, w, _ = image.shape\n",
    "    top_min = 1\n",
    "    top_max = 8\n",
    "    top_crop = int(random.randint(top_min, top_max))\n",
    "    top_crop = min(top_crop, h - 1)\n",
    "    crop_img = image.copy()\n",
    "    ratio = random.randint(0, 1)\n",
    "    if ratio:\n",
    "        crop_img = crop_img[top_crop:h, :, :]\n",
    "    else:\n",
    "        crop_img = crop_img[0:h - top_crop, :, :]\n",
    "    return crop_img\n"
   ]
  },
  {
   "cell_type": "code",
   "execution_count": null,
   "metadata": {
    "collapsed": false,
    "jupyter": {
     "outputs_hidden": false
    }
   },
   "outputs": [
    {
     "data": {
      "image/png": "[encoded data removed]",
      "text/plain": [
       "<Figure size 432x288 with 2 Axes>"
      ]
     },
     "metadata": {},
     "output_type": "display_data"
    }
   ],
   "source": [
    "# 读图\n",
    "raw_img = cv2.imread(\"/home/aistudio/work/word_1.png\")\n",
    "plt.figure()\n",
    "plt.subplot(2,1,1)\n",
    "# 可视化原图\n",
    "plt.imshow(raw_img)\n",
    "# 随机切割\n",
    "crop_img = get_crop(raw_img)\n",
    "plt.subplot(2,1,2)\n",
    "# 可视化增广图\n",
    "plt.imshow(crop_img)\n",
    "plt.show()"
   ]
  },
  {
   "cell_type": "markdown",
   "metadata": {},
   "source": [
    "### 3.3 训练主程序\n",
    "\n",
    "模型训练的入口代码是 [train.py](https://github.com/PaddlePaddle/PaddleOCR/blob/release/2.3/tools/train.py)，它展示了训练中所需的各个模块： `build dataloader`, `build post process`, `build model` , `build loss`, `build optim`, `build metric`，将各部分串联后即可开始训练：\n",
    "\n",
    "* 构建 dataloader\n",
    "\n",
    "训练模型需要将数据组成指定数目的 batch ，并在训练过程中依次 yield 出来，本例中调用了 PaddleOCR 中实现的 [SimpleDataSet](https://github.com/PaddlePaddle/PaddleOCR/blob/release/2.3/ppocr/data/simple_dataset.py)\n",
    "\n",
    "基于原始代码稍作修改，其返回单条数据的主要逻辑如下"
   ]
  },
  {
   "cell_type": "code",
   "execution_count": null,
   "metadata": {
    "collapsed": false,
    "jupyter": {
     "outputs_hidden": false
    }
   },
   "outputs": [],
   "source": [
    "def __getitem__(data_line, data_dir):\n",
    "    import os\n",
    "    mode = \"train\"\n",
    "    delimiter = '\\t'\n",
    "    try:\n",
    "        substr = data_line.strip(\"\\n\").split(delimiter)\n",
    "        file_name = substr[0]\n",
    "        label = substr[1]\n",
    "        img_path = os.path.join(data_dir, file_name)\n",
    "        data = {'img_path': img_path, 'label': label}\n",
    "        if not os.path.exists(img_path):\n",
    "            raise Exception(\"{} does not exist!\".format(img_path))\n",
    "        with open(data['img_path'], 'rb') as f:\n",
    "            img = f.read()\n",
    "            data['image'] = img\n",
    "        # 预处理操作，先注释掉\n",
    "        # outs = transform(data, self.ops)\n",
    "        outs = data\n",
    "    except Exception as e:\n",
    "        print(\"When parsing line {}, error happened with msg: {}\".format(\n",
    "                data_line, e))\n",
    "        outs = None\n",
    "    return outs"
   ]
  },
  {
   "cell_type": "markdown",
   "metadata": {},
   "source": [
    "假设当前输入的标签为 `train/word_1.png\tGenaxis Theatre`, 训练数据的路径为 `/home/aistudio/work/train_data/ic15_data/`, 解析出的结果是一个字典，里面包含 `img_path` `label` `image` 三个字段："
   ]
  },
  {
   "cell_type": "code",
   "execution_count": null,
   "metadata": {
    "collapsed": false,
    "jupyter": {
     "outputs_hidden": false
    }
   },
   "outputs": [
    {
     "name": "stdout",
     "output_type": "stream",
     "text": [
      "{'img_path': '/home/aistudio/work/train_data/ic15_data/train/word_1.png', 'label': 'Genaxis Theatre', 'image': b'\\x89PNG\\r\\n\\x1a\\n\\x00\\x00\\x00\\rIHDR\\x00\\x00\\x00Y\\x00\\x00\\x00\\x0e\\x08\\x02\\x00\\x00\\x00\\xcb\\xe2\\'\\xb7\\x00\\x00\\x00\\x01sRGB\\x00\\xae\\xce\\x1c\\xe9\\x00\\x00\\x00\\x04gAMA\\x00\\x00\\xb1\\x8f\\x0b\\xfca\\x05\\x00\\x00\\x00 cHRM\\x00\\x00z&\\x00\\x00\\x80\\x84\\x00\\x00\\xfa\\x00\\x00\\x00\\x80\\xe8\\x00\\x00u0\\x00\\x00\\xea`\\x00\\x00:\\x98\\x00\\x00\\x17p\\x9c\\xbaQ<\\x00\\x00\\x0bmIDATHK\\x8d\\x96\\xf9S[\\xd7\\x15\\x80\\x01\\xa7\\x93\\xa4\\xfd1\\x99L\\xea\\x80\\xc4\\xa2]B\\x0bb\\xdf\\x84\\x04\\x18\\x8c\\x01\\xb3\\x8aE\\xec\\x12\\x02\\t\\xb4KhC\\xfb\\xbe=\\xed\\xbb\\x04\\xc2l&N\\xd2\\xb4\\x93i\\x9bv\\xa6\\x7fL\\xdb\\xe9d\\xe2N\\xd3d<u6C\\x8f\\xc0I\\x9c\\xb1\\x7f\\xc8\\x9d\\x8f3\\xf7\\xdd\\xf7\\xee\\x9d{\\xbfw\\xceC\\x95\\xd3\\xc3\\xe3\\x04\\x02\\xe1\\xad\\xb7\\xde\\xbazv\\xf9\\xcd7\\xdf<~\\xfc\\xf8\\xef\\xff\\xfc\\xc7\\xe7\\x9f\\xff\\xfb\\x7fO\\x9f>y\\xf2\\xe4\\xeb\\xaf\\xbf\\xbe\\xbc\\xbc|\\xedWU\\xaf]\\xb7\\xab\\xab\\xab\\xca\\xca\\xab\\x8a\\x8a\\x8a\\xca\\xca\\xca\\xeb\\x08\\x97\\xb7\\xa0sY\\xf1\\xda\\xf7\\xdf?\\x83vUYQUU\\x05wa\\xd6w\\xcf\\x9e\\xdd\\xbau\\xeb\\xf5\\xd7_G\\xa1Po\\xfe\\xe6\\xd7\\x9f}\\xf6\\x19,\\x08+|\\xf9\\xe5\\x97U\\xe5\\xd9\\xcf\\xdb\\x1bo\\xbc\\xf1\\xf6\\xdbo\\xdf\\xbe}\\x1b\\xf6\\xf0\\xce;\\xef\\xc0\"\\xdf~\\xfb\\xedw\\xdf}\\xf7\\xf4\\xe9\\xd3\\xaf\\xbe\\xfa\\xea\\x8b/\\xbex\\xf2\\xe4\\xbf\\xffy\\xfc\\xaf[\\x95\\xcf`eh\\xcf\\xa7]\\x96\\xb7\\x01\\x8f\\x95\\xb7q\\xf5\\xe3~*\\xe16l\\xa6\\xb2\\xf2\\xcd\\xab\\x8a[\\xb0\\rh\\xd7\\xfb)?\\x00\\rV\\xae\\xac*O\\xfc\\xe1\\x08\\x97\\x15\\x15U\\x95W\\x97\\xf0W\\x05\\xf3LJ]&\\x14\\x07r\\xa1D\\xdc\\x1d\\xd2\\x8a\\x15\\x0b\\xe3\\\\J-\\x89\\x88&\\xe0\\xaa\\xb1\\xb8j\\x0c\\xbe\\x06K@\\xe1\\x08h\\x0c\\x1e\\xd5@@\\xd7\\x03xT\\x1d\\x1e\\x85\\xc6\\xd5\\xa0p\\xa8jlu\\r\\xb6\\x1aM\\xc1R\\xb0\\xb5x\\xf4\\xed\\xba\\x9aw\\xd1\\x10\\xd1\\xd5\\r5\\xb7\\xeb\\xde{\\x17M\\xc0R\\x18\\xf4\\xd6\\xd9\\x99\\xc5\\x95UAw\\x0f\\xa7\\x91\\xca\\xa4\\xd2\\x9a\\xd1\\xb5\\xd8\\xea\\xf7jQ\\xa82ht\\x1d\\x99\\xdc8<<\\xa2P\\xa8\\xc2\\xe1\\xe8\\xe9\\xe9\\xf9\\xe1\\xe1Q:\\x9d\\x8dF\\xe3\\x1e\\x8f\\x0f\\x06gg\\xe7\\xfazY4\\n\\x9eN\\xc6\\xd2H\\x18\\x80Jl\\x00h\\x84z\\x80\\xd4P\\x03P\\x1aP@#\\x06\\rP\\x1b\\x80\\xba\\x16\\x12\\x9d\\x81\\xa7Q\\xeaI\\xb0\\xf3\\xf2\\xfe\\xd1\\x18r=\\xbe\\x11C\\xa4bIT,\\x81\\x86#\\xde@\\xc7\\x13\\xe8x\\x12\\x03Oh&\\x90\\x80\\n\\x97\\xc1\\x1a\\xb0\\xba5b\\xb9f[\\xa6\\x12J\\x16F\\xa79m\\xacNz\\x07\\xa7\\xbd\\x7f|\\xe0>orq}nmy\\x9a73256p\\xf7\\x1egh\\x84=0\\xd4\\xcb\\x1e\\xe8\\xeaf\\xb7w\\xf4\\xb40\\xbb\\x98\\x8c\\xf6\\xa6\\xa6\\xb1\\xe1\\xf1;\\xec\\xe1\\xde\\x8e\\xbe\\xae\\xd6\\x9e\\xaevVO\\'\\xbb\\xbb\\xa3\\xaf\\xb3\\xad\\xb7\\xbd\\xad\\xa7\\x8f5\\xb8\\xc1\\xdf\\xde\\x16I9\\xfd\\xc3\\xadm\\xdd}\\xec;\\x10{{8,\\x16\\xbb\\xb3\\xb3\\x9b\\xc1`R\\xa9\\xf4\\xbe>\\xce\\xc6\\x86\\xc0d\\xb2 H\\x04\\x14X\\xadv\\x8b\\xc5\\x06\\x972\\x99\\x82\\xcb\\x9d\\xe7@c\\xc3\\x84vVw[w\\x1b\\xa3\\x9dIke\\x90\\x9bi\\xe4\\x16*\\x81\\x8ak\\xa0\\xe2\\xeb\\xe88\\x0c\\x1d_\\x0f\\x91Ah`\\xe0\\xb1\\x0c<N\"\\xd8\\x12\\xf0\\xd6f\\xee\\x8d\\x0fv\\xb3:\\xe8L&\\xa9\\xb1\\x89H\\x02\\xa8X\\\\\\x19\\x1c\\x86\\x86\\xc7\\x02t\\x02\\xee\\x06&\\x11\\\\P*\\xfc\\x16\\x97\\xdbh\\xdb\\\\\\\\\\x1b\\xeb\\x1bj\\'7\\xb5\\x91\\x18c\\x9c\\x11\\xadDg\\xd5\\xb9\\x10w<\\x1d\\xce\\x05\\x1c\\x88tK&\\x11J\\xbd6o\\xc8\\x13\\xc8\\xc4\\x12>\\x87K\\xabP\\xcdO\\xcd\\x88\\xf8|\\xbdJ\\x15\\xf2\\xf8b\\xa1\\x84\\xdb\\xea\\x97l)\\xf6\\xf7\\xac\\xd2\\x1d\\xb5\\x90\\xbf;9>\\'X\\x17\\xabU\\xc6M\\xc1\\xae\\\\\\xae\\xdb\\xda\\x92\\t\\x85R\\x91Ha\\xb7\\xfbuz\\xb3i\\xdff1;dR\\xd5\\xf8\\xd8T#\\x85\\x81\\xaa\\xa9\\xef\\xec\\xe8\\x15\\x8b\\xa4>oH.S//\\xadK%J$\\x14\\x8b\\xc7\\xd20\\xe2\\xf3\\x05\\x90P`\\x89\\xc7\\x9d\\x9d\\x990\\x194\\xbb\\xdb\\x9bF\\x9d\\xca\\xa8U\\x8b\\x04k3\\xf7GW\\x17\\xb9\\x06\\xa5\\xdc\\xaa\\xd3l\\xaf\\xadl,\\xce9\\x8c\\xfa\\xb3\\x83\\xc2I\\xbe\\xe0w:\\xb5J\\x99d{sG\\xc8WJ\\xc4R\\xd1&\\x8f;\\x05S\\xb4J\\xa9A#S\\xcbD\"\\xc1\\xca\\xf4\\xf8p?\\xab\\xf5No\\x17\\xb8`\\x82\\x0b\\xcf\\xbe\\x1d\\\\\\xec\\xac\\t\\xf9\\xdc\\xe5\\xd5\\xa9\\x85\\xe5\\x899!\\x8f\\xef4\\x94E\\xe4\\xe3\\xa5\\x93\\xc2E.V4i\\xacz\\xc5~,\\x10?H\\x1f\\x94\\xb2\\xa5\\\\\"\\x93\\x8a$T\\x12\\x85Eo\\n\\xfb\\x02\\xa5\\xdc\\xc1\\xf1\\xc1\\xe9\\xc9\\xc1C\\xc4\\x1b\\x8b\\x87\\xd2\\x01W8\\xe0\\x8d\\x1a\\xb4V\\x9b\\xd9c6:\\x95\\n\\xbd\\xd3\\x110\\x1a\\x1dz\\xbdM\\xa7\\xb3\\xc6\\xe3\\xf9P(\\x19\\xf0G\\xcc&\\xfb\\x96pgrb\\xb6\\xa5\\xb9\\xa3\\xa6\\xba\\x8eAoY[\\x15\\xd8mn\\x10\\x04.\\x14rM&]8*\\x9d\\xa6S\\xf9L&\\x97\\xcf\\xe6\\xe42\\x89T\\xb2\\x93I\\'\\x11\\xbf\\xaf\\x90Ig\\x12q\\xa7\\xd5bP\\xab=6[>\\x99<+\\x1e\\xc4\\xfd\\x01\\x9dL\\xae\\x95\\xca\\x02\\x0e\\xdb\\x87\\x0fO\\x83\\x1e\\xe7\\xbeV\\xe5uX\\xd21$\\x9f\\x8a\\xa5\\xa2\\x81\\xa0\\xc7\\x96\\x8e\\x05\\x8f\\n\\xa9\\xd3\\xa3\\xccI)\\x9dM\\x06\\xf7\\x94\\xa2\\xd9\\xc9;c\\xc3\\x1cH\\x19&\\x81Zv\\x818|z\\xa9\\xda\\xb1g\\x8a\\xb9\\x82~\\x93\\xd3\\xa2\\xde\\xcf\"\\x85\\x83\\xd4\\xe9i\\xf1\\xfd\\x8b\\xa3\\x8f\\x8e\\xb2g\\x01G$\\xe8\\x8c\\x9e\\x1f\\xbe\\x0f9\\xb2\\xaf19M\\xae|\\xa2`T\\x1b\\xdd\\x16w.\\x9e;/\\x9d?:\\xfe\\xe8\\xcf\\x1f\\xff\\xf5({\\x02:\\x82\\xee\\xc8\\x83\\xc2Y!UJ\\xc5\\x0b\\xfbz\\xbbVm\\x8a\\x84R~_\\xd4a\\xf7[\\xcc\\xee|\\xeeA6S\\x8aG\\xd2&\\x83M\\xb0\\xbe=39\\x0f\\xd5\\x04\\xdf\\x17\\n\\x91\\xbe\\xc0]v\\xd9}\\n\\xa9fyq].Q\\xa7\\xe2\\xb9D4c\\xb7\\xb8\\xddN_<\\x9eT\\xa9T:\\x9d\\xee\\xe4\\xe4\\xa4\\x98/\\\\\\x9c?<:,\\x85C\\x88`m]\\xbe+1\\x1b\\x8c\\xc9p\\xf4(_\\x0c\\xb8<6\\xa3)\\x1b\\x8f?:;\\xd6\\xab\\xe5\\xfc\\x95E\\xbbI\\x9fKF\\x11\\x9f\\xcb\\xb8\\'\\xd7\\xa9$`$\\x9b@\\x8a\\xd9\\xc8\\xc5i\\xe1\\xfc8g7kxs\\xa3\\xf7G\\x06\\x9a\\x88\\x94&\\xe2\\xb5\\x8b\\xa0\\xcd\\xa3\\x10\\xee\\x82\\x8b\\x07\\xc9\\xc2a,\\x8b8\\x02\\xb9p1\\x1b-%C\\xb9\\x98?\\xed\\xb7\\x87M\\x1a\\xbb\\xd7\\x1a:?\\xfc\\xc0m\\x0e\\xac/\\x08w\\x05\\x8a\\\\\\xec\\xd0at\\x07\\x9d\\xe1\\xc3\\xf4\\x83\\x8b\\xa3\\x0f\\xc0Q1Yr\\x9b}|\\x1e\\xdc\\x95\\xa5\"9H\\x93b\\xfaH.V\\xef\\x8a\\x94>w\\xd8i\\xf3C\\xa6\\xc8eZ$\\x90\\x005\\xf1H\\xd6\\xebB\\xd4R\\xdd\\x02w\\xb5\\xa7\\x8d]\\x87\\xc2\\xd3\\x88\\xcc\\xd9)\\x9e\\xdf\\x89@\\x89-L/+\\xa4\\xdad8\\x0bSV\\x17\\xf8\\xbb\"y*\\x99\\xb3Y]n\\x97\\xff\\xe2\\xe1\\x87\\xb9L\\xb1\\x98/E\\x90\\xb8\\xdd\\xea\\xda\\\\\\x13*%*\\x9dJ\\x1f\\xf6G\\xe0\\x95 \\x1eD\\xaf\\xd4G\\xfc\\xc8\\xe9\\xe1!\\x94\\xc6\\xd4\\xe8\\xa8A\\xa3LE\\x11\\x9dJ>?=\\xb18;Y\\xcc$R\\xd1P4\\xe8\\xcd%\\xc3\\x80F.\\x86\\xa4`w\\xb7\\x97]\\x10\\xe8\\x15P ^\\x93C\\xbc\\xbai\\x94j\\n\\xe1\\x14\\xb8\\x88{#p\\xfe\\xa0;\\xe1\\xb1\\x85\\xad\\x06\\xafFf\\x12\\xf1\\x15*\\x891\\x16\\xcc\\x01K\\\\\\xc1\\xea\\xfcv\"Tt\\xec\\x07=\\xd6H,\\x90/$\\x8e\\xddF\\x1f\\xa4\\x92\\xcf\\x1c\\x14\\xf2D:\\x89\\xf1A\\xee\\xfc\\xd3\\xdf\\xff\\xed\\x93\\x0f>U\\x8a\\xb5\\xbbB\\xa5\\xc7\\x16\\xb2\\xef{\\xb5\\n\\x93xK\\xe9s\\x84C\\x9ex1}|z\\xf8\\x08D\\x0bV\\xc4\\xdd\\xcdl\\\\-\\xa5\\x99\\xd21yo\\x0e\\xb2O\\xb1\\xa3]\\x9e\\xdd\\xb0\\x1a\\xdcg\\x07\\x8fLZ\\x07\\xf4\\x8d\\x1a\\x1b\\xa4R \\x18\\xf5\\x07\"\\xa5\\xa33\\x9f\\x17q\\xd8\\xbd*\\xa5nG,\\x97\\x88\\x15\\x0e\\xab\\'\\x12\\x88\\x9d\\x1c\\x9e}\\xf2\\xbb?F\\x83q\\xc9\\xb6L\\xab\\xd4\\xe7S\\x05\\xa9H2?\\xbd`1\\x98\\x0f\\xb2E\\x93n\\x7f~zne\\x91\\x97\\x8a\\xc5\\xa3\\xa1`\\xd0\\xebID\\xc2\\xf10\\xa2\\x94JF\\x87\\x87\\xd8=\\xddt\\x12\\x95N\\xa4W\\x98U\\xfa\\x98\\'\\x04:R\\xbeH)\\x9eCl\\xde}\\xa8\\xf0}_\\xc4\\x9fI\\x86\\x8ba_\\xdaf\\xf4I\\xb64\\n\\xb1\\xc1g\\x8f\\x85\\xdc\\xa9\\xb9\\x89\\x8d\\xa9{\\xcb\\x1eK\\xc2\\xbc\\x170i\\xfcvC8\\xee/\\xfa-\\xe1\\x847\\x15\\xb4\"R\\xbe\\xc2\\xa4\\xb4\\x06m\\xe1|\\xe4 \\x85\\xe4\\x1dF\\xafFb\\x00\\xb3N\\xb3\\x1f\\x8e\\x04\\xe7\\x0c\\xfb\\x92\\xf1P\\xf6A\\xee\\xe2\\xe3\\x87\\x7f\\xca\\xc5\\x8e\\xf8<q;\\x9dE\\xa8\\xa51\\xc9\\x9dC\\xac\\xf1\\x80#f\\xd28E\\xebr\\xb79\\xf4\\xe8\\xf8\\x0f.Spsy\\xd7k\\x8f\\x04|\\t\\x87#`\\xb3\\x052 \\xc5\\x97\\x08\\xf8cF\\xbdS\\xbbgVH\\xf5\\x90_\\xd9\\xf8\\xe1\\xc5\\xf1\\x87\\x9f|\\xf4\\x97R\\xee\\x04\\xbc\\xfb\\x1c\\xa1B\\xea\\x01D\\xad\\xc2\\x08\\x11\\xd2\\xd3\\xa4\\xb3p\\'\\xe7\\xe7\\xa6\\x16\\x82\\x1e$\\x19I\\xe5\\x92\\xf9B:\\x0f\\x1d\\x95T9~\\xf7>\\xab\\xb3\\x0fD\\x94]\\xf0\\xe7W@\\x07\\xfcg\\x85\\x8f\\x85\\x07jxn\\xe5\\xfe\\xc0\\xa8`I\\xa4W\\xd9 /\\xdcVD+\\xb7n\\xf0v\\xf8KR\\xa3\\xda\\xad\\x91Z\\xc7\\x06\\x17\\xef\\xf4Nk$N\\xd9\\x96y{M+\\xde\\xd0{\\xcc\\xf1<r\\x98\\xf4\\xa4\\xc2\\xb6\\x88^bth]J\\xa1Z\\xb7k\\x00)F\\xb9\\x99\\xcf\\xdb\\x96okv\\xf8\\xf2\\xad\\xd5]\\xa8/\\x8b\\xd6\\t\\x82\\xc2\\xceD\\xc4\\x95\\xda\\xdb\\xd9\\x1f\\xe3L7\\xe1\\xdb\\xf1\\xd5\\x8d4L\\x0b\\xbbuH\\xb5\\xad7\\xc8\\xac\\xeb\\xdc-\\xc1\\x82\\xd8\\xa9\\xf7K\\xf9\\xea\\xa9\\xa1\\xf9]\\x81J.5\\x8aD*\\xa1P\\xe9r\\x85\\x83\\xc1L:}\\xe4vF\\xadf\\x9flGo\\xd9\\xf7\\x04\\xbdP\\x07\\xf0\\x1d(@\\xc6\\x99\\xb4.\\xb9Xg7\\x06\"\\xbe\\xac\\xcb\\x8c\\x98\\xb5\\x1e\\xb7%,\\xdd\\xde\\x1b\\x19\\x98\\xba\\xd37n\\xd1{R\\x91\\xc2a\\xf6\\x14\\n\\x10R\\x15\\n\\xb0\\xbb\\x95\\xd3\\x88g\\xd0\\x89e*\\xfa\\xdb{GX\\x83\\xa3\\xec\\xa1\\xf9\\xb1\\xe9\\xf1\\xfe\\xbb\\xad\\xc4&\\x1a\\x86B\\xc1\\xd0\\x06zG\\xb8\\x13K\\xc0\\xdd\\xfe\\xc9\\x0e&\\xbb\\xafs\\x987#\\x98\\x1cYl\\xa1\\xf6\\x911\\xad\\x93#KC\\xac\\x99v\\xfa`+\\xb5\\x7fiZ\\xb8\\xb5\\xb4;3<3\\xce\\x19\\xe7\\xb4rF9c4,\\xbd\\x83\\xd6y\\x8f=\\xba8\\xc1\\xebnf\\rt\\x0f\\xf5\\xb5\\xf7\\x03=-}K3\\xab\\xabs\\x02\\xf9\\xa6fcn\\xebN\\xd7=\\x06\\xae\\x95\\x84\\xa6a~K\\x84\\xd8\\xcb\\xec\\x1f\\xee\\x19[\\xe7\\n\\x07;G`|bpv\\x94=\\xd9L\\xec\\x18\\xec\\x19\\xbd\\xd37\\xda\\xd5\\xde\\xcf\\xa4wq\\xa7\\x97\\x84|\\xa9Fi\\\\\\x99\\x17L\\x8dr\\xe9\\xa4\\xe6\\x81\\xde\\xe1\\x15\\xee\\xfa\\xd6\\xaa\\x18>U\\xcb\\xb3kC\\xac\\x11\\x1c\\x8a\\xdc\\xc9\\xe0\\xac\\xcf\\xef\\x00Sw\\x17a{\\xd3#\\xbc\\x0e:\\xbb\\x85\\xd2C\\xc5\\xb6\\xc2\\x88pE\\xb2\\xbe\\xb0=w\\x7f\\x052\\xb1\\x95\\xdaC\\'\\xb44\\x11\\x98M\\x04F\\x05\\xa9\\x96\\xf0\"d4\\x11.\\xf1\\xb5\\xf8k\\xa0\\xf3\\x02h\\x12\\xbe\\x0c\\xe5\\x07\\xa8x\\xf4\\r\\x14\\x1c\\x8a\\x88C\\xe3_\\t\\xfc\\x1e}\\x19b\\x1d\\x85P\\xdb\\x08\\xdc,u\\xd3\\'\\xd6Qo:7\\xfd\\x1bH\\xf5\\xf0\\xf3\\xb1\\x91\\x8e\\xa1\\xd2\\xb1\\x8d\\xd7\\x90_\\x8c\\x0c\\x1c\\x05h\\xc2\\x91^\\x84\\x81\\xa3\\xd21\\xf0F[\\xaei\\xfe!B\\xa7\\x99\\x8emy\\x15\\xcc&\\\\S\\x13\\x8e^A\\xa8\\xfb\\xd1\\x05Xx\\xce\\xab]\\xfc\\xe8\\xe5\\xb9\\x94\\x1b5e0h\\x1c\\x06\\x8d}9^[\\xc0\\xbd\\x14\\xf1\\x84:\"X~n\\xf0\\xda#,\\x02\\x83\\x84Z2\\xb1\\x9e\\x04\\xa6 \\x92\\xea\\x1bI\\rd\\x88\\x94z2\\x03\\xd3\\xc8\\xc4\\x90\\x99\\x18\\xe2\\xab\\xc031?\\x83\\x81%2\\xb04\\x06\\x96\\xc1\\xc02\\x7fadb\\x9b\\x98/\\xba\\x80\\x8c\\xb8\\x01\\x8c\\xfc\\xfc\\xfd\\xdf$\\xc2O\\'\\x7f!5\\x9e\\xdf\\xc2\\xa0\\x08e\\x11/E,\\x9aX\\x16\\xf1R,\\x8b@\\xe3\\xb0(\\x00{\\x13\\xcb:j\\xf1e\\x11\\xf5\\xc4\\xb2\\x88\\x06\\x80L\\xc6\\x00\\x94\\xc6\\x06\\xc8\\x05\\xd0\\xf1\\n\\xe8\\r\\xa4\\x17\\xf9\\xe9\\x99\\xeb|\\x81\\x04\\xf9e\\x91\\n\"\\x80\\xff\\x03\\x99\\xa0+\\x94\\xbd\\xf0X\\xa1\\x00\\x00\\x00\\x00IEND\\xaeB`\\x82'}\n"
     ]
    }
   ],
   "source": [
    "data_line = \"train/word_1.png\tGenaxis Theatre\"\n",
    "data_dir = \"/home/aistudio/work/train_data/ic15_data/\"\n",
    "\n",
    "item = __getitem__(data_line, data_dir)\n",
    "print(item)"
   ]
  },
  {
   "cell_type": "markdown",
   "metadata": {},
   "source": [
    "实现完单条数据返回逻辑后，调用 `padde.io.Dataloader` 即可把数据组合成batch，具体可参考 [build_dataloader](https://github.com/PaddlePaddle/PaddleOCR/blob/95c670faf6cf4551c841764cde43a4f4d9d5e634/ppocr/data/__init__.py#L52)。\n",
    "\n",
    "* build model\n",
    "\n",
    "  build model 即搭建主要网络结构，具体细节如《2.3 代码实现》所述，本节不做过多介绍，各模块代码可参考[modeling](https://github.com/PaddlePaddle/PaddleOCR/tree/release/2.4/ppocr/modeling)\n",
    "\n",
    "* build loss\n",
    "  \n",
    "  CRNN 模型的损失函数为 CTC loss, 飞桨集成了常用的 Loss 函数，只需调用实现即可："
   ]
  },
  {
   "cell_type": "code",
   "execution_count": null,
   "metadata": {
    "collapsed": false,
    "jupyter": {
     "outputs_hidden": false
    }
   },
   "outputs": [],
   "source": [
    "import paddle.nn as nn\n",
    "class CTCLoss(nn.Layer):\n",
    "    def __init__(self, use_focal_loss=False, **kwargs):\n",
    "        super(CTCLoss, self).__init__()\n",
    "        # blank 是 ctc 的无意义连接符\n",
    "        self.loss_func = nn.CTCLoss(blank=0, reduction='none')\n",
    "\n",
    "    def forward(self, predicts, batch):\n",
    "        if isinstance(predicts, (list, tuple)):\n",
    "            predicts = predicts[-1]\n",
    "        # 转置模型 head 层的预测结果，沿channel层排列\n",
    "        predicts = predicts.transpose((1, 0, 2)) #[80,1,37]\n",
    "        N, B, _ = predicts.shape\n",
    "        preds_lengths = paddle.to_tensor([N] * B, dtype='int64')\n",
    "        labels = batch[1].astype(\"int32\")\n",
    "        label_lengths = batch[2].astype('int64')\n",
    "        # 计算损失函数\n",
    "        loss = self.loss_func(predicts, labels, preds_lengths, label_lengths)\n",
    "        loss = loss.mean()\n",
    "        return {'loss': loss}"
   ]
  },
  {
   "cell_type": "markdown",
   "metadata": {},
   "source": [
    "* build post process\n",
    "\n",
    " 具体细节同样在《2.3 代码实现》有详细介绍，实现逻辑与之前一致。"
   ]
  },
  {
   "cell_type": "markdown",
   "metadata": {},
   "source": [
    "* build optim\n",
    "\n",
    "优化器使用 `Adam` , 同样调用飞桨API： `paddle.optimizer.Adam`\n",
    "\n",
    "* build metric\n",
    "\n",
    "metric 部分用于计算模型指标，PaddleOCR的文本识别中，将整句预测正确判断为预测正确，因此准确率计算主要逻辑如下："
   ]
  },
  {
   "cell_type": "code",
   "execution_count": null,
   "metadata": {
    "collapsed": false,
    "jupyter": {
     "outputs_hidden": false
    }
   },
   "outputs": [],
   "source": [
    "def metric(preds, labels):    \n",
    "    correct_num = 0\n",
    "    all_num = 0\n",
    "    norm_edit_dis = 0.0\n",
    "    for (pred), (target) in zip(preds, labels):\n",
    "        pred = pred.replace(\" \", \"\")\n",
    "        target = target.replace(\" \", \"\")\n",
    "        if pred == target:\n",
    "            correct_num += 1\n",
    "        all_num += 1\n",
    "    correct_num += correct_num\n",
    "    all_num += all_num\n",
    "    return {\n",
    "        'acc': correct_num / all_num,\n",
    "    }"
   ]
  },
  {
   "cell_type": "code",
   "execution_count": null,
   "metadata": {
    "collapsed": false,
    "jupyter": {
     "outputs_hidden": false
    }
   },
   "outputs": [
    {
     "name": "stdout",
     "output_type": "stream",
     "text": [
      "acc: {'acc': 0.6}\n"
     ]
    }
   ],
   "source": [
    "preds = [\"aaa\", \"bbb\", \"ccc\", \"123\", \"456\"]\n",
    "labels = [\"aaa\", \"bbb\", \"ddd\", \"123\", \"444\"]\n",
    "acc = metric(preds, labels)\n",
    "print(\"acc:\", acc)\n",
    "# 五个预测结果中,完全正确的有3个，因此准确率应为0.6"
   ]
  },
  {
   "cell_type": "markdown",
   "metadata": {},
   "source": [
    "将以上各部分组合起来，即是完整的训练流程："
   ]
  },
  {
   "cell_type": "code",
   "execution_count": null,
   "metadata": {
    "collapsed": false,
    "jupyter": {
     "outputs_hidden": false
    }
   },
   "outputs": [],
   "source": [
    "\n",
    "def main(config, device, logger, vdl_writer):\n",
    "    # init dist environment\n",
    "    if config['Global']['distributed']:\n",
    "        dist.init_parallel_env()\n",
    "\n",
    "    global_config = config['Global']\n",
    "\n",
    "    # build dataloader\n",
    "    train_dataloader = build_dataloader(config, 'Train', device, logger)\n",
    "    if len(train_dataloader) == 0:\n",
    "        logger.error(\n",
    "            \"No Images in train dataset, please ensure\\n\" +\n",
    "            \"\\t1. The images num in the train label_file_list should be larger than or equal with batch size.\\n\"\n",
    "            +\n",
    "            \"\\t2. The annotation file and path in the configuration file are provided normally.\"\n",
    "        )\n",
    "        return\n",
    "\n",
    "    if config['Eval']:\n",
    "        valid_dataloader = build_dataloader(config, 'Eval', device, logger)\n",
    "    else:\n",
    "        valid_dataloader = None\n",
    "\n",
    "    # build post process\n",
    "    post_process_class = build_post_process(config['PostProcess'],\n",
    "                                            global_config)\n",
    "\n",
    "    # build model\n",
    "    # for rec algorithm\n",
    "    if hasattr(post_process_class, 'character'):\n",
    "        char_num = len(getattr(post_process_class, 'character'))\n",
    "        if config['Architecture'][\"algorithm\"] in [\"Distillation\",\n",
    "                                                   ]:  # distillation model\n",
    "            for key in config['Architecture'][\"Models\"]:\n",
    "                config['Architecture'][\"Models\"][key][\"Head\"][\n",
    "                    'out_channels'] = char_num\n",
    "        else:  # base rec model\n",
    "            config['Architecture'][\"Head\"]['out_channels'] = char_num\n",
    "\n",
    "    model = build_model(config['Architecture'])\n",
    "    if config['Global']['distributed']:\n",
    "        model = paddle.DataParallel(model)\n",
    "\n",
    "    # build loss\n",
    "    loss_class = build_loss(config['Loss'])\n",
    "\n",
    "    # build optim\n",
    "    optimizer, lr_scheduler = build_optimizer(\n",
    "        config['Optimizer'],\n",
    "        epochs=config['Global']['epoch_num'],\n",
    "        step_each_epoch=len(train_dataloader),\n",
    "        parameters=model.parameters())\n",
    "\n",
    "    # build metric\n",
    "    eval_class = build_metric(config['Metric'])\n",
    "    # load pretrain model\n",
    "    pre_best_model_dict = load_model(config, model, optimizer)\n",
    "    logger.info('train dataloader has {} iters'.format(len(train_dataloader)))\n",
    "    if valid_dataloader is not None:\n",
    "        logger.info('valid dataloader has {} iters'.format(\n",
    "            len(valid_dataloader)))\n",
    "\n",
    "    use_amp = config[\"Global\"].get(\"use_amp\", False)\n",
    "    if use_amp:\n",
    "        AMP_RELATED_FLAGS_SETTING = {\n",
    "            'FLAGS_cudnn_batchnorm_spatial_persistent': 1,\n",
    "            'FLAGS_max_inplace_grad_add': 8,\n",
    "        }\n",
    "        paddle.fluid.set_flags(AMP_RELATED_FLAGS_SETTING)\n",
    "        scale_loss = config[\"Global\"].get(\"scale_loss\", 1.0)\n",
    "        use_dynamic_loss_scaling = config[\"Global\"].get(\n",
    "            \"use_dynamic_loss_scaling\", False)\n",
    "        scaler = paddle.amp.GradScaler(\n",
    "            init_loss_scaling=scale_loss,\n",
    "            use_dynamic_loss_scaling=use_dynamic_loss_scaling)\n",
    "    else:\n",
    "        scaler = None\n",
    "\n",
    "    # start train\n",
    "    program.train(config, train_dataloader, valid_dataloader, device, model,\n",
    "                  loss_class, optimizer, lr_scheduler, post_process_class,\n",
    "                  eval_class, pre_best_model_dict, logger, vdl_writer, scaler)"
   ]
  },
  {
   "cell_type": "markdown",
   "metadata": {},
   "source": [
    "## 4. 完整训练任务\n",
    "\n",
    "### 4.1 启动训练\n",
    "\n",
    "PaddleOCR 识别任务与检测任务类似，是通过配置文件传输参数的。\n",
    "\n",
    "要进行完整的模型训练，首先需要下载整个项目并安装相关依赖："
   ]
  },
  {
   "cell_type": "code",
   "execution_count": 12,
   "metadata": {
    "collapsed": false,
    "jupyter": {
     "outputs_hidden": false
    }
   },
   "outputs": [
    {
     "name": "stderr",
     "output_type": "stream",
     "text": [
      "<>:5: DeprecationWarning: invalid escape sequence \\g\n",
      "<>:5: DeprecationWarning: invalid escape sequence \\g\n",
      "C:\\Users\\zikun\\AppData\\Local\\Temp\\ipykernel_17584\\675146404.py:5: DeprecationWarning: invalid escape sequence \\g\n",
      "  os.chdir(\"\\github\\PaddleOCRPaddleOCR\")\n",
      "C:\\Users\\zikun\\AppData\\Local\\Temp\\ipykernel_17584\\675146404.py:5: DeprecationWarning: invalid escape sequence \\g\n",
      "  os.chdir(\"\\github\\PaddleOCRPaddleOCR\")\n"
     ]
    },
    {
     "ename": "FileNotFoundError",
     "evalue": "[WinError 2] 系统找不到指定的文件。: '\\\\github\\\\PaddleOCRPaddleOCR'",
     "output_type": "error",
     "traceback": [
      "\u001b[1;31m---------------------------------------------------------------------------\u001b[0m",
      "\u001b[1;31mFileNotFoundError\u001b[0m                         Traceback (most recent call last)",
      "Cell \u001b[1;32mIn [14], line 5\u001b[0m\n\u001b[0;32m      1\u001b[0m \u001b[38;5;66;03m# 克隆PaddleOCR代码\u001b[39;00m\n\u001b[0;32m      2\u001b[0m \u001b[38;5;66;03m#!git clone https://gitee.com/paddlepaddle/PaddleOCR\u001b[39;00m\n\u001b[0;32m      3\u001b[0m \u001b[38;5;66;03m# 修改代码运行的默认目录为 /home/aistudio/PaddleOCR\u001b[39;00m\n\u001b[0;32m      4\u001b[0m \u001b[38;5;28;01mimport\u001b[39;00m \u001b[38;5;21;01mos\u001b[39;00m\n\u001b[1;32m----> 5\u001b[0m \u001b[43mos\u001b[49m\u001b[38;5;241;43m.\u001b[39;49m\u001b[43mchdir\u001b[49m\u001b[43m(\u001b[49m\u001b[38;5;124;43m\"\u001b[39;49m\u001b[38;5;124;43m\\\u001b[39;49m\u001b[38;5;124;43mgithub\u001b[39;49m\u001b[38;5;124;43m\\\u001b[39;49m\u001b[38;5;124;43mPaddleOCRPaddleOCR\u001b[39;49m\u001b[38;5;124;43m\"\u001b[39;49m\u001b[43m)\u001b[49m\n\u001b[0;32m      6\u001b[0m \u001b[38;5;66;03m# 安装PaddleOCR第三方依赖\u001b[39;00m\n\u001b[0;32m      7\u001b[0m get_ipython()\u001b[38;5;241m.\u001b[39msystem(\u001b[38;5;124m'\u001b[39m\u001b[38;5;124mpip install -r requirements.txt\u001b[39m\u001b[38;5;124m'\u001b[39m)\n",
      "\u001b[1;31mFileNotFoundError\u001b[0m: [WinError 2] 系统找不到指定的文件。: '\\\\github\\\\PaddleOCRPaddleOCR'"
     ]
    }
   ],
   "source": [
    "# 克隆PaddleOCR代码\n",
    "#!git clone https://gitee.com/paddlepaddle/PaddleOCR\n",
    "# 修改代码运行的默认目录为 /home/aistudio/PaddleOCR\n",
    "import os\n",
    "os.chdir(\"D:/github/PaddleOCRPaddleOCR\")\n",
    "# 安装PaddleOCR第三方依赖\n",
    "!pip install -r requirements.txt"
   ]
  },
  {
   "cell_type": "markdown",
   "metadata": {},
   "source": [
    "创建软链，将训练数据放在PaddleOCR项目下："
   ]
  },
  {
   "cell_type": "code",
   "execution_count": null,
   "metadata": {
    "collapsed": false,
    "jupyter": {
     "outputs_hidden": false
    }
   },
   "outputs": [],
   "source": [
    "!ln -s /home/aistudio/work/train_data/ /home/aistudio/PaddleOCR/"
   ]
  },
  {
   "cell_type": "markdown",
   "metadata": {},
   "source": [
    "下载预训练模型：\n",
    "\n",
    "为了加快收敛速度，建议下载训练好的模型在 icdar2015 数据上进行 finetune"
   ]
  },
  {
   "cell_type": "code",
   "execution_count": null,
   "metadata": {
    "collapsed": false,
    "jupyter": {
     "outputs_hidden": false
    }
   },
   "outputs": [
    {
     "name": "stdout",
     "output_type": "stream",
     "text": [
      "--2021-12-22 15:39:39--  https://paddleocr.bj.bcebos.com/dygraph_v2.0/en/rec_mv3_none_bilstm_ctc_v2.0_train.tar\n",
      "Resolving paddleocr.bj.bcebos.com (paddleocr.bj.bcebos.com)... 182.61.200.195, 182.61.200.229, 2409:8c04:1001:1002:0:ff:b001:368a\n",
      "Connecting to paddleocr.bj.bcebos.com (paddleocr.bj.bcebos.com)|182.61.200.195|:443... connected.\n",
      "HTTP request sent, awaiting response... 200 OK\n",
      "Length: 51200000 (49M) [application/x-tar]\n",
      "Saving to: ‘./pretrain_models/rec_mv3_none_bilstm_ctc_v2.0_train.tar’\n",
      "\n",
      "rec_mv3_none_bilstm 100%[===================>]  48.83M  15.5MB/s    in 3.6s    \n",
      "\n",
      "2021-12-22 15:39:42 (13.7 MB/s) - ‘./pretrain_models/rec_mv3_none_bilstm_ctc_v2.0_train.tar’ saved [51200000/51200000]\n",
      "\n"
     ]
    }
   ],
   "source": [
    "!cd PaddleOCR/\n",
    "# 下载MobileNetV3的预训练模型\n",
    "!wget -nc -P ./pretrain_models/ https://paddleocr.bj.bcebos.com/dygraph_v2.0/en/rec_mv3_none_bilstm_ctc_v2.0_train.tar\n",
    "# 解压模型参数\n",
    "!tar -xf pretrain_models/rec_mv3_none_bilstm_ctc_v2.0_train.tar && rm -rf pretrain_models/rec_mv3_none_bilstm_ctc_v2.0_train.tar"
   ]
  },
  {
   "cell_type": "markdown",
   "metadata": {},
   "source": [
    "启动训练命令很简单，指定好配置文件即可。另外在命令行中可以通过 `-o` 修改配置文件中的参数值。启动训练命令如下所示\n",
    "\n",
    "其中：\n",
    "\n",
    "* `Global.pretrained_model`: 加载的预训练模型路径\n",
    "* `Global.character_dict_path` ： 字典路径（这里只支持26个小写字母+数字）\n",
    "* `Global.eval_batch_step` ： 评估频率\n",
    "* `Global.epoch_num`： 总训练轮数\n",
    "\n"
   ]
  },
  {
   "cell_type": "code",
   "execution_count": 4,
   "metadata": {
    "collapsed": false,
    "jupyter": {
     "outputs_hidden": false
    }
   },
   "outputs": [
    {
     "name": "stdout",
     "output_type": "stream",
     "text": [
      "/opt/conda/envs/python35-paddle120-env/lib/python3.7/site-packages/skimage/morphology/_skeletonize.py:241: DeprecationWarning: `np.bool` is a deprecated alias for the builtin `bool`. To silence this warning, use `bool` by itself. Doing this will not modify any behavior and is safe. If you specifically wanted the numpy scalar type, use `np.bool_` here.\n",
      "Deprecated in NumPy 1.20; for more details and guidance: https://numpy.org/devdocs/release/1.20.0-notes.html#deprecations\n",
      "  0, 1, 1, 0, 0, 1, 0, 0, 0], dtype=np.bool)\n",
      "/opt/conda/envs/python35-paddle120-env/lib/python3.7/site-packages/skimage/morphology/_skeletonize.py:256: DeprecationWarning: `np.bool` is a deprecated alias for the builtin `bool`. To silence this warning, use `bool` by itself. Doing this will not modify any behavior and is safe. If you specifically wanted the numpy scalar type, use `np.bool_` here.\n",
      "Deprecated in NumPy 1.20; for more details and guidance: https://numpy.org/devdocs/release/1.20.0-notes.html#deprecations\n",
      "  0, 0, 0, 0, 0, 0, 0, 0, 0], dtype=np.bool)\n",
      "[2021/12/23 20:28:15] root INFO: Architecture : \n",
      "[2021/12/23 20:28:15] root INFO:     Backbone : \n",
      "[2021/12/23 20:28:15] root INFO:         model_name : large\n",
      "[2021/12/23 20:28:15] root INFO:         name : MobileNetV3\n",
      "[2021/12/23 20:28:15] root INFO:         scale : 0.5\n",
      "[2021/12/23 20:28:15] root INFO:     Head : \n",
      "[2021/12/23 20:28:15] root INFO:         fc_decay : 0\n",
      "[2021/12/23 20:28:15] root INFO:         name : CTCHead\n",
      "[2021/12/23 20:28:15] root INFO:     Neck : \n",
      "[2021/12/23 20:28:15] root INFO:         encoder_type : rnn\n",
      "[2021/12/23 20:28:15] root INFO:         hidden_size : 96\n",
      "[2021/12/23 20:28:15] root INFO:         name : SequenceEncoder\n",
      "[2021/12/23 20:28:15] root INFO:     Transform : None\n",
      "[2021/12/23 20:28:15] root INFO:     algorithm : CRNN\n",
      "[2021/12/23 20:28:15] root INFO:     model_type : rec\n",
      "[2021/12/23 20:28:15] root INFO: Eval : \n",
      "[2021/12/23 20:28:15] root INFO:     dataset : \n",
      "[2021/12/23 20:28:15] root INFO:         data_dir : ./train_data/ic15_data\n",
      "[2021/12/23 20:28:15] root INFO:         label_file_list : ['./train_data/ic15_data/rec_gt_test.txt']\n",
      "[2021/12/23 20:28:15] root INFO:         name : SimpleDataSet\n",
      "[2021/12/23 20:28:15] root INFO:         transforms : \n",
      "[2021/12/23 20:28:15] root INFO:             DecodeImage : \n",
      "[2021/12/23 20:28:15] root INFO:                 channel_first : False\n",
      "[2021/12/23 20:28:15] root INFO:                 img_mode : BGR\n",
      "[2021/12/23 20:28:15] root INFO:             CTCLabelEncode : None\n",
      "[2021/12/23 20:28:15] root INFO:             RecResizeImg : \n",
      "[2021/12/23 20:28:15] root INFO:                 image_shape : [3, 32, 100]\n",
      "[2021/12/23 20:28:15] root INFO:             KeepKeys : \n",
      "[2021/12/23 20:28:15] root INFO:                 keep_keys : ['image', 'label', 'length']\n",
      "[2021/12/23 20:28:15] root INFO:     loader : \n",
      "[2021/12/23 20:28:15] root INFO:         batch_size_per_card : 256\n",
      "[2021/12/23 20:28:15] root INFO:         drop_last : False\n",
      "[2021/12/23 20:28:15] root INFO:         num_workers : 4\n",
      "[2021/12/23 20:28:15] root INFO:         shuffle : False\n",
      "[2021/12/23 20:28:15] root INFO:         use_shared_memory : False\n",
      "[2021/12/23 20:28:15] root INFO: Global : \n",
      "[2021/12/23 20:28:15] root INFO:     cal_metric_during_train : True\n",
      "[2021/12/23 20:28:15] root INFO:     character_dict_path : ppocr/utils/ic15_dict.txt\n",
      "[2021/12/23 20:28:15] root INFO:     character_type : EN\n",
      "[2021/12/23 20:28:15] root INFO:     checkpoints : None\n",
      "[2021/12/23 20:28:15] root INFO:     debug : False\n",
      "[2021/12/23 20:28:15] root INFO:     distributed : False\n",
      "[2021/12/23 20:28:15] root INFO:     epoch_num : 40\n",
      "[2021/12/23 20:28:15] root INFO:     eval_batch_step : [0, 200]\n",
      "[2021/12/23 20:28:15] root INFO:     infer_img : doc/imgs_words_en/word_19.png\n",
      "[2021/12/23 20:28:15] root INFO:     infer_mode : False\n",
      "[2021/12/23 20:28:15] root INFO:     log_smooth_window : 20\n",
      "[2021/12/23 20:28:15] root INFO:     max_text_length : 25\n",
      "[2021/12/23 20:28:15] root INFO:     pretrained_model : rec_mv3_none_bilstm_ctc_v2.0_train/best_accuracy\n",
      "[2021/12/23 20:28:15] root INFO:     print_batch_step : 10\n",
      "[2021/12/23 20:28:15] root INFO:     save_epoch_step : 3\n",
      "[2021/12/23 20:28:15] root INFO:     save_inference_dir : ./\n",
      "[2021/12/23 20:28:15] root INFO:     save_model_dir : ./output/rec/ic15/\n",
      "[2021/12/23 20:28:15] root INFO:     save_res_path : ./output/rec/predicts_ic15.txt\n",
      "[2021/12/23 20:28:15] root INFO:     use_gpu : True\n",
      "[2021/12/23 20:28:15] root INFO:     use_space_char : False\n",
      "[2021/12/23 20:28:15] root INFO:     use_visualdl : False\n",
      "[2021/12/23 20:28:15] root INFO: Loss : \n",
      "[2021/12/23 20:28:15] root INFO:     name : CTCLoss\n",
      "[2021/12/23 20:28:15] root INFO: Metric : \n",
      "[2021/12/23 20:28:15] root INFO:     main_indicator : acc\n",
      "[2021/12/23 20:28:15] root INFO:     name : RecMetric\n",
      "[2021/12/23 20:28:15] root INFO: Optimizer : \n",
      "[2021/12/23 20:28:15] root INFO:     beta1 : 0.9\n",
      "[2021/12/23 20:28:15] root INFO:     beta2 : 0.999\n",
      "[2021/12/23 20:28:15] root INFO:     lr : \n",
      "[2021/12/23 20:28:15] root INFO:         learning_rate : 0.0005\n",
      "[2021/12/23 20:28:15] root INFO:     name : Adam\n",
      "[2021/12/23 20:28:15] root INFO:     regularizer : \n",
      "[2021/12/23 20:28:15] root INFO:         factor : 0\n",
      "[2021/12/23 20:28:15] root INFO:         name : L2\n",
      "[2021/12/23 20:28:15] root INFO: PostProcess : \n",
      "[2021/12/23 20:28:15] root INFO:     name : CTCLabelDecode\n",
      "[2021/12/23 20:28:15] root INFO: Train : \n",
      "[2021/12/23 20:28:15] root INFO:     dataset : \n",
      "[2021/12/23 20:28:15] root INFO:         data_dir : ./train_data/ic15_data/\n",
      "[2021/12/23 20:28:15] root INFO:         label_file_list : ['./train_data/ic15_data/rec_gt_train.txt']\n",
      "[2021/12/23 20:28:15] root INFO:         name : SimpleDataSet\n",
      "[2021/12/23 20:28:15] root INFO:         transforms : \n",
      "[2021/12/23 20:28:15] root INFO:             DecodeImage : \n",
      "[2021/12/23 20:28:15] root INFO:                 channel_first : False\n",
      "[2021/12/23 20:28:15] root INFO:                 img_mode : BGR\n",
      "[2021/12/23 20:28:15] root INFO:             CTCLabelEncode : None\n",
      "[2021/12/23 20:28:15] root INFO:             RecResizeImg : \n",
      "[2021/12/23 20:28:15] root INFO:                 image_shape : [3, 32, 100]\n",
      "[2021/12/23 20:28:15] root INFO:             KeepKeys : \n",
      "[2021/12/23 20:28:15] root INFO:                 keep_keys : ['image', 'label', 'length']\n",
      "[2021/12/23 20:28:15] root INFO:     loader : \n",
      "[2021/12/23 20:28:15] root INFO:         batch_size_per_card : 256\n",
      "[2021/12/23 20:28:15] root INFO:         drop_last : True\n",
      "[2021/12/23 20:28:15] root INFO:         num_workers : 8\n",
      "[2021/12/23 20:28:15] root INFO:         shuffle : True\n",
      "[2021/12/23 20:28:15] root INFO:         use_shared_memory : False\n",
      "[2021/12/23 20:28:15] root INFO: train with paddle 2.1.2 and device CUDAPlace(0)\n",
      "[2021/12/23 20:28:15] root INFO: Initialize indexs of datasets:['./train_data/ic15_data/rec_gt_train.txt']\n",
      "[2021/12/23 20:28:15] root INFO: Initialize indexs of datasets:['./train_data/ic15_data/rec_gt_test.txt']\n",
      "W1223 20:28:15.851713   306 device_context.cc:404] Please NOTE: device: 0, GPU Compute Capability: 7.0, Driver API Version: 11.0, Runtime API Version: 10.1\n",
      "W1223 20:28:15.857080   306 device_context.cc:422] device: 0, cuDNN Version: 7.6.\n",
      "[2021/12/23 20:28:19] root INFO: loaded pretrained_model successful from rec_mv3_none_bilstm_ctc_v2.0_train/best_accuracy.pdparams\n",
      "[2021/12/23 20:28:19] root INFO: train dataloader has 17 iters\n",
      "[2021/12/23 20:28:19] root INFO: valid dataloader has 9 iters\n",
      "[2021/12/23 20:28:19] root INFO: During the training process, after the 0th iteration, an evaluation is run every 200 iterations\n",
      "[2021/12/23 20:28:19] root INFO: Initialize indexs of datasets:['./train_data/ic15_data/rec_gt_train.txt']\n",
      "[2021/12/23 20:28:23] root INFO: epoch: [1/40], iter: 10, lr: 0.000500, loss: 9.336592, acc: 0.203125, norm_edit_dis: 0.674909, reader_cost: 0.27284 s, batch_cost: 0.40185 s, samples: 2816, ips: 700.75290\n",
      "[2021/12/23 20:28:24] root INFO: epoch: [1/40], iter: 16, lr: 0.000500, loss: 6.955496, acc: 0.210938, norm_edit_dis: 0.678930, reader_cost: 0.00008 s, batch_cost: 0.05430 s, samples: 1536, ips: 2828.80514\n",
      "[2021/12/23 20:28:24] root INFO: save model in ./output/rec/ic15/latest\n",
      "[2021/12/23 20:28:24] root INFO: Initialize indexs of datasets:['./train_data/ic15_data/rec_gt_train.txt']\n",
      "[2021/12/23 20:28:28] root INFO: epoch: [2/40], iter: 20, lr: 0.000500, loss: 6.402417, acc: 0.246094, norm_edit_dis: 0.695874, reader_cost: 0.24180 s, batch_cost: 0.34361 s, samples: 1024, ips: 298.00945\n",
      "[2021/12/23 20:28:29] root INFO: epoch: [2/40], iter: 30, lr: 0.000500, loss: 4.007382, acc: 0.412109, norm_edit_dis: 0.743064, reader_cost: 0.00013 s, batch_cost: 0.08982 s, samples: 2560, ips: 2849.98954\n",
      "[2021/12/23 20:28:29] root INFO: epoch: [2/40], iter: 33, lr: 0.000500, loss: 3.906031, acc: 0.458984, norm_edit_dis: 0.770415, reader_cost: 0.00004 s, batch_cost: 0.02684 s, samples: 768, ips: 2861.80304\n",
      "^C\n",
      "main proc 306 exit, kill process group 306\n"
     ]
    }
   ],
   "source": [
    "!python3 tools/train.py -c configs/rec/rec_icdar15_train.yml \\\n",
    "   -o Global.pretrained_model=rec_mv3_none_bilstm_ctc_v2.0_train/best_accuracy \\\n",
    "   Global.character_dict_path=ppocr/utils/ic15_dict.txt \\\n",
    "   Global.eval_batch_step=[0,200] \\\n",
    "   Global.epoch_num=40"
   ]
  },
  {
   "cell_type": "markdown",
   "metadata": {},
   "source": [
    "根据配置文件中设置的 `save_model_dir` 字段，会有以下几种参数被保存下来：\n",
    "\n",
    "```\n",
    "output/rec/ic15\n",
    "├── best_accuracy.pdopt  \n",
    "├── best_accuracy.pdparams  \n",
    "├── best_accuracy.states  \n",
    "├── config.yml  \n",
    "├── iter_epoch_3.pdopt  \n",
    "├── iter_epoch_3.pdparams  \n",
    "├── iter_epoch_3.states  \n",
    "├── latest.pdopt  \n",
    "├── latest.pdparams  \n",
    "├── latest.states  \n",
    "└── train.log\n",
    "```\n",
    "其中 best_accuracy.* 是评估集上的最优模型；iter_epoch_x.* 是以 `save_epoch_step` 为间隔保存下来的模型；latest.* 是最后一个epoch的模型。\n"
   ]
  },
  {
   "cell_type": "markdown",
   "metadata": {},
   "source": [
    "**总结：**\n",
    "\n",
    "如果需要训练自己的数据需要修改：\n",
    "\n",
    "1. 训练和评估数据路径（必须）\n",
    "2. 字典路径（必须）\n",
    "3. 预训练模型 （可选）\n",
    "4. 学习率、image shape、网络结构（可选）"
   ]
  },
  {
   "cell_type": "markdown",
   "metadata": {},
   "source": [
    "### 4.2 模型评估\n",
    "\n",
    "\n",
    "评估数据集可以通过 `configs/rec/rec_icdar15_train.yml`  修改Eval中的 `label_file_path` 设置。\n",
    "\n",
    "这里默认使用 icdar2015 的评估集，加载刚刚训练好的模型权重："
   ]
  },
  {
   "cell_type": "code",
   "execution_count": null,
   "metadata": {
    "collapsed": false,
    "jupyter": {
     "outputs_hidden": false
    }
   },
   "outputs": [
    {
     "name": "stdout",
     "output_type": "stream",
     "text": [
      "[2021/12/23 14:27:51] root INFO: Architecture : \n",
      "[2021/12/23 14:27:51] root INFO:     Backbone : \n",
      "[2021/12/23 14:27:51] root INFO:         model_name : large\n",
      "[2021/12/23 14:27:51] root INFO:         name : MobileNetV3\n",
      "[2021/12/23 14:27:51] root INFO:         scale : 0.5\n",
      "[2021/12/23 14:27:51] root INFO:     Head : \n",
      "[2021/12/23 14:27:51] root INFO:         fc_decay : 0\n",
      "[2021/12/23 14:27:51] root INFO:         name : CTCHead\n",
      "[2021/12/23 14:27:51] root INFO:     Neck : \n",
      "[2021/12/23 14:27:51] root INFO:         encoder_type : rnn\n",
      "[2021/12/23 14:27:51] root INFO:         hidden_size : 96\n",
      "[2021/12/23 14:27:51] root INFO:         name : SequenceEncoder\n",
      "[2021/12/23 14:27:51] root INFO:     Transform : None\n",
      "[2021/12/23 14:27:51] root INFO:     algorithm : CRNN\n",
      "[2021/12/23 14:27:51] root INFO:     model_type : rec\n",
      "[2021/12/23 14:27:51] root INFO: Eval : \n",
      "[2021/12/23 14:27:51] root INFO:     dataset : \n",
      "[2021/12/23 14:27:51] root INFO:         data_dir : ./train_data/ic15_data\n",
      "[2021/12/23 14:27:51] root INFO:         label_file_list : ['./train_data/ic15_data/rec_gt_test.txt']\n",
      "[2021/12/23 14:27:51] root INFO:         name : SimpleDataSet\n",
      "[2021/12/23 14:27:51] root INFO:         transforms : \n",
      "[2021/12/23 14:27:51] root INFO:             DecodeImage : \n",
      "[2021/12/23 14:27:51] root INFO:                 channel_first : False\n",
      "[2021/12/23 14:27:51] root INFO:                 img_mode : BGR\n",
      "[2021/12/23 14:27:51] root INFO:             CTCLabelEncode : None\n",
      "[2021/12/23 14:27:51] root INFO:             RecResizeImg : \n",
      "[2021/12/23 14:27:51] root INFO:                 image_shape : [3, 32, 100]\n",
      "[2021/12/23 14:27:51] root INFO:             KeepKeys : \n",
      "[2021/12/23 14:27:51] root INFO:                 keep_keys : ['image', 'label', 'length']\n",
      "[2021/12/23 14:27:51] root INFO:     loader : \n",
      "[2021/12/23 14:27:51] root INFO:         batch_size_per_card : 256\n",
      "[2021/12/23 14:27:51] root INFO:         drop_last : False\n",
      "[2021/12/23 14:27:51] root INFO:         num_workers : 4\n",
      "[2021/12/23 14:27:51] root INFO:         shuffle : False\n",
      "[2021/12/23 14:27:51] root INFO:         use_shared_memory : False\n",
      "[2021/12/23 14:27:51] root INFO: Global : \n",
      "[2021/12/23 14:27:51] root INFO:     cal_metric_during_train : True\n",
      "[2021/12/23 14:27:51] root INFO:     character_dict_path : ppocr/utils/ic15_dict.txt\n",
      "[2021/12/23 14:27:51] root INFO:     character_type : EN\n",
      "[2021/12/23 14:27:51] root INFO:     checkpoints : output/rec/ic15/best_accuracy\n",
      "[2021/12/23 14:27:51] root INFO:     debug : False\n",
      "[2021/12/23 14:27:51] root INFO:     distributed : False\n",
      "[2021/12/23 14:27:51] root INFO:     epoch_num : 72\n",
      "[2021/12/23 14:27:51] root INFO:     eval_batch_step : [0, 2000]\n",
      "[2021/12/23 14:27:51] root INFO:     infer_img : doc/imgs_words_en/word_10.png\n",
      "[2021/12/23 14:27:51] root INFO:     infer_mode : False\n",
      "[2021/12/23 14:27:51] root INFO:     log_smooth_window : 20\n",
      "[2021/12/23 14:27:51] root INFO:     max_text_length : 25\n",
      "[2021/12/23 14:27:51] root INFO:     pretrained_model : None\n",
      "[2021/12/23 14:27:51] root INFO:     print_batch_step : 10\n",
      "[2021/12/23 14:27:51] root INFO:     save_epoch_step : 3\n",
      "[2021/12/23 14:27:51] root INFO:     save_inference_dir : ./\n",
      "[2021/12/23 14:27:51] root INFO:     save_model_dir : ./output/rec/ic15/\n",
      "[2021/12/23 14:27:51] root INFO:     save_res_path : ./output/rec/predicts_ic15.txt\n",
      "[2021/12/23 14:27:51] root INFO:     use_gpu : True\n",
      "[2021/12/23 14:27:51] root INFO:     use_space_char : False\n",
      "[2021/12/23 14:27:51] root INFO:     use_visualdl : False\n",
      "[2021/12/23 14:27:51] root INFO: Loss : \n",
      "[2021/12/23 14:27:51] root INFO:     name : CTCLoss\n",
      "[2021/12/23 14:27:51] root INFO: Metric : \n",
      "[2021/12/23 14:27:51] root INFO:     main_indicator : acc\n",
      "[2021/12/23 14:27:51] root INFO:     name : RecMetric\n",
      "[2021/12/23 14:27:51] root INFO: Optimizer : \n",
      "[2021/12/23 14:27:51] root INFO:     beta1 : 0.9\n",
      "[2021/12/23 14:27:51] root INFO:     beta2 : 0.999\n",
      "[2021/12/23 14:27:51] root INFO:     lr : \n",
      "[2021/12/23 14:27:51] root INFO:         learning_rate : 0.0005\n",
      "[2021/12/23 14:27:51] root INFO:     name : Adam\n",
      "[2021/12/23 14:27:51] root INFO:     regularizer : \n",
      "[2021/12/23 14:27:51] root INFO:         factor : 0\n",
      "[2021/12/23 14:27:51] root INFO:         name : L2\n",
      "[2021/12/23 14:27:51] root INFO: PostProcess : \n",
      "[2021/12/23 14:27:51] root INFO:     name : CTCLabelDecode\n",
      "[2021/12/23 14:27:51] root INFO: Train : \n",
      "[2021/12/23 14:27:51] root INFO:     dataset : \n",
      "[2021/12/23 14:27:51] root INFO:         data_dir : ./train_data/ic15_data/\n",
      "[2021/12/23 14:27:51] root INFO:         label_file_list : ['./train_data/ic15_data/rec_gt_train.txt']\n",
      "[2021/12/23 14:27:51] root INFO:         name : SimpleDataSet\n",
      "[2021/12/23 14:27:51] root INFO:         transforms : \n",
      "[2021/12/23 14:27:51] root INFO:             DecodeImage : \n",
      "[2021/12/23 14:27:51] root INFO:                 channel_first : False\n",
      "[2021/12/23 14:27:51] root INFO:                 img_mode : BGR\n",
      "[2021/12/23 14:27:51] root INFO:             CTCLabelEncode : None\n",
      "[2021/12/23 14:27:51] root INFO:             RecResizeImg : \n",
      "[2021/12/23 14:27:51] root INFO:                 image_shape : [3, 32, 100]\n",
      "[2021/12/23 14:27:51] root INFO:             KeepKeys : \n",
      "[2021/12/23 14:27:51] root INFO:                 keep_keys : ['image', 'label', 'length']\n",
      "[2021/12/23 14:27:51] root INFO:     loader : \n",
      "[2021/12/23 14:27:51] root INFO:         batch_size_per_card : 256\n",
      "[2021/12/23 14:27:51] root INFO:         drop_last : True\n",
      "[2021/12/23 14:27:51] root INFO:         num_workers : 8\n",
      "[2021/12/23 14:27:51] root INFO:         shuffle : True\n",
      "[2021/12/23 14:27:51] root INFO:         use_shared_memory : False\n",
      "[2021/12/23 14:27:51] root INFO: train with paddle 2.1.2 and device CUDAPlace(0)\n",
      "[2021/12/23 14:27:51] root INFO: Initialize indexs of datasets:['./train_data/ic15_data/rec_gt_test.txt']\n",
      "W1223 14:27:51.861889  5192 device_context.cc:404] Please NOTE: device: 0, GPU Compute Capability: 7.0, Driver API Version: 10.1, Runtime API Version: 10.1\n",
      "W1223 14:27:51.865501  5192 device_context.cc:422] device: 0, cuDNN Version: 7.6.\n",
      "[2021/12/23 14:27:56] root INFO: resume from output/rec/ic15/best_accuracy\n",
      "[2021/12/23 14:27:56] root INFO: metric in ckpt ***************\n",
      "[2021/12/23 14:27:56] root INFO: acc:0.48531535869041886\n",
      "[2021/12/23 14:27:56] root INFO: norm_edit_dis:0.7895228681338454\n",
      "[2021/12/23 14:27:56] root INFO: fps:3266.1877400927865\n",
      "[2021/12/23 14:27:56] root INFO: best_epoch:24\n",
      "[2021/12/23 14:27:56] root INFO: start_epoch:25\n",
      "eval model:: 100%|████████████████████████████████| 9/9 [00:02<00:00,  3.32it/s]\n",
      "[2021/12/23 14:27:59] root INFO: metric eval ***************\n",
      "[2021/12/23 14:27:59] root INFO: acc:0.48531535869041886\n",
      "[2021/12/23 14:27:59] root INFO: norm_edit_dis:0.7895228681338454\n",
      "[2021/12/23 14:27:59] root INFO: fps:4491.015930181665\n"
     ]
    }
   ],
   "source": [
    "!python tools/eval.py -c configs/rec/rec_icdar15_train.yml -o Global.checkpoints=output/rec/ic15/best_accuracy \\\n",
    "        Global.character_dict_path=ppocr/utils/ic15_dict.txt\n"
   ]
  },
  {
   "cell_type": "markdown",
   "metadata": {},
   "source": [
    "评估后，可以看到训练模型在验证集上的精度。\n",
    "\n",
    "PaddleOCR支持训练和评估交替进行, 可在 `configs/rec/rec_icdar15_train.yml` 中修改 `eval_batch_step` 设置评估频率，默认每2000个iter评估一次。评估过程中默认将最佳acc模型，保存为 `output/rec/ic15/best_accuracy` 。\n",
    "\n",
    "如果验证集很大，测试将会比较耗时，建议减少评估次数，或训练完再进行评估。"
   ]
  },
  {
   "cell_type": "markdown",
   "metadata": {},
   "source": [
    "### 4.3 预测\n",
    "\n",
    "使用 PaddleOCR 训练好的模型，可以通过以下脚本进行快速预测。\n",
    "\n",
    "预测图片：\n",
    "![](https://raw.githubusercontent.com/PaddlePaddle/PaddleOCR/release/2.3/doc/imgs_words_en/word_19.png)\n",
    "\n",
    "默认预测图片存储在 `infer_img` 里，通过 `-o Global.checkpoints` 加载训练好的参数文件："
   ]
  },
  {
   "cell_type": "code",
   "execution_count": null,
   "metadata": {
    "collapsed": false,
    "jupyter": {
     "outputs_hidden": false
    }
   },
   "outputs": [
    {
     "name": "stdout",
     "output_type": "stream",
     "text": [
      "[2021/12/23 14:29:19] root INFO: Architecture : \n",
      "[2021/12/23 14:29:19] root INFO:     Backbone : \n",
      "[2021/12/23 14:29:19] root INFO:         model_name : large\n",
      "[2021/12/23 14:29:19] root INFO:         name : MobileNetV3\n",
      "[2021/12/23 14:29:19] root INFO:         scale : 0.5\n",
      "[2021/12/23 14:29:19] root INFO:     Head : \n",
      "[2021/12/23 14:29:19] root INFO:         fc_decay : 0\n",
      "[2021/12/23 14:29:19] root INFO:         name : CTCHead\n",
      "[2021/12/23 14:29:19] root INFO:     Neck : \n",
      "[2021/12/23 14:29:19] root INFO:         encoder_type : rnn\n",
      "[2021/12/23 14:29:19] root INFO:         hidden_size : 96\n",
      "[2021/12/23 14:29:19] root INFO:         name : SequenceEncoder\n",
      "[2021/12/23 14:29:19] root INFO:     Transform : None\n",
      "[2021/12/23 14:29:19] root INFO:     algorithm : CRNN\n",
      "[2021/12/23 14:29:19] root INFO:     model_type : rec\n",
      "[2021/12/23 14:29:19] root INFO: Eval : \n",
      "[2021/12/23 14:29:19] root INFO:     dataset : \n",
      "[2021/12/23 14:29:19] root INFO:         data_dir : ./train_data/ic15_data\n",
      "[2021/12/23 14:29:19] root INFO:         label_file_list : ['./train_data/ic15_data/rec_gt_test.txt']\n",
      "[2021/12/23 14:29:19] root INFO:         name : SimpleDataSet\n",
      "[2021/12/23 14:29:19] root INFO:         transforms : \n",
      "[2021/12/23 14:29:19] root INFO:             DecodeImage : \n",
      "[2021/12/23 14:29:19] root INFO:                 channel_first : False\n",
      "[2021/12/23 14:29:19] root INFO:                 img_mode : BGR\n",
      "[2021/12/23 14:29:19] root INFO:             CTCLabelEncode : None\n",
      "[2021/12/23 14:29:19] root INFO:             RecResizeImg : \n",
      "[2021/12/23 14:29:19] root INFO:                 image_shape : [3, 32, 100]\n",
      "[2021/12/23 14:29:19] root INFO:             KeepKeys : \n",
      "[2021/12/23 14:29:19] root INFO:                 keep_keys : ['image', 'label', 'length']\n",
      "[2021/12/23 14:29:19] root INFO:     loader : \n",
      "[2021/12/23 14:29:19] root INFO:         batch_size_per_card : 256\n",
      "[2021/12/23 14:29:19] root INFO:         drop_last : False\n",
      "[2021/12/23 14:29:19] root INFO:         num_workers : 4\n",
      "[2021/12/23 14:29:19] root INFO:         shuffle : False\n",
      "[2021/12/23 14:29:19] root INFO:         use_shared_memory : False\n",
      "[2021/12/23 14:29:19] root INFO: Global : \n",
      "[2021/12/23 14:29:19] root INFO:     cal_metric_during_train : True\n",
      "[2021/12/23 14:29:19] root INFO:     character_dict_path : ppocr/utils/ic15_dict.txt\n",
      "[2021/12/23 14:29:19] root INFO:     character_type : EN\n",
      "[2021/12/23 14:29:19] root INFO:     checkpoints : output/rec/ic15/best_accuracy\n",
      "[2021/12/23 14:29:19] root INFO:     debug : False\n",
      "[2021/12/23 14:29:19] root INFO:     distributed : False\n",
      "[2021/12/23 14:29:19] root INFO:     epoch_num : 72\n",
      "[2021/12/23 14:29:19] root INFO:     eval_batch_step : [0, 2000]\n",
      "[2021/12/23 14:29:19] root INFO:     infer_img : doc/imgs_words_en/word_19.png\n",
      "[2021/12/23 14:29:19] root INFO:     infer_mode : False\n",
      "[2021/12/23 14:29:19] root INFO:     log_smooth_window : 20\n",
      "[2021/12/23 14:29:19] root INFO:     max_text_length : 25\n",
      "[2021/12/23 14:29:19] root INFO:     pretrained_model : None\n",
      "[2021/12/23 14:29:19] root INFO:     print_batch_step : 10\n",
      "[2021/12/23 14:29:19] root INFO:     save_epoch_step : 3\n",
      "[2021/12/23 14:29:19] root INFO:     save_inference_dir : ./\n",
      "[2021/12/23 14:29:19] root INFO:     save_model_dir : ./output/rec/ic15/\n",
      "[2021/12/23 14:29:19] root INFO:     save_res_path : ./output/rec/predicts_ic15.txt\n",
      "[2021/12/23 14:29:19] root INFO:     use_gpu : True\n",
      "[2021/12/23 14:29:19] root INFO:     use_space_char : False\n",
      "[2021/12/23 14:29:19] root INFO:     use_visualdl : False\n",
      "[2021/12/23 14:29:19] root INFO: Loss : \n",
      "[2021/12/23 14:29:19] root INFO:     name : CTCLoss\n",
      "[2021/12/23 14:29:19] root INFO: Metric : \n",
      "[2021/12/23 14:29:19] root INFO:     main_indicator : acc\n",
      "[2021/12/23 14:29:19] root INFO:     name : RecMetric\n",
      "[2021/12/23 14:29:19] root INFO: Optimizer : \n",
      "[2021/12/23 14:29:19] root INFO:     beta1 : 0.9\n",
      "[2021/12/23 14:29:19] root INFO:     beta2 : 0.999\n",
      "[2021/12/23 14:29:19] root INFO:     lr : \n",
      "[2021/12/23 14:29:19] root INFO:         learning_rate : 0.0005\n",
      "[2021/12/23 14:29:19] root INFO:     name : Adam\n",
      "[2021/12/23 14:29:19] root INFO:     regularizer : \n",
      "[2021/12/23 14:29:19] root INFO:         factor : 0\n",
      "[2021/12/23 14:29:19] root INFO:         name : L2\n",
      "[2021/12/23 14:29:19] root INFO: PostProcess : \n",
      "[2021/12/23 14:29:19] root INFO:     name : CTCLabelDecode\n",
      "[2021/12/23 14:29:19] root INFO: Train : \n",
      "[2021/12/23 14:29:19] root INFO:     dataset : \n",
      "[2021/12/23 14:29:19] root INFO:         data_dir : ./train_data/ic15_data/\n",
      "[2021/12/23 14:29:19] root INFO:         label_file_list : ['./train_data/ic15_data/rec_gt_train.txt']\n",
      "[2021/12/23 14:29:19] root INFO:         name : SimpleDataSet\n",
      "[2021/12/23 14:29:19] root INFO:         transforms : \n",
      "[2021/12/23 14:29:19] root INFO:             DecodeImage : \n",
      "[2021/12/23 14:29:19] root INFO:                 channel_first : False\n",
      "[2021/12/23 14:29:19] root INFO:                 img_mode : BGR\n",
      "[2021/12/23 14:29:19] root INFO:             CTCLabelEncode : None\n",
      "[2021/12/23 14:29:19] root INFO:             RecResizeImg : \n",
      "[2021/12/23 14:29:19] root INFO:                 image_shape : [3, 32, 100]\n",
      "[2021/12/23 14:29:19] root INFO:             KeepKeys : \n",
      "[2021/12/23 14:29:19] root INFO:                 keep_keys : ['image', 'label', 'length']\n",
      "[2021/12/23 14:29:19] root INFO:     loader : \n",
      "[2021/12/23 14:29:19] root INFO:         batch_size_per_card : 256\n",
      "[2021/12/23 14:29:19] root INFO:         drop_last : True\n",
      "[2021/12/23 14:29:19] root INFO:         num_workers : 8\n",
      "[2021/12/23 14:29:19] root INFO:         shuffle : True\n",
      "[2021/12/23 14:29:19] root INFO:         use_shared_memory : False\n",
      "[2021/12/23 14:29:19] root INFO: train with paddle 2.1.2 and device CUDAPlace(0)\n",
      "W1223 14:29:19.803710  5290 device_context.cc:404] Please NOTE: device: 0, GPU Compute Capability: 7.0, Driver API Version: 10.1, Runtime API Version: 10.1\n",
      "W1223 14:29:19.807695  5290 device_context.cc:422] device: 0, cuDNN Version: 7.6.\n",
      "[2021/12/23 14:29:25] root INFO: resume from output/rec/ic15/best_accuracy\n",
      "[2021/12/23 14:29:25] root INFO: infer_img: doc/imgs_words_en/word_19.png\n",
      "pred idx: Tensor(shape=[1, 25], dtype=int64, place=CUDAPlace(0), stop_gradient=True,\n",
      "       [[29, 0 , 0 , 0 , 22, 0 , 0 , 0 , 25, 0 , 0 , 0 , 0 , 0 , 0 , 0 , 0 , 0 , 0 , 0 , 0 , 0 , 0 , 0 , 33]])\n",
      "[2021/12/23 14:29:25] root INFO: \t result: slow\t0.8795223\n",
      "[2021/12/23 14:29:25] root INFO: success!\n"
     ]
    }
   ],
   "source": [
    "!python tools/infer_rec.py -c configs/rec/rec_icdar15_train.yml -o Global.checkpoints=output/rec/ic15/best_accuracy Global.character_dict_path=ppocr/utils/ic15_dict.txt"
   ]
  },
  {
   "cell_type": "markdown",
   "metadata": {},
   "source": [
    "得到输入图像的预测结果：\n",
    "\n",
    "```\n",
    "infer_img: doc/imgs_words_en/word_19.png\n",
    "        result: slow\t0.8795223\n",
    "```\n"
   ]
  },
  {
   "cell_type": "markdown",
   "metadata": {},
   "source": [
    "### 作业\n",
    "\n",
    "**【题目1】**\n",
    "\n",
    "可视化出 PaddleOCR 中的实现的[数据增强](https://github.com/PaddlePaddle/PaddleOCR/blob/release/2.4/ppocr/data/imaug/rec_img_aug.py)结果：noise、jitter, 并用语言解释效果。\n",
    "\n",
    "可选测试图片：\n",
    "\n",
    "![](https://raw.githubusercontent.com/PaddlePaddle/PaddleOCR/release/2.4/doc/imgs_words/ch/word_1.jpg)\n",
    "\n",
    "![](https://raw.githubusercontent.com/PaddlePaddle/PaddleOCR/release/2.4/doc/imgs_words/ch/word_2.jpg)\n",
    "\n",
    "![](https://raw.githubusercontent.com/PaddlePaddle/PaddleOCR/release/2.4/doc/imgs_words/ch/word_3.jpg)\n",
    "\n",
    "\n",
    "**【题目2】**\n",
    "\n",
    "更换 configs/rec/rec_icdar15_train.yml 配置中的 backbone 为 PaddleOCR 中的 [ResNet34_vd](https://github.com/PaddlePaddle/PaddleOCR/blob/6ee301be36eb54d91dc437842f754593dce13967/ppocr/modeling/backbones/rec_resnet_vd.py#L176)，当输入图片shape为（3，32，100）时，Head 层最终输出的特征尺寸是多少？\n",
    "\n",
    "\n",
    "**【题目3】**\n",
    "\n",
    "下载10W中文数据集[rec_data_lesson_demo](https://paddleocr.bj.bcebos.com/dataset/rec_data_lesson_demo.tar)，修改 configs/rec/rec_icdar15_train.yml  配置文件训练一个识别模型，提供训练log。\n",
    "\n",
    "可加载预训练模型： https://paddleocr.bj.bcebos.com/dygraph_v2.0/en/rec_mv3_none_bilstm_ctc_v2.0_train.tar \n",
    "\n",
    "\n",
    "## 总结\n",
    "\n",
    "至此，一个基于CRNN的文本识别任务就全部完成了，更多功能和代码可以参考 [PaddleOCR](https://github.com/PaddlePaddle/PaddleOCR)。\n",
    "\n",
    "如果对项目任何问题或者疑问，欢迎在评论区留言提出"
   ]
  }
 ],
 "metadata": {
  "kernelspec": {
   "display_name": "Python 3 (ipykernel)",
   "language": "python",
   "name": "python3"
  },
  "language_info": {
   "codemirror_mode": {
    "name": "ipython",
    "version": 3
   },
   "file_extension": ".py",
   "mimetype": "text/x-python",
   "name": "python",
   "nbconvert_exporter": "python",
   "pygments_lexer": "ipython3",
   "version": "3.8.15"
  }
 },
 "nbformat": 4,
 "nbformat_minor": 4
}

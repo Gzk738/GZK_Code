{
 "cells": [
  {
   "cell_type": "code",
   "execution_count": null,
   "id": "4d5e2da5",
   "metadata": {},
   "outputs": [],
   "source": [
    "# -*- coding: utf-8 -*-\n",
    "# @Time : 4/14/2021 1:52 PM\n",
    "# @Author : XXX\n",
    "# @Site : \n",
    "# @File : class02.py\n",
    "# @Software: PyCharm\n",
    "import cv2\n",
    "import numpy as np\n",
    "import matplotlib.pyplot as plt\n",
    "from PIL import Image\n",
    "import math\n",
    "import json\n",
    "c = 1.2\n",
    "b = 100\n",
    "image = cv2.imread('LENA256.jpg')\n",
    "h, w, ch = image.shape\n",
    "blank = np.zeros([h, w, ch], image.dtype)\n",
    "dst = cv2.addWeighted(image, c, blank, 1 - c, b)  # 改变像素的API\n",
    "plt.imshow(dst)"
   ]
  }
 ],
 "metadata": {
  "kernelspec": {
   "display_name": "Python 3",
   "language": "python",
   "name": "python3"
  },
  "language_info": {
   "codemirror_mode": {
    "name": "ipython",
    "version": 3
   },
   "file_extension": ".py",
   "mimetype": "text/x-python",
   "name": "python",
   "nbconvert_exporter": "python",
   "pygments_lexer": "ipython3",
   "version": "3.8.8"
  }
 },
 "nbformat": 4,
 "nbformat_minor": 5
}

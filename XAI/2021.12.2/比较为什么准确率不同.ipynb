{
 "cells": [
  {
   "cell_type": "code",
   "execution_count": 4,
   "id": "a5340438-b8be-4238-9ef1-0d92ed632172",
   "metadata": {},
   "outputs": [
    {
     "name": "stdout",
     "output_type": "stream",
     "text": [
      "<class 'str'>\n",
      "<class 'dict'>\n",
      "<class 'str'>\n",
      "<class 'dict'>\n"
     ]
    }
   ],
   "source": [
    "with open(\"./测试结果/两种方法的测试记录_独立删除.txt\", \"r\")as f:\n",
    "    data = f.read()\n",
    "print(type(data))\n",
    "i_handle =eval(data)\n",
    "print(type(i_handle))\n",
    "\n",
    "with open(\"./测试结果/两种方法的测试记录_逐级删除.txt\", \"r\")as f:\n",
    "    data = f.read()\n",
    "print(type(data))\n",
    "c_handle =eval(data)\n",
    "print(type(c_handle))"
   ]
  },
  {
   "cell_type": "code",
   "execution_count": 6,
   "id": "2cde77a5-6e52-4f0f-ace9-2b123b33a9d6",
   "metadata": {},
   "outputs": [
    {
     "name": "stdout",
     "output_type": "stream",
     "text": [
      "4142 3225\n"
     ]
    }
   ],
   "source": [
    "i_f1 = i_handle[\"f1\"]\n",
    "c_f1 = c_handle[\"f1\"]\n",
    "print(len(i_f1), len(c_f1))"
   ]
  },
  {
   "cell_type": "code",
   "execution_count": 17,
   "id": "a714a626-763d-4724-90f0-58792ae18003",
   "metadata": {},
   "outputs": [],
   "source": [
    "temp = [[], []]\n",
    "for i in i_f1:\n",
    "    temp[0].append(i[0])\n",
    "for i in c_f1:\n",
    "    temp[1].append(i[0])\n",
    "with open(\"./逐级删除的准确率\", \"w\")as f:\n",
    "    for i in temp[0]:\n",
    "        f.write(str(i))\n",
    "        f.write(\"\\r\\n\")\n",
    "with open(\"./独立删除的准确率\", \"w\")as f:\n",
    "    for i in temp[1]:\n",
    "        f.write(str(i))\n",
    "        f.write(\"\\r\\n\")"
   ]
  }
 ],
 "metadata": {
  "kernelspec": {
   "display_name": "Python 3 (ipykernel)",
   "language": "python",
   "name": "python3"
  },
  "language_info": {
   "codemirror_mode": {
    "name": "ipython",
    "version": 3
   },
   "file_extension": ".py",
   "mimetype": "text/x-python",
   "name": "python",
   "nbconvert_exporter": "python",
   "pygments_lexer": "ipython3",
   "version": "3.8.12"
  }
 },
 "nbformat": 4,
 "nbformat_minor": 5
}

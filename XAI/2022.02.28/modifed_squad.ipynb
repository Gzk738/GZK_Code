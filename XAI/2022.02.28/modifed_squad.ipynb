{
 "cells": [
  {
   "cell_type": "code",
   "execution_count": 32,
   "id": "d5245ce5-0685-44da-bfb5-1532e9ce6219",
   "metadata": {},
   "outputs": [
    {
     "name": "stderr",
     "output_type": "stream",
     "text": [
      "Reusing dataset squad (C:\\Users\\GZK\\.cache\\huggingface\\datasets\\squad\\plain_text\\1.0.0\\d6ec3ceb99ca480ce37cdd35555d6cb2511d223b9150cce08a837ef62ffea453)\n"
     ]
    }
   ],
   "source": [
    "from datasets import load_dataset\n",
    "\n",
    "squad = load_dataset(\"squad\", split = \"train[10:20]\")"
   ]
  },
  {
   "cell_type": "code",
   "execution_count": 35,
   "id": "6b67a2e3-3174-4cdc-ac53-81bf74b6ce92",
   "metadata": {},
   "outputs": [
    {
     "data": {
      "text/plain": [
       "9273"
      ]
     },
     "execution_count": 35,
     "metadata": {},
     "output_type": "execute_result"
    }
   ],
   "source": [
    "datasets.Dataset.to_csv(squad, \"train.csv\")"
   ]
  },
  {
   "cell_type": "code",
   "execution_count": null,
   "id": "67d01d0d-9103-454f-8dbf-e5b3d878026f",
   "metadata": {},
   "outputs": [],
   "source": [
    "dataset = load_dataset('csv', data_files={'train': './traindata.csv'})"
   ]
  },
  {
   "cell_type": "code",
   "execution_count": 34,
   "id": "9368eabf-16ee-4dc7-8382-676998f63f1d",
   "metadata": {},
   "outputs": [
    {
     "data": {
      "text/plain": [
       "DatasetDict({\n",
       "    train: Dataset({\n",
       "        features: ['Unnamed: 0', 'id', 'title', 'context', 'question', 'answers'],\n",
       "        num_rows: 10\n",
       "    })\n",
       "})"
      ]
     },
     "execution_count": 34,
     "metadata": {},
     "output_type": "execute_result"
    }
   ],
   "source": [
    "dataset"
   ]
  },
  {
   "cell_type": "code",
   "execution_count": 40,
   "id": "1849ba83-fe61-432d-8eb5-46a78936beeb",
   "metadata": {},
   "outputs": [
    {
     "name": "stdout",
     "output_type": "stream",
     "text": [
      ",id,title,context,question,answers\n",
      "0,5733bed24776f41900661188,University_of_Notre_Dame,\"The, university, is, the, major, seat, of, the, Congregation, of, Holy, Cross, (albeit, not, its, official, headquarters,, which, are, in, Rome)., Its, main, seminary,, Moreau, Seminary,, is, located, on, the, campus, across, St., Joseph, lake, from, the, Main, Building., Old, College,, the, oldest, building, on, campus, and, located, near, the, shore, of, St., Mary, lake,, houses, undergraduate, seminarians., Retired, priests, and, brothers, reside, in, Fatima, House, (a, former, retreat, center),, Holy, Cross, House,, as, well, as, Columba, Hall, near, the, Grotto., The, university, through, the, Moreau, Seminary, has, ties, to, theologian, Frederick, Buechner., While, not, Catholic,, Buechner, has, praised, writers, from, Notre, Dame, and, Moreau, Seminary, created, a, Buechner, Prize, for, Preaching.\",Where, is, the, headquarters, of, the, Congregation, of, the, Holy, Cross?,\"{'text':, array(['Rome'],, dtype=object),, 'answer_start':, array([119])}\"\n",
      "1,5733bed24776f41900661189,University_of_Notre_Dame,\"The, university, is, the, major, seat, of, the, Congregation, of, Holy, Cross, (albeit, not, its, official, headquarters,, which, are, in, Rome)., Its, main, seminary,, Moreau, Seminary,, is, located, on, the, campus, across, St., Joseph, lake, from, the, Main, Building., Old, College,, the, oldest, building, on, campus, and, located, near, the, shore, of, St., Mary, lake,, houses, undergraduate, seminarians., Retired, priests, and, brothers, reside, in, Fatima, House, (a, former, retreat, center),, Holy, Cross, House,, as, well, as, Columba, Hall, near, the, Grotto., The, university, through, the, Moreau, Seminary, has, ties, to, theologian, Frederick, Buechner., While, not, Catholic,, Buechner, has, praised, writers, from, Notre, Dame, and, Moreau, Seminary, created, a, Buechner, Prize, for, Preaching.\",What, is, the, primary, seminary, of, the, Congregation, of, the, Holy, Cross?,\"{'text':, array(['Moreau, Seminary'],, dtype=object),, 'answer_start':, array([145])}\"\n",
      "2,5733bed24776f4190066118a,University_of_Notre_Dame,\"The, university, is, the, major, seat, of, the, Congregation, of, Holy, Cross, (albeit, not, its, official, headquarters,, which, are, in, Rome)., Its, main, seminary,, Moreau, Seminary,, is, located, on, the, campus, across, St., Joseph, lake, from, the, Main, Building., Old, College,, the, oldest, building, on, campus, and, located, near, the, shore, of, St., Mary, lake,, houses, undergraduate, seminarians., Retired, priests, and, brothers, reside, in, Fatima, House, (a, former, retreat, center),, Holy, Cross, House,, as, well, as, Columba, Hall, near, the, Grotto., The, university, through, the, Moreau, Seminary, has, ties, to, theologian, Frederick, Buechner., While, not, Catholic,, Buechner, has, praised, writers, from, Notre, Dame, and, Moreau, Seminary, created, a, Buechner, Prize, for, Preaching.\",What, is, the, oldest, structure, at, Notre, Dame?,\"{'text':, array(['Old, College'],, dtype=object),, 'answer_start':, array([234])}\"\n",
      "3,5733bed24776f4190066118b,University_of_Notre_Dame,\"The, university, is, the, major, seat, of, the, Congregation, of, Holy, Cross, (albeit, not, its, official, headquarters,, which, are, in, Rome)., Its, main, seminary,, Moreau, Seminary,, is, located, on, the, campus, across, St., Joseph, lake, from, the, Main, Building., Old, College,, the, oldest, building, on, campus, and, located, near, the, shore, of, St., Mary, lake,, houses, undergraduate, seminarians., Retired, priests, and, brothers, reside, in, Fatima, House, (a, former, retreat, center),, Holy, Cross, House,, as, well, as, Columba, Hall, near, the, Grotto., The, university, through, the, Moreau, Seminary, has, ties, to, theologian, Frederick, Buechner., While, not, Catholic,, Buechner, has, praised, writers, from, Notre, Dame, and, Moreau, Seminary, created, a, Buechner, Prize, for, Preaching.\",What, individuals, live, at, Fatima, House, at, Notre, Dame?,\"{'text':, array(['Retired, priests, and, brothers'],, dtype=object),, 'answer_start':, array([356])}\"\n",
      "4,5733bed24776f4190066118c,University_of_Notre_Dame,\"The, university, is, the, major, seat, of, the, Congregation, of, Holy, Cross, (albeit, not, its, official, headquarters,, which, are, in, Rome)., Its, main, seminary,, Moreau, Seminary,, is, located, on, the, campus, across, St., Joseph, lake, from, the, Main, Building., Old, College,, the, oldest, building, on, campus, and, located, near, the, shore, of, St., Mary, lake,, houses, undergraduate, seminarians., Retired, priests, and, brothers, reside, in, Fatima, House, (a, former, retreat, center),, Holy, Cross, House,, as, well, as, Columba, Hall, near, the, Grotto., The, university, through, the, Moreau, Seminary, has, ties, to, theologian, Frederick, Buechner., While, not, Catholic,, Buechner, has, praised, writers, from, Notre, Dame, and, Moreau, Seminary, created, a, Buechner, Prize, for, Preaching.\",Which, prize, did, Frederick, Buechner, create?,\"{'text':, array(['Buechner, Prize, for, Preaching'],, dtype=object),, 'answer_start':, array([675])}\"\n",
      "5,5733a6424776f41900660f51,University_of_Notre_Dame,\"The, College, of, Engineering, was, established, in, 1920,, however,, early, courses, in, civil, and, mechanical, engineering, were, a, part, of, the, College, of, Science, since, the, 1870s., Today, the, college,, housed, in, the, Fitzpatrick,, Cushing,, and, Stinson-Remick, Halls, of, Engineering,, includes, five, departments, of, study, –, aerospace, and, mechanical, engineering,, chemical, and, biomolecular, engineering,, civil, engineering, and, geological, sciences,, computer, science, and, engineering,, and, electrical, engineering, –, with, eight, B.S., degrees, offered., Additionally,, the, college, offers, five-year, dual, degree, programs, with, the, Colleges, of, Arts, and, Letters, and, of, Business, awarding, additional, B.A., and, Master, of, Business, Administration, (MBA), degrees,, respectively.\",How, many, BS, level, degrees, are, offered, in, the, College, of, Engineering, at, Notre, Dame?,\"{'text':, array(['eight'],, dtype=object),, 'answer_start':, array([487])}\"\n",
      "6,5733a6424776f41900660f4e,University_of_Notre_Dame,\"The, College, of, Engineering, was, established, in, 1920,, however,, early, courses, in, civil, and, mechanical, engineering, were, a, part, of, the, College, of, Science, since, the, 1870s., Today, the, college,, housed, in, the, Fitzpatrick,, Cushing,, and, Stinson-Remick, Halls, of, Engineering,, includes, five, departments, of, study, –, aerospace, and, mechanical, engineering,, chemical, and, biomolecular, engineering,, civil, engineering, and, geological, sciences,, computer, science, and, engineering,, and, electrical, engineering, –, with, eight, B.S., degrees, offered., Additionally,, the, college, offers, five-year, dual, degree, programs, with, the, Colleges, of, Arts, and, Letters, and, of, Business, awarding, additional, B.A., and, Master, of, Business, Administration, (MBA), degrees,, respectively.\",In, what, year, was, the, College, of, Engineering, at, Notre, Dame, formed?,\"{'text':, array(['1920'],, dtype=object),, 'answer_start':, array([46])}\"\n",
      "7,5733a6424776f41900660f4f,University_of_Notre_Dame,\"The, College, of, Engineering, was, established, in, 1920,, however,, early, courses, in, civil, and, mechanical, engineering, were, a, part, of, the, College, of, Science, since, the, 1870s., Today, the, college,, housed, in, the, Fitzpatrick,, Cushing,, and, Stinson-Remick, Halls, of, Engineering,, includes, five, departments, of, study, –, aerospace, and, mechanical, engineering,, chemical, and, biomolecular, engineering,, civil, engineering, and, geological, sciences,, computer, science, and, engineering,, and, electrical, engineering, –, with, eight, B.S., degrees, offered., Additionally,, the, college, offers, five-year, dual, degree, programs, with, the, Colleges, of, Arts, and, Letters, and, of, Business, awarding, additional, B.A., and, Master, of, Business, Administration, (MBA), degrees,, respectively.\",Before, the, creation, of, the, College, of, Engineering, similar, studies, were, carried, out, at, which, Notre, Dame, college?,\"{'text':, array(['the, College, of, Science'],, dtype=object),, 'answer_start':, array([126])}\"\n",
      "8,5733a6424776f41900660f50,University_of_Notre_Dame,\"The, College, of, Engineering, was, established, in, 1920,, however,, early, courses, in, civil, and, mechanical, engineering, were, a, part, of, the, College, of, Science, since, the, 1870s., Today, the, college,, housed, in, the, Fitzpatrick,, Cushing,, and, Stinson-Remick, Halls, of, Engineering,, includes, five, departments, of, study, –, aerospace, and, mechanical, engineering,, chemical, and, biomolecular, engineering,, civil, engineering, and, geological, sciences,, computer, science, and, engineering,, and, electrical, engineering, –, with, eight, B.S., degrees, offered., Additionally,, the, college, offers, five-year, dual, degree, programs, with, the, Colleges, of, Arts, and, Letters, and, of, Business, awarding, additional, B.A., and, Master, of, Business, Administration, (MBA), degrees,, respectively.\",How, many, departments, are, within, the, Stinson-Remick, Hall, of, Engineering?,\"{'text':, array(['five'],, dtype=object),, 'answer_start':, array([271])}\"\n",
      "9,5733a6424776f41900660f52,University_of_Notre_Dame,\"The, College, of, Engineering, was, established, in, 1920,, however,, early, courses, in, civil, and, mechanical, engineering, were, a, part, of, the, College, of, Science, since, the, 1870s., Today, the, college,, housed, in, the, Fitzpatrick,, Cushing,, and, Stinson-Remick, Halls, of, Engineering,, includes, five, departments, of, study, –, aerospace, and, mechanical, engineering,, chemical, and, biomolecular, engineering,, civil, engineering, and, geological, sciences,, computer, science, and, engineering,, and, electrical, engineering, –, with, eight, B.S., degrees, offered., Additionally,, the, college, offers, five-year, dual, degree, programs, with, the, Colleges, of, Arts, and, Letters, and, of, Business, awarding, additional, B.A., and, Master, of, Business, Administration, (MBA), degrees,, respectively.\",The, College, of, Science, began, to, offer, civil, engineering, courses, beginning, at, what, time, at, Notre, Dame?,\"{'text':, array(['the, 1870s'],, dtype=object),, 'answer_start':, array([155])}\"\n"
     ]
    }
   ],
   "source": [
    "import csv\n",
    "with open('train.csv', \"r\", encoding='utf-8') as csvfile:\n",
    "    spamreader = csv.reader(csvfile, delimiter=' ', quotechar='|')\n",
    "    for row in spamreader:\n",
    "        print(', '.join(row))"
   ]
  }
 ],
 "metadata": {
  "kernelspec": {
   "display_name": "Python 3 (ipykernel)",
   "language": "python",
   "name": "python3"
  },
  "language_info": {
   "codemirror_mode": {
    "name": "ipython",
    "version": 3
   },
   "file_extension": ".py",
   "mimetype": "text/x-python",
   "name": "python",
   "nbconvert_exporter": "python",
   "pygments_lexer": "ipython3",
   "version": "3.8.12"
  }
 },
 "nbformat": 4,
 "nbformat_minor": 5
}

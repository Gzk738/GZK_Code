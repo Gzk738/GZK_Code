{
 "cells": [
  {
   "cell_type": "code",
   "execution_count": 2,
   "id": "37a90461-9062-44aa-9748-26db4e8c301c",
   "metadata": {},
   "outputs": [
    {
     "name": "stdout",
     "output_type": "stream",
     "text": [
      "{'ids': 0, 'preds': ['denver broncos', '', 'denver broncos', '', ''], 'attributions': [0.02042770916416313, -0.035657228473094826, 0.1091548733529133, -0.034423261329745165, -0.00717633141150485], 'start_score': [0.9926780462265015, 0.22192904353141785, 0.9735809564590454, 0.24318240582942963, 0.41909438371658325], 'end_score': [0.9967849254608154, 0.21819590032100677, 0.9769585728645325, 0.3430425524711609, 0.2676049768924713], 'answer': 'Denver Broncos'}\n",
      "<class 'dict'>\n"
     ]
    }
   ],
   "source": [
    "with open(r\"answers.txt\")as f:\n",
    "    json_str = f.readlines()\n",
    "    \n",
    "    new_dict = json.loads(json_str)\n",
    "print(new_dict)\n",
    "print(type(new_dict))\n"
   ]
  }
 ],
 "metadata": {
  "kernelspec": {
   "display_name": "Python 3 (ipykernel)",
   "language": "python",
   "name": "python3"
  },
  "language_info": {
   "codemirror_mode": {
    "name": "ipython",
    "version": 3
   },
   "file_extension": ".py",
   "mimetype": "text/x-python",
   "name": "python",
   "nbconvert_exporter": "python",
   "pygments_lexer": "ipython3",
   "version": "3.8.12"
  }
 },
 "nbformat": 4,
 "nbformat_minor": 5
}

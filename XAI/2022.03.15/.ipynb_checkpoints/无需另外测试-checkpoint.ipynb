{
 "cells": [
  {
   "cell_type": "code",
   "execution_count": 1,
   "id": "34830708-4989-44e5-bd24-c0918648798a",
   "metadata": {},
   "outputs": [
    {
     "name": "stderr",
     "output_type": "stream",
     "text": [
      "Reusing dataset squad (C:\\Users\\GZK\\.cache\\huggingface\\datasets\\squad\\plain_text\\1.0.0\\d6ec3ceb99ca480ce37cdd35555d6cb2511d223b9150cce08a837ef62ffea453)\n"
     ]
    },
    {
     "data": {
      "application/vnd.jupyter.widget-view+json": {
       "model_id": "83cb5fd101a34ebca241274b4bec8d3f",
       "version_major": 2,
       "version_minor": 0
      },
      "text/plain": [
       "  0%|          | 0/2 [00:00<?, ?it/s]"
      ]
     },
     "metadata": {},
     "output_type": "display_data"
    }
   ],
   "source": [
    "from datasets import load_dataset\n",
    "squad = load_dataset(\"squad\")\n",
    "shuffled_squad = squad.shuffle()"
   ]
  },
  {
   "cell_type": "code",
   "execution_count": 2,
   "id": "b8581a88-09c3-4b69-a088-c3eb679909ea",
   "metadata": {},
   "outputs": [],
   "source": [
    "train_contexts = []\n",
    "train_questions = []\n",
    "train_answers = []\n",
    "train_ids = []\n",
    "\n",
    "\n",
    "for i in range(len(shuffled_squad['train'])):\n",
    "    train_contexts.append(shuffled_squad['train'][i]['context'])\n",
    "    train_questions.append(shuffled_squad['train'][i]['question'])\n",
    "    train_answers.append(shuffled_squad['train'][i]['answers'])\n",
    "    train_ids.append(shuffled_squad['train'][i]['id'])\n",
    "\n",
    "\n"
   ]
  },
  {
   "cell_type": "code",
   "execution_count": 3,
   "id": "1ff662bb-acb9-4cc0-8e93-fea96c3b295d",
   "metadata": {},
   "outputs": [],
   "source": [
    "validation_contexts = train_contexts[77599:87599]\n",
    "train_contexts = train_contexts[:77599]\n",
    "validation_question = train_questions[77599:87599]\n",
    "train_questions = train_questions[:77599]\n",
    "validation_answers = train_answers[77599:87599]\n",
    "train_answers = train_answers[:77599]\n",
    "validation_ids = train_ids[77599:87599]\n",
    "train_ids = train_ids[:77599]\n",
    "\n",
    "\n"
   ]
  },
  {
   "cell_type": "code",
   "execution_count": 4,
   "id": "de46359c-9569-4bfb-87e2-b5d06260d364",
   "metadata": {},
   "outputs": [
    {
     "name": "stdout",
     "output_type": "stream",
     "text": [
      "error_index :  1572\n"
     ]
    }
   ],
   "source": [
    "import nltk as tk\n",
    "import re\n",
    "sep_train_contexts = []\n",
    "sep_train_questions = []\n",
    "sep_train_answers = []\n",
    "error_index = []\n",
    "null_answer = {'text': '[NULL]', 'answer_start': 0}\n",
    "for i in range(len(train_contexts)):\n",
    "    tokens = tk.sent_tokenize(train_contexts[i])\n",
    "    for token in tokens:\n",
    "        if train_answers[i]['text'][0] in token:\n",
    "            try:\n",
    "                answer_start = re.search(train_answers[i]['text'][0], token)\n",
    "                answer = {'text': train_answers[i]['text'], 'answer_start':  answer_start.span()[0]}\n",
    "                sep_train_contexts.append(token)\n",
    "\n",
    "            \n",
    "                sep_train_answers.append(answer)\n",
    "                sep_train_questions.append(train_questions[i])\n",
    "            except:\n",
    "                error_index.append(i)\n",
    "\n",
    "                # print(i)\n",
    "        # else:\n",
    "        #     sep_train_contexts.append('[NULL]' + token)\n",
    "        #     sep_train_answers.append(null_answer)\n",
    "        #     sep_train_questions.append(train_questions[i])\n",
    "print(\"error_index : \", len(error_index))\n",
    "            \n"
   ]
  },
  {
   "cell_type": "code",
   "execution_count": 5,
   "id": "b732947b-ab19-4454-86fa-3b8299d291d0",
   "metadata": {},
   "outputs": [],
   "source": [
    "def add_end_idx(answers, contexts):\n",
    "    for answer, context in zip(answers, contexts):\n",
    "        gold_text = answer['text'][0]\n",
    "        if type(answer['answer_start']) == list:\n",
    "            temp = answer['answer_start'][0]\n",
    "            answer['answer_start'] = temp\n",
    "        else:\n",
    "            start_idx = answer['answer_start']\n",
    "        end_idx = start_idx + len(gold_text)\n",
    "\n",
    "        # sometimes squad answers are off by a character or two – fix this\n",
    "        if context[start_idx:end_idx] == gold_text:\n",
    "            answer['answer_end'] = end_idx\n",
    "        elif context[start_idx-1:end_idx-1] == gold_text:\n",
    "            answer['answer_start'] = start_idx - 1\n",
    "            answer['answer_end'] = end_idx - 1     # When the gold label is off by one character\n",
    "        elif context[start_idx-2:end_idx-2] == gold_text:\n",
    "            answer['answer_start'] = start_idx - 2\n",
    "            answer['answer_end'] = end_idx - 2     # When the gold label is off by two characters\n",
    "        else:\n",
    "            answer['answer_end'] = end_idx\n",
    "\n",
    "add_end_idx(sep_train_answers, sep_train_contexts)\n",
    "\n"
   ]
  },
  {
   "cell_type": "code",
   "execution_count": 7,
   "id": "b62c1fa9-43ff-48dd-9f94-9d283156797c",
   "metadata": {},
   "outputs": [],
   "source": [
    "add_end_idx(train_answers, train_contexts)"
   ]
  },
  {
   "cell_type": "code",
   "execution_count": 8,
   "id": "a0d235cb-2aa2-4c55-a7cc-10d47382ab77",
   "metadata": {},
   "outputs": [],
   "source": [
    "from transformers import DistilBertTokenizerFast\n",
    "tokenizer = DistilBertTokenizerFast.from_pretrained('distilbert-base-uncased')\n",
    "\n",
    "sep_train_encodings = tokenizer(sep_train_contexts, sep_train_questions, truncation=True, padding=True)\n"
   ]
  },
  {
   "cell_type": "code",
   "execution_count": 9,
   "id": "78696383-e94e-4abb-9870-59145fe272cd",
   "metadata": {},
   "outputs": [],
   "source": [
    "train_encodings = tokenizer(train_contexts, train_questions, truncation=True, padding=True)"
   ]
  },
  {
   "cell_type": "code",
   "execution_count": 10,
   "id": "4e96de9a-9d11-4f97-a23d-64becb481780",
   "metadata": {},
   "outputs": [
    {
     "name": "stdout",
     "output_type": "stream",
     "text": [
      "len len(answers) :  86470\n"
     ]
    }
   ],
   "source": [
    "def add_token_positions(encodings, answers):\n",
    "    start_positions = []\n",
    "    end_positions = []\n",
    "    print(\"len len(answers) : \",len(answers))\n",
    "    for i in range(len(answers)):\n",
    "        start_positions.append(encodings.char_to_token(i, answers[i]['answer_start']))\n",
    "\n",
    "        \n",
    "        end_positions.append(encodings.char_to_token(i, answers[i]['answer_end'] - 1))\n",
    "        # if None, the answer passage has been truncated\n",
    "        if start_positions[-1] is None:\n",
    "            start_positions[-1] = tokenizer.model_max_length\n",
    "        if end_positions[-1] is None:\n",
    "            end_positions[-1] = tokenizer.model_max_length\n",
    "    encodings.update({'start_positions': start_positions, 'end_positions': end_positions})\n",
    "\n",
    "add_token_positions(sep_train_encodings, sep_train_answers)\n"
   ]
  },
  {
   "cell_type": "code",
   "execution_count": 11,
   "id": "3275efaa-77c2-44ed-9678-d09dd279602f",
   "metadata": {},
   "outputs": [
    {
     "name": "stdout",
     "output_type": "stream",
     "text": [
      "len len(answers) :  77599\n"
     ]
    }
   ],
   "source": [
    "add_token_positions(train_encodings, train_answers)"
   ]
  },
  {
   "cell_type": "code",
   "execution_count": 12,
   "id": "f55cea6d-293a-45b7-b716-044d9130615e",
   "metadata": {},
   "outputs": [],
   "source": [
    "import torch\n",
    "\n",
    "class SquadDataset(torch.utils.data.Dataset):\n",
    "    def __init__(self, encodings):\n",
    "        self.encodings = encodings\n",
    "\n",
    "    def __getitem__(self, idx):\n",
    "        return {key: torch.tensor(val[idx]) for key, val in self.encodings.items()}\n",
    "\n",
    "    def __len__(self):\n",
    "        return len(self.encodings.input_ids)\n",
    "\n",
    "sep_train_dataset = SquadDataset(sep_train_encodings)\n"
   ]
  },
  {
   "cell_type": "code",
   "execution_count": 13,
   "id": "e406cf1c-25da-492d-a9fc-04275650af74",
   "metadata": {},
   "outputs": [],
   "source": [
    "train_dataset = SquadDataset(train_encodings)"
   ]
  },
  {
   "cell_type": "code",
   "execution_count": 14,
   "id": "86733aa1-8b78-430c-9e27-c7f375cfa264",
   "metadata": {},
   "outputs": [
    {
     "name": "stderr",
     "output_type": "stream",
     "text": [
      "Some weights of the model checkpoint at distilbert-base-uncased were not used when initializing DistilBertForQuestionAnswering: ['vocab_projector.weight', 'vocab_transform.weight', 'vocab_transform.bias', 'vocab_layer_norm.bias', 'vocab_projector.bias', 'vocab_layer_norm.weight']\n",
      "- This IS expected if you are initializing DistilBertForQuestionAnswering from the checkpoint of a model trained on another task or with another architecture (e.g. initializing a BertForSequenceClassification model from a BertForPreTraining model).\n",
      "- This IS NOT expected if you are initializing DistilBertForQuestionAnswering from the checkpoint of a model that you expect to be exactly identical (initializing a BertForSequenceClassification model from a BertForSequenceClassification model).\n",
      "Some weights of DistilBertForQuestionAnswering were not initialized from the model checkpoint at distilbert-base-uncased and are newly initialized: ['qa_outputs.bias', 'qa_outputs.weight']\n",
      "You should probably TRAIN this model on a down-stream task to be able to use it for predictions and inference.\n"
     ]
    }
   ],
   "source": [
    "from transformers import DistilBertForQuestionAnswering\n",
    "model = DistilBertForQuestionAnswering.from_pretrained(\"distilbert-base-uncased\")"
   ]
  },
  {
   "cell_type": "code",
   "execution_count": 15,
   "id": "6ff8dcdc",
   "metadata": {},
   "outputs": [
    {
     "name": "stdout",
     "output_type": "stream",
     "text": [
      "2022-03-16 23:50:46.987905\n"
     ]
    }
   ],
   "source": [
    "import datetime\n",
    "import json\n",
    "ref_token_id = tokenizer.pad_token_id # A token used for generating token reference\n",
    "sep_token_id = tokenizer.sep_token_id # A token used as a separator between question and text and it is also added to the end of the text.\n",
    "cls_token_id = tokenizer.cls_token_id\n",
    "print (datetime.datetime.now())\n",
    "def predict(inputs):\n",
    "    output = model(inputs)\n",
    "    return output.start_logits, output.end_logits\n",
    "\n",
    "\n",
    "def construct_input_ref_pair(question, text, ref_token_id, sep_token_id, cls_token_id):\n",
    "    question_ids = tokenizer.encode(question, add_special_tokens=False)\n",
    "    text_ids = tokenizer.encode(text, add_special_tokens=False)\n",
    "\n",
    "    # construct input token ids\n",
    "    input_ids = [cls_token_id] + question_ids + [sep_token_id] + text_ids + [sep_token_id]\n",
    "\n",
    "    # construct reference token ids\n",
    "    ref_input_ids = [cls_token_id] + [ref_token_id] * len(question_ids) + [sep_token_id] + \\\n",
    "                    [ref_token_id] * len(text_ids) + [sep_token_id]\n",
    "\n",
    "    return torch.tensor([input_ids], device=device), torch.tensor([ref_input_ids], device=device), len(question_ids)\n",
    "\n",
    "def predict_qt(question, text):\n",
    "    input_ids, ref_input_ids, sep_id = construct_input_ref_pair(question, text, ref_token_id, sep_token_id, cls_token_id)\n",
    "\n",
    "    indices = input_ids[0].detach().tolist()\n",
    "    all_tokens = tokenizer.convert_ids_to_tokens(indices)\n",
    "\n",
    "    ground_truth = '13'\n",
    "\n",
    "\n",
    "    start_scores, end_scores = predict(input_ids)\n",
    "\n",
    "\n",
    "    return (' '.join(all_tokens[torch.argmax(start_scores) : torch.argmax(end_scores)+1]))\n",
    "\n",
    "def test_valisdation():\n",
    "    evl_dick = {}\n",
    "\n",
    "    for i in range(len(validation_contexts)):\n",
    "        question = validation_question[i]\n",
    "        text = validation_contexts[i]\n",
    "        if len(text) <= 512:\n",
    "            answer = predict_qt(question, text)\n",
    "            evl_dick[str(validation_ids[i])] = answer\n",
    "    time = str(datetime.datetime.now().strftime('%Y-%m-%d-%H-%M-%S'))\n",
    "    json_dick = json.dumps(evl_dick)\n",
    "    filname = time + \"answers.txt\"\n",
    "\n",
    "    fo = open(\"./results/\"+filname, \"w\",encoding='utf-8')\n",
    "    fo.write(json_dick)\n",
    "    fo.close()"
   ]
  },
  {
   "cell_type": "code",
   "execution_count": 16,
   "id": "2b4ad25d-e6e3-427c-b417-690b89a0761d",
   "metadata": {},
   "outputs": [
    {
     "name": "stdout",
     "output_type": "stream",
     "text": [
      "2022-03-16 23:50:47.020250\n"
     ]
    },
    {
     "name": "stderr",
     "output_type": "stream",
     "text": [
      "C:\\Users\\GZK\\AppData\\Local\\Programs\\Python\\Python39\\lib\\site-packages\\transformers\\optimization.py:306: FutureWarning: This implementation of AdamW is deprecated and will be removed in a future version. Use thePyTorch implementation torch.optim.AdamW instead, or set `no_deprecation_warning=True` to disable this warning\n",
      "  warnings.warn(\n"
     ]
    },
    {
     "name": "stdout",
     "output_type": "stream",
     "text": [
      "2022-03-17 05:04:41.199982\n",
      "loss :  [1.3988124132156372, 1.4131224155426025, 1.0184028148651123, 0.6495919823646545, 0.5620766878128052, 1.1296908855438232, 0.41661009192466736, 0.5937023162841797, 0.36091458797454834, 0.2586773633956909]\n"
     ]
    }
   ],
   "source": [
    "from torch.utils.data import DataLoader\n",
    "from transformers import AdamW\n",
    "import datetime\n",
    "\n",
    "print (datetime.datetime.now())\n",
    "\n",
    "device = torch.device('cuda') if torch.cuda.is_available() else torch.device('cpu')\n",
    "\n",
    "model.to(device)\n",
    "model.train()\n",
    "\n",
    "train_loader = DataLoader(train_dataset, batch_size=16, shuffle=True)\n",
    "\n",
    "optim = AdamW(model.parameters(), lr=5e-5)\n",
    "list_loss = []\n",
    "for epoch in range(10):\n",
    "    for batch in train_loader:\n",
    "        optim.zero_grad()\n",
    "        input_ids = batch['input_ids'].to(device)\n",
    "        attention_mask = batch['attention_mask'].to(device)\n",
    "        start_positions = batch['start_positions'].to(device)\n",
    "        end_positions = batch['end_positions'].to(device)\n",
    "        outputs = model(input_ids, attention_mask=attention_mask, start_positions=start_positions, end_positions=end_positions)\n",
    "        loss = outputs[0]\n",
    "        loss.backward()\n",
    "        optim.step()\n",
    "    test_valisdation()\n",
    "    list_loss.append(float(loss))\n",
    "    model_name = \"epoch\" + str(epoch) + str(datetime.datetime.now().strftime('%Y-%m-%d-%H-%M-%S')) + '.pth'\n",
    "    torch.save(model, './models/' + model_name)\n",
    "\n",
    "model.eval()\n",
    "\n",
    "print (datetime.datetime.now())\n",
    "print(\"loss : \", list_loss)"
   ]
  },
  {
   "cell_type": "code",
   "execution_count": 17,
   "id": "d05185cb-d805-478b-a96a-a47499ffa563",
   "metadata": {},
   "outputs": [
    {
     "name": "stdout",
     "output_type": "stream",
     "text": [
      "2022-03-17 05:04:41.246842\n",
      "2022-03-17 10:14:14.660094\n",
      "loss :  [0.4444069266319275, 0.6065800189971924, 0.16105425357818604, 0.08027053624391556, 0.20499780774116516, 0.3776370882987976, 0.09724403917789459, 0.5246251225471497, 0.08134955912828445, 0.0073407674208283424]\n"
     ]
    }
   ],
   "source": [
    "from torch.utils.data import DataLoader\n",
    "from transformers import AdamW\n",
    "import datetime\n",
    "\n",
    "print (datetime.datetime.now())\n",
    "\n",
    "device = torch.device('cuda') if torch.cuda.is_available() else torch.device('cpu')\n",
    "\n",
    "model.to(device)\n",
    "model.train()\n",
    "\n",
    "train_loader = DataLoader(sep_train_dataset, batch_size=16, shuffle=True)\n",
    "\n",
    "optim = AdamW(model.parameters(), lr=5e-5)\n",
    "list_loss = []\n",
    "for epoch in range(10):\n",
    "    for batch in train_loader:\n",
    "        optim.zero_grad()\n",
    "        input_ids = batch['input_ids'].to(device)\n",
    "        attention_mask = batch['attention_mask'].to(device)\n",
    "        start_positions = batch['start_positions'].to(device)\n",
    "        end_positions = batch['end_positions'].to(device)\n",
    "        outputs = model(input_ids, attention_mask=attention_mask, start_positions=start_positions, end_positions=end_positions)\n",
    "        loss = outputs[0]\n",
    "        loss.backward()\n",
    "        optim.step()\n",
    "    test_valisdation()\n",
    "    list_loss.append(float(loss))\n",
    "    model_name = \"epoch\" + str(epoch) + str(datetime.datetime.now().strftime('%Y-%m-%d-%H-%M-%S')) + '.pth'\n",
    "    torch.save(model, './models/' + model_name)\n",
    "\n",
    "model.eval()\n",
    "\n",
    "print (datetime.datetime.now())\n",
    "print(\"loss : \", list_loss)"
   ]
  }
 ],
 "metadata": {
  "kernelspec": {
   "display_name": "Python 3 (ipykernel)",
   "language": "python",
   "name": "python3"
  },
  "language_info": {
   "codemirror_mode": {
    "name": "ipython",
    "version": 3
   },
   "file_extension": ".py",
   "mimetype": "text/x-python",
   "name": "python",
   "nbconvert_exporter": "python",
   "pygments_lexer": "ipython3",
   "version": "3.9.10"
  }
 },
 "nbformat": 4,
 "nbformat_minor": 5
}

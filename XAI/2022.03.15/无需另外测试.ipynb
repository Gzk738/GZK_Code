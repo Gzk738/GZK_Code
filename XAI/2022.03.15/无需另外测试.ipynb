{
 "cells": [
  {
   "cell_type": "code",
   "execution_count": 1,
   "id": "34830708-4989-44e5-bd24-c0918648798a",
   "metadata": {},
   "outputs": [
    {
     "name": "stderr",
     "output_type": "stream",
     "text": [
      "Reusing dataset squad (C:\\Users\\GZK\\.cache\\huggingface\\datasets\\squad\\plain_text\\1.0.0\\d6ec3ceb99ca480ce37cdd35555d6cb2511d223b9150cce08a837ef62ffea453)\n"
     ]
    },
    {
     "data": {
      "application/vnd.jupyter.widget-view+json": {
       "model_id": "b3e45bd0b4d245f8be66f2b0a17afef9",
       "version_major": 2,
       "version_minor": 0
      },
      "text/plain": [
       "  0%|          | 0/2 [00:00<?, ?it/s]"
      ]
     },
     "metadata": {},
     "output_type": "display_data"
    }
   ],
   "source": [
    "from datasets import load_dataset\n",
    "squad = load_dataset(\"squad\")\n",
    "shuffled_squad = squad.shuffle()"
   ]
  },
  {
   "cell_type": "code",
   "execution_count": 2,
   "id": "b8581a88-09c3-4b69-a088-c3eb679909ea",
   "metadata": {},
   "outputs": [],
   "source": [
    "train_contexts = []\n",
    "train_questions = []\n",
    "train_answers = []\n",
    "train_ids = []\n",
    "\n",
    "\n",
    "for i in range(len(shuffled_squad['train'])):\n",
    "    train_contexts.append(shuffled_squad['train'][i]['context'])\n",
    "    train_questions.append(shuffled_squad['train'][i]['question'])\n",
    "    train_answers.append(shuffled_squad['train'][i]['answers'])\n",
    "    train_ids.append(shuffled_squad['train'][i]['id'])\n",
    "\n",
    "\n"
   ]
  },
  {
   "cell_type": "code",
   "execution_count": 3,
   "id": "1ff662bb-acb9-4cc0-8e93-fea96c3b295d",
   "metadata": {},
   "outputs": [],
   "source": [
    "validation_contexts = train_contexts[77599:87599]\n",
    "train_contexts = train_contexts[:77599]\n",
    "validation_question = train_questions[77599:87599]\n",
    "train_questions = train_questions[:77599]\n",
    "validation_answers = train_answers[77599:87599]\n",
    "train_answers = train_answers[:77599]\n",
    "validation_ids = train_ids[77599:87599]\n",
    "train_ids = train_ids[:77599]\n",
    "\n",
    "\n"
   ]
  },
  {
   "cell_type": "code",
   "execution_count": 6,
   "id": "2c0ef5f5-3fff-4cdb-94ba-bfa65e42b5c4",
   "metadata": {},
   "outputs": [],
   "source": [
    "train_contexts = train_contexts[:10]\n",
    "train_questions = train_questions[:10]\n",
    "train_answers = train_answers[:10]\n",
    "train_ids = train_ids[:10]\n"
   ]
  },
  {
   "cell_type": "code",
   "execution_count": 7,
   "id": "de46359c-9569-4bfb-87e2-b5d06260d364",
   "metadata": {},
   "outputs": [
    {
     "name": "stdout",
     "output_type": "stream",
     "text": [
      "error_index :  0\n"
     ]
    }
   ],
   "source": [
    "import nltk as tk\n",
    "import re\n",
    "sep_train_contexts = []\n",
    "sep_train_questions = []\n",
    "sep_train_answers = []\n",
    "error_index = []\n",
    "null_answer = {'text': '[NULL]', 'answer_start': 0}\n",
    "for i in range(len(train_contexts)):\n",
    "    tokens = tk.sent_tokenize(train_contexts[i])\n",
    "    for token in tokens:\n",
    "        if train_answers[i]['text'][0] in token:\n",
    "            try:\n",
    "                answer_start = re.search(train_answers[i]['text'][0], token)\n",
    "                answer = {'text': train_answers[i]['text'], 'answer_start':  answer_start.span()[0]}\n",
    "                sep_train_contexts.append(token)\n",
    "\n",
    "            \n",
    "                sep_train_answers.append(answer)\n",
    "                sep_train_questions.append(train_questions[i])\n",
    "            except:\n",
    "                error_index.append(i)\n",
    "\n",
    "                # print(i)\n",
    "        # else:\n",
    "        #     sep_train_contexts.append('[NULL]' + token)\n",
    "        #     sep_train_answers.append(null_answer)\n",
    "        #     sep_train_questions.append(train_questions[i])\n",
    "print(\"error_index : \", len(error_index))\n",
    "            \n"
   ]
  },
  {
   "cell_type": "code",
   "execution_count": 8,
   "id": "b732947b-ab19-4454-86fa-3b8299d291d0",
   "metadata": {},
   "outputs": [],
   "source": [
    "def add_end_idx(answers, contexts):\n",
    "    for answer, context in zip(answers, contexts):\n",
    "        gold_text = answer['text'][0]\n",
    "        if type(answer['answer_start']) == list:\n",
    "            temp = answer['answer_start'][0]\n",
    "            answer['answer_start'] = temp\n",
    "        else:\n",
    "            start_idx = answer['answer_start']\n",
    "        end_idx = start_idx + len(gold_text)\n",
    "\n",
    "        # sometimes squad answers are off by a character or two – fix this\n",
    "        if context[start_idx:end_idx] == gold_text:\n",
    "            answer['answer_end'] = end_idx\n",
    "        elif context[start_idx-1:end_idx-1] == gold_text:\n",
    "            answer['answer_start'] = start_idx - 1\n",
    "            answer['answer_end'] = end_idx - 1     # When the gold label is off by one character\n",
    "        elif context[start_idx-2:end_idx-2] == gold_text:\n",
    "            answer['answer_start'] = start_idx - 2\n",
    "            answer['answer_end'] = end_idx - 2     # When the gold label is off by two characters\n",
    "        else:\n",
    "            answer['answer_end'] = end_idx\n",
    "\n",
    "add_end_idx(sep_train_answers, sep_train_contexts)\n",
    "\n"
   ]
  },
  {
   "cell_type": "code",
   "execution_count": 10,
   "id": "b62c1fa9-43ff-48dd-9f94-9d283156797c",
   "metadata": {},
   "outputs": [],
   "source": [
    "add_end_idx(train_answers, train_contexts)"
   ]
  },
  {
   "cell_type": "code",
   "execution_count": 11,
   "id": "a0d235cb-2aa2-4c55-a7cc-10d47382ab77",
   "metadata": {},
   "outputs": [],
   "source": [
    "from transformers import DistilBertTokenizerFast\n",
    "tokenizer = DistilBertTokenizerFast.from_pretrained('distilbert-base-uncased')\n",
    "\n",
    "sep_train_encodings = tokenizer(sep_train_contexts, sep_train_questions, truncation=True, padding=True)\n"
   ]
  },
  {
   "cell_type": "code",
   "execution_count": 12,
   "id": "78696383-e94e-4abb-9870-59145fe272cd",
   "metadata": {},
   "outputs": [],
   "source": [
    "train_encodings = tokenizer(train_contexts, train_questions, truncation=True, padding=True)"
   ]
  },
  {
   "cell_type": "code",
   "execution_count": 13,
   "id": "4e96de9a-9d11-4f97-a23d-64becb481780",
   "metadata": {},
   "outputs": [
    {
     "name": "stdout",
     "output_type": "stream",
     "text": [
      "len len(answers) :  10\n"
     ]
    }
   ],
   "source": [
    "def add_token_positions(encodings, answers):\n",
    "    start_positions = []\n",
    "    end_positions = []\n",
    "    print(\"len len(answers) : \",len(answers))\n",
    "    for i in range(len(answers)):\n",
    "        start_positions.append(encodings.char_to_token(i, answers[i]['answer_start']))\n",
    "\n",
    "        \n",
    "        end_positions.append(encodings.char_to_token(i, answers[i]['answer_end'] - 1))\n",
    "        # if None, the answer passage has been truncated\n",
    "        if start_positions[-1] is None:\n",
    "            start_positions[-1] = tokenizer.model_max_length\n",
    "        if end_positions[-1] is None:\n",
    "            end_positions[-1] = tokenizer.model_max_length\n",
    "    encodings.update({'start_positions': start_positions, 'end_positions': end_positions})\n",
    "\n",
    "add_token_positions(sep_train_encodings, sep_train_answers)\n"
   ]
  },
  {
   "cell_type": "code",
   "execution_count": 14,
   "id": "3275efaa-77c2-44ed-9678-d09dd279602f",
   "metadata": {},
   "outputs": [
    {
     "name": "stdout",
     "output_type": "stream",
     "text": [
      "len len(answers) :  10\n"
     ]
    }
   ],
   "source": [
    "add_token_positions(train_encodings, train_answers)"
   ]
  },
  {
   "cell_type": "code",
   "execution_count": 15,
   "id": "f55cea6d-293a-45b7-b716-044d9130615e",
   "metadata": {},
   "outputs": [],
   "source": [
    "import torch\n",
    "\n",
    "class SquadDataset(torch.utils.data.Dataset):\n",
    "    def __init__(self, encodings):\n",
    "        self.encodings = encodings\n",
    "\n",
    "    def __getitem__(self, idx):\n",
    "        return {key: torch.tensor(val[idx]) for key, val in self.encodings.items()}\n",
    "\n",
    "    def __len__(self):\n",
    "        return len(self.encodings.input_ids)\n",
    "\n",
    "sep_train_dataset = SquadDataset(sep_train_encodings)\n"
   ]
  },
  {
   "cell_type": "code",
   "execution_count": 16,
   "id": "e406cf1c-25da-492d-a9fc-04275650af74",
   "metadata": {},
   "outputs": [],
   "source": [
    "train_dataset = SquadDataset(train_encodings)"
   ]
  },
  {
   "cell_type": "code",
   "execution_count": 17,
   "id": "86733aa1-8b78-430c-9e27-c7f375cfa264",
   "metadata": {},
   "outputs": [
    {
     "name": "stderr",
     "output_type": "stream",
     "text": [
      "Some weights of the model checkpoint at distilbert-base-uncased were not used when initializing DistilBertForQuestionAnswering: ['vocab_transform.weight', 'vocab_transform.bias', 'vocab_projector.weight', 'vocab_projector.bias', 'vocab_layer_norm.bias', 'vocab_layer_norm.weight']\n",
      "- This IS expected if you are initializing DistilBertForQuestionAnswering from the checkpoint of a model trained on another task or with another architecture (e.g. initializing a BertForSequenceClassification model from a BertForPreTraining model).\n",
      "- This IS NOT expected if you are initializing DistilBertForQuestionAnswering from the checkpoint of a model that you expect to be exactly identical (initializing a BertForSequenceClassification model from a BertForSequenceClassification model).\n",
      "Some weights of DistilBertForQuestionAnswering were not initialized from the model checkpoint at distilbert-base-uncased and are newly initialized: ['qa_outputs.weight', 'qa_outputs.bias']\n",
      "You should probably TRAIN this model on a down-stream task to be able to use it for predictions and inference.\n"
     ]
    }
   ],
   "source": [
    "from transformers import DistilBertForQuestionAnswering\n",
    "model = DistilBertForQuestionAnswering.from_pretrained(\"distilbert-base-uncased\")"
   ]
  },
  {
   "cell_type": "code",
   "execution_count": 28,
   "id": "6ff8dcdc",
   "metadata": {},
   "outputs": [
    {
     "name": "stdout",
     "output_type": "stream",
     "text": [
      "2022-03-17 17:16:16.574565\n"
     ]
    }
   ],
   "source": [
    "import datetime\n",
    "import json\n",
    "import argparse\n",
    "import collections\n",
    "\n",
    "import numpy as np\n",
    "import os\n",
    "import re\n",
    "import string\n",
    "import sys\n",
    "ref_token_id = tokenizer.pad_token_id # A token used for generating token reference\n",
    "sep_token_id = tokenizer.sep_token_id # A token used as a separator between question and text and it is also added to the end of the text.\n",
    "cls_token_id = tokenizer.cls_token_id\n",
    "print (datetime.datetime.now())\n",
    "def predict(inputs):\n",
    "    output = model(inputs)\n",
    "    return output.start_logits, output.end_logits\n",
    "\n",
    "\n",
    "def construct_input_ref_pair(question, text, ref_token_id, sep_token_id, cls_token_id):\n",
    "    question_ids = tokenizer.encode(question, add_special_tokens=False)\n",
    "    text_ids = tokenizer.encode(text, add_special_tokens=False)\n",
    "\n",
    "    # construct input token ids\n",
    "    input_ids = [cls_token_id] + question_ids + [sep_token_id] + text_ids + [sep_token_id]\n",
    "\n",
    "    # construct reference token ids\n",
    "    ref_input_ids = [cls_token_id] + [ref_token_id] * len(question_ids) + [sep_token_id] + \\\n",
    "                    [ref_token_id] * len(text_ids) + [sep_token_id]\n",
    "\n",
    "    return torch.tensor([input_ids], device=device), torch.tensor([ref_input_ids], device=device), len(question_ids)\n",
    "\n",
    "def predict_qt(question, text):\n",
    "    input_ids, ref_input_ids, sep_id = construct_input_ref_pair(question, text, ref_token_id, sep_token_id, cls_token_id)\n",
    "\n",
    "    indices = input_ids[0].detach().tolist()\n",
    "    all_tokens = tokenizer.convert_ids_to_tokens(indices)\n",
    "\n",
    "    ground_truth = '13'\n",
    "\n",
    "\n",
    "    start_scores, end_scores = predict(input_ids)\n",
    "\n",
    "\n",
    "    return (' '.join(all_tokens[torch.argmax(start_scores) : torch.argmax(end_scores)+1]))\n",
    "def make_qid_to_has_ans(dataset):\n",
    "    qid_to_has_ans = {}\n",
    "    for article in dataset:\n",
    "        for p in article['paragraphs']:\n",
    "            for qa in p['qas']:\n",
    "                qid_to_has_ans[qa['id']] = bool(qa['answers'])\n",
    "    return qid_to_has_ans\n",
    "\n",
    "def get_raw_scores(dataset, preds):\n",
    "    exact_scores = {}\n",
    "    f1_scores = {}\n",
    "    for article in dataset:\n",
    "        for p in article['paragraphs']:\n",
    "            for qa in p['qas']:\n",
    "                qid = qa['id']\n",
    "                gold_answers = [a['text'] for a in qa['answers']\n",
    "                            if normalize_answer(a['text'])]\n",
    "            if not gold_answers:\n",
    "            # For unanswerable questions, only correct answer is empty string\n",
    "                gold_answers = ['']\n",
    "            if qid not in preds:\n",
    "            # print('Missing prediction for %s' % qid)\n",
    "                continue\n",
    "            a_pred = preds[qid]\n",
    "            # Take max over all gold answers\n",
    "            exact_scores[qid] = max(compute_exact(a, a_pred) for a in gold_answers)\n",
    "            f1_scores[qid] = max(compute_f1(a, a_pred) for a in gold_answers)\n",
    "    return exact_scores, f1_scores\n",
    "def normalize_answer(s):\n",
    "    \"\"\"Lower text and remove punctuation, articles and extra whitespace.\"\"\"\n",
    "    def remove_articles(text):\n",
    "        regex = re.compile(r'\\b(a|an|the)\\b', re.UNICODE)\n",
    "        return re.sub(regex, ' ', text)\n",
    "    def white_space_fix(text):\n",
    "        return ' '.join(text.split())\n",
    "    def remove_punc(text):\n",
    "        exclude = set(string.punctuation)\n",
    "        return ''.join(ch for ch in text if ch not in exclude)\n",
    "    def lower(text):\n",
    "        return text.lower()\n",
    "    return white_space_fix(remove_articles(remove_punc(lower(s))))\n",
    "def apply_no_ans_threshold(scores, na_probs, qid_to_has_ans, na_prob_thresh):\n",
    "    new_scores = {}\n",
    "    for qid, s in scores.items():\n",
    "        pred_na = na_probs[qid] > na_prob_thresh\n",
    "    if pred_na:\n",
    "        new_scores[qid] = float(not qid_to_has_ans[qid])\n",
    "    else:\n",
    "        new_scores[qid] = s\n",
    "    return new_scores\n",
    "def test_valisdation():\n",
    "    evl_dict = {}\n",
    "\n",
    "    for i in range(len(validation_contexts)):\n",
    "        question = validation_question[i]\n",
    "        text = validation_contexts[i]\n",
    "        if len(text) <= 512:\n",
    "            answer = predict_qt(question, text)\n",
    "            evl_dict[str(validation_ids[i])] = answer\n",
    "    time = str(datetime.datetime.now().strftime('%Y-%m-%d-%H-%M-%S'))\n",
    "    json_dict = json.dumps(evl_dict)\n",
    "    filname = time + \"answers.txt\"\n",
    "\n",
    "    fo = open(\"./results/\"+filname, \"w\",encoding='utf-8')\n",
    "    fo.write(json_dict)\n",
    "    fo.close()\n",
    "    \n",
    "    with open(r\"./dev-v2.0.json\") as f:\n",
    "        dataset_json = json.load(f)\n",
    "        dataset = dataset_json['data']\n",
    "    preds = evl_dict\n",
    "    \n",
    "    na_probs = {k: 0.0 for k in preds}\n",
    "    qid_to_has_ans = make_qid_to_has_ans(dataset)  # maps qid to True/False\n",
    "    has_ans_qids = [k for k, v in qid_to_has_ans.items() if v]\n",
    "    no_ans_qids = [k for k, v in qid_to_has_ans.items() if not v]\n",
    "    exact_raw, f1_raw = get_raw_scores(dataset, preds)\n",
    "    exact_thresh = apply_no_ans_threshold(exact_raw, na_probs, qid_to_has_ans,1.0)\n",
    "    f1_thresh = apply_no_ans_threshold(f1_raw, na_probs, qid_to_has_ans,1.0)\n",
    "    out_eval = make_eval_dict(exact_thresh, f1_thresh)\n",
    "    if has_ans_qids:\n",
    "        has_ans_eval = make_eval_dict(exact_thresh, f1_thresh, qid_list=has_ans_qids)\n",
    "        merge_eval(out_eval, has_ans_eval, 'HasAns')\n",
    "    if no_ans_qids:\n",
    "        no_ans_eval = make_eval_dict(exact_thresh, f1_thresh, qid_list=no_ans_qids)\n",
    "        merge_eval(out_eval, no_ans_eval, 'NoAns')\n",
    "\n",
    "        print(json.dumps(out_eval, indent=2))"
   ]
  },
  {
   "cell_type": "code",
   "execution_count": 29,
   "id": "2b4ad25d-e6e3-427c-b417-690b89a0761d",
   "metadata": {},
   "outputs": [
    {
     "name": "stdout",
     "output_type": "stream",
     "text": [
      "2022-03-17 17:16:17.281957\n"
     ]
    },
    {
     "ename": "UnboundLocalError",
     "evalue": "local variable 'pred_na' referenced before assignment",
     "output_type": "error",
     "traceback": [
      "\u001b[1;31m---------------------------------------------------------------------------\u001b[0m",
      "\u001b[1;31mUnboundLocalError\u001b[0m                         Traceback (most recent call last)",
      "Input \u001b[1;32mIn [29]\u001b[0m, in \u001b[0;36m<cell line: 16>\u001b[1;34m()\u001b[0m\n\u001b[0;32m     25\u001b[0m     loss\u001b[38;5;241m.\u001b[39mbackward()\n\u001b[0;32m     26\u001b[0m     optim\u001b[38;5;241m.\u001b[39mstep()\n\u001b[1;32m---> 27\u001b[0m \u001b[43mtest_valisdation\u001b[49m\u001b[43m(\u001b[49m\u001b[43m)\u001b[49m\n\u001b[0;32m     28\u001b[0m list_loss\u001b[38;5;241m.\u001b[39mappend(\u001b[38;5;28mfloat\u001b[39m(loss))\n\u001b[0;32m     29\u001b[0m model_name \u001b[38;5;241m=\u001b[39m \u001b[38;5;124m\"\u001b[39m\u001b[38;5;124mepoch\u001b[39m\u001b[38;5;124m\"\u001b[39m \u001b[38;5;241m+\u001b[39m \u001b[38;5;28mstr\u001b[39m(epoch) \u001b[38;5;241m+\u001b[39m \u001b[38;5;28mstr\u001b[39m(datetime\u001b[38;5;241m.\u001b[39mdatetime\u001b[38;5;241m.\u001b[39mnow()\u001b[38;5;241m.\u001b[39mstrftime(\u001b[38;5;124m'\u001b[39m\u001b[38;5;124m%\u001b[39m\u001b[38;5;124mY-\u001b[39m\u001b[38;5;124m%\u001b[39m\u001b[38;5;124mm-\u001b[39m\u001b[38;5;132;01m%d\u001b[39;00m\u001b[38;5;124m-\u001b[39m\u001b[38;5;124m%\u001b[39m\u001b[38;5;124mH-\u001b[39m\u001b[38;5;124m%\u001b[39m\u001b[38;5;124mM-\u001b[39m\u001b[38;5;124m%\u001b[39m\u001b[38;5;124mS\u001b[39m\u001b[38;5;124m'\u001b[39m)) \u001b[38;5;241m+\u001b[39m \u001b[38;5;124m'\u001b[39m\u001b[38;5;124m.pth\u001b[39m\u001b[38;5;124m'\u001b[39m\n",
      "Input \u001b[1;32mIn [28]\u001b[0m, in \u001b[0;36mtest_valisdation\u001b[1;34m()\u001b[0m\n\u001b[0;32m    121\u001b[0m no_ans_qids \u001b[38;5;241m=\u001b[39m [k \u001b[38;5;28;01mfor\u001b[39;00m k, v \u001b[38;5;129;01min\u001b[39;00m qid_to_has_ans\u001b[38;5;241m.\u001b[39mitems() \u001b[38;5;28;01mif\u001b[39;00m \u001b[38;5;129;01mnot\u001b[39;00m v]\n\u001b[0;32m    122\u001b[0m exact_raw, f1_raw \u001b[38;5;241m=\u001b[39m get_raw_scores(dataset, preds)\n\u001b[1;32m--> 123\u001b[0m exact_thresh \u001b[38;5;241m=\u001b[39m \u001b[43mapply_no_ans_threshold\u001b[49m\u001b[43m(\u001b[49m\u001b[43mexact_raw\u001b[49m\u001b[43m,\u001b[49m\u001b[43m \u001b[49m\u001b[43mna_probs\u001b[49m\u001b[43m,\u001b[49m\u001b[43m \u001b[49m\u001b[43mqid_to_has_ans\u001b[49m\u001b[43m,\u001b[49m\u001b[38;5;241;43m1.0\u001b[39;49m\u001b[43m)\u001b[49m\n\u001b[0;32m    124\u001b[0m f1_thresh \u001b[38;5;241m=\u001b[39m apply_no_ans_threshold(f1_raw, na_probs, qid_to_has_ans,\u001b[38;5;241m1.0\u001b[39m)\n\u001b[0;32m    125\u001b[0m out_eval \u001b[38;5;241m=\u001b[39m make_eval_dict(exact_thresh, f1_thresh)\n",
      "Input \u001b[1;32mIn [28]\u001b[0m, in \u001b[0;36mapply_no_ans_threshold\u001b[1;34m(scores, na_probs, qid_to_has_ans, na_prob_thresh)\u001b[0m\n\u001b[0;32m     89\u001b[0m \u001b[38;5;28;01mfor\u001b[39;00m qid, s \u001b[38;5;129;01min\u001b[39;00m scores\u001b[38;5;241m.\u001b[39mitems():\n\u001b[0;32m     90\u001b[0m     pred_na \u001b[38;5;241m=\u001b[39m na_probs[qid] \u001b[38;5;241m>\u001b[39m na_prob_thresh\n\u001b[1;32m---> 91\u001b[0m \u001b[38;5;28;01mif\u001b[39;00m \u001b[43mpred_na\u001b[49m:\n\u001b[0;32m     92\u001b[0m     new_scores[qid] \u001b[38;5;241m=\u001b[39m \u001b[38;5;28mfloat\u001b[39m(\u001b[38;5;129;01mnot\u001b[39;00m qid_to_has_ans[qid])\n\u001b[0;32m     93\u001b[0m \u001b[38;5;28;01melse\u001b[39;00m:\n",
      "\u001b[1;31mUnboundLocalError\u001b[0m: local variable 'pred_na' referenced before assignment"
     ]
    }
   ],
   "source": [
    "from torch.utils.data import DataLoader\n",
    "from transformers import AdamW\n",
    "import datetime\n",
    "\n",
    "print (datetime.datetime.now())\n",
    "\n",
    "device = torch.device('cuda') if torch.cuda.is_available() else torch.device('cpu')\n",
    "\n",
    "model.to(device)\n",
    "model.train()\n",
    "\n",
    "train_loader = DataLoader(train_dataset, batch_size=16, shuffle=True)\n",
    "\n",
    "optim = AdamW(model.parameters(), lr=5e-5)\n",
    "list_loss = []\n",
    "for epoch in range(10):\n",
    "    for batch in train_loader:\n",
    "        optim.zero_grad()\n",
    "        input_ids = batch['input_ids'].to(device)\n",
    "        attention_mask = batch['attention_mask'].to(device)\n",
    "        start_positions = batch['start_positions'].to(device)\n",
    "        end_positions = batch['end_positions'].to(device)\n",
    "        outputs = model(input_ids, attention_mask=attention_mask, start_positions=start_positions, end_positions=end_positions)\n",
    "        loss = outputs[0]\n",
    "        loss.backward()\n",
    "        optim.step()\n",
    "    test_valisdation()\n",
    "    list_loss.append(float(loss))\n",
    "    model_name = \"epoch\" + str(epoch) + str(datetime.datetime.now().strftime('%Y-%m-%d-%H-%M-%S')) + '.pth'\n",
    "    torch.save(model, './models/' + model_name)\n",
    "\n",
    "model.eval()\n",
    "\n",
    "print (datetime.datetime.now())\n",
    "print(\"loss : \", list_loss)"
   ]
  },
  {
   "cell_type": "code",
   "execution_count": 17,
   "id": "d05185cb-d805-478b-a96a-a47499ffa563",
   "metadata": {},
   "outputs": [
    {
     "name": "stdout",
     "output_type": "stream",
     "text": [
      "2022-03-17 05:04:41.246842\n",
      "2022-03-17 10:14:14.660094\n",
      "loss :  [0.4444069266319275, 0.6065800189971924, 0.16105425357818604, 0.08027053624391556, 0.20499780774116516, 0.3776370882987976, 0.09724403917789459, 0.5246251225471497, 0.08134955912828445, 0.0073407674208283424]\n"
     ]
    }
   ],
   "source": [
    "from torch.utils.data import DataLoader\n",
    "from transformers import AdamW\n",
    "import datetime\n",
    "\n",
    "print (datetime.datetime.now())\n",
    "\n",
    "device = torch.device('cuda') if torch.cuda.is_available() else torch.device('cpu')\n",
    "\n",
    "model.to(device)\n",
    "model.train()\n",
    "\n",
    "train_loader = DataLoader(sep_train_dataset, batch_size=16, shuffle=True)\n",
    "\n",
    "optim = AdamW(model.parameters(), lr=5e-5)\n",
    "list_loss = []\n",
    "for epoch in range(10):\n",
    "    for batch in train_loader:\n",
    "        optim.zero_grad()\n",
    "        input_ids = batch['input_ids'].to(device)\n",
    "        attention_mask = batch['attention_mask'].to(device)\n",
    "        start_positions = batch['start_positions'].to(device)\n",
    "        end_positions = batch['end_positions'].to(device)\n",
    "        outputs = model(input_ids, attention_mask=attention_mask, start_positions=start_positions, end_positions=end_positions)\n",
    "        loss = outputs[0]\n",
    "        loss.backward()\n",
    "        optim.step()\n",
    "    test_valisdation()\n",
    "    list_loss.append(float(loss))\n",
    "    model_name = \"epoch\" + str(epoch) + str(datetime.datetime.now().strftime('%Y-%m-%d-%H-%M-%S')) + '.pth'\n",
    "    torch.save(model, './models/' + model_name)\n",
    "\n",
    "model.eval()\n",
    "\n",
    "print (datetime.datetime.now())\n",
    "print(\"loss : \", list_loss)"
   ]
  }
 ],
 "metadata": {
  "kernelspec": {
   "display_name": "Python 3 (ipykernel)",
   "language": "python",
   "name": "python3"
  },
  "language_info": {
   "codemirror_mode": {
    "name": "ipython",
    "version": 3
   },
   "file_extension": ".py",
   "mimetype": "text/x-python",
   "name": "python",
   "nbconvert_exporter": "python",
   "pygments_lexer": "ipython3",
   "version": "3.9.10"
  }
 },
 "nbformat": 4,
 "nbformat_minor": 5
}

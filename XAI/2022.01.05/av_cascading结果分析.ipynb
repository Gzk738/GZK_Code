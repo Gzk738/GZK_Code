{
 "cells": [
  {
   "cell_type": "code",
   "execution_count": 34,
   "id": "fb249fef",
   "metadata": {},
   "outputs": [
    {
     "ename": "ModuleNotFoundError",
     "evalue": "No module named 'matplotlib.plt'",
     "output_type": "error",
     "traceback": [
      "\u001b[0;31m---------------------------------------------------------------------------\u001b[0m",
      "\u001b[0;31mModuleNotFoundError\u001b[0m                       Traceback (most recent call last)",
      "\u001b[0;32m/tmp/ipykernel_1939/102215176.py\u001b[0m in \u001b[0;36m<module>\u001b[0;34m\u001b[0m\n\u001b[1;32m      1\u001b[0m \u001b[0;31m## mian.py\u001b[0m\u001b[0;34m\u001b[0m\u001b[0;34m\u001b[0m\u001b[0;34m\u001b[0m\u001b[0m\n\u001b[1;32m      2\u001b[0m \u001b[0;32mimport\u001b[0m \u001b[0mos\u001b[0m\u001b[0;34m\u001b[0m\u001b[0;34m\u001b[0m\u001b[0m\n\u001b[0;32m----> 3\u001b[0;31m \u001b[0;32mimport\u001b[0m \u001b[0mmatplotlib\u001b[0m\u001b[0;34m.\u001b[0m\u001b[0mplt\u001b[0m \u001b[0;32mas\u001b[0m \u001b[0mplt\u001b[0m\u001b[0;34m\u001b[0m\u001b[0;34m\u001b[0m\u001b[0m\n\u001b[0m\u001b[1;32m      4\u001b[0m \u001b[0;31m## linux 下，给 $DISPLAY 分配一个变量，以防窗口无法弹出\u001b[0m\u001b[0;34m\u001b[0m\u001b[0;34m\u001b[0m\u001b[0;34m\u001b[0m\u001b[0m\n\u001b[1;32m      5\u001b[0m \u001b[0;32mif\u001b[0m \u001b[0m__name__\u001b[0m \u001b[0;34m==\u001b[0m \u001b[0;34m\"__main__\"\u001b[0m\u001b[0;34m:\u001b[0m\u001b[0;34m\u001b[0m\u001b[0;34m\u001b[0m\u001b[0m\n",
      "\u001b[0;31mModuleNotFoundError\u001b[0m: No module named 'matplotlib.plt'"
     ]
    }
   ],
   "source": [
    "## mian.py\n",
    "import os\n",
    "import matplotlib.plt as plt\n",
    "## linux 下，给 $DISPLAY 分配一个变量，以防窗口无法弹出\n",
    "if __name__ == \"__main__\":\n",
    "    os.system('export DISPLAY=:0.0')\n",
    "    x = [0,1]\n",
    "    plt.plot(x)\n",
    "    print('test matplot')\n",
    "import numpy as np\n",
    "from numpy import *\n",
    "f1 = []\n",
    "forword_pro= []\n",
    "backword_pro= []\n",
    "sun_pro= []\n",
    "with open(\"/home/zikun/github/Gzk_Code/XAI/cascading_result.txt\", \"r\")as f:\n",
    "    data = f.readlines()\n",
    "\n",
    "    for i in data:\n",
    "        temp = eval(i)\n",
    "        f1.append(temp['f1'])\n",
    "        forword_pro.append(temp['forword_pro'])\n",
    "        backword_pro.append(temp['backword_pro'])\n",
    "        sun_pro.append(temp['sun_pro'])\n",
    "\n"
   ]
  },
  {
   "cell_type": "markdown",
   "id": "ac80f9dc-5d13-4ada-a918-dd5911659bd3",
   "metadata": {},
   "source": [
    "# 准确率提升的数量"
   ]
  },
  {
   "cell_type": "code",
   "execution_count": null,
   "id": "08bcbbac-c3eb-49b4-a3b2-8f1160cb6a61",
   "metadata": {},
   "outputs": [
    {
     "name": "stdout",
     "output_type": "stream",
     "text": [
      "准确率提升的个数是 ：  2 / 127\n",
      "概率个数是 ：  63 / 127\n"
     ]
    }
   ],
   "source": [
    "temp = 0\n",
    "for i in f1:\n",
    "    if max(i) > i[0]:\n",
    "        temp = temp +1\n",
    "print(\"准确率提升的个数是 ： \", temp, \"/\", len(f1))\n",
    "\n",
    "temp = 0\n",
    "for i in forword_pro:\n",
    "    if max(i) > i[0]:\n",
    "        temp = temp +1\n",
    "print(\"概率个数是 ： \", temp,\"/\", len(f1))"
   ]
  },
  {
   "cell_type": "code",
   "execution_count": null,
   "id": "9c9be6ff-49e4-4795-be7d-f1334ca23dac",
   "metadata": {},
   "outputs": [
    {
     "name": "stdout",
     "output_type": "stream",
     "text": [
      "原模型准确率 0.8016689864231371\n"
     ]
    }
   ],
   "source": [
    "temp = 0\n",
    "for i in f1:\n",
    "    temp = temp + i[0]\n",
    "accuracy = temp/len(f1)\n",
    "print(\"原模型准确率\", accuracy)"
   ]
  },
  {
   "cell_type": "code",
   "execution_count": null,
   "id": "d7673286-33e7-4550-a11b-76b6d51de8c7",
   "metadata": {},
   "outputs": [
    {
     "name": "stdout",
     "output_type": "stream",
     "text": [
      "解释型准确率 0.8149304866303481\n"
     ]
    }
   ],
   "source": [
    "temp = 0\n",
    "for i in f1:\n",
    "    temp = temp + max(i)\n",
    "accuracy = temp/len(f1)\n",
    "print(\"解释型准确率\", accuracy)"
   ]
  },
  {
   "cell_type": "markdown",
   "id": "45eec13e-4280-45b4-9ec1-441c058fb467",
   "metadata": {},
   "source": [
    "## 这是根据概率提升的话，f1能提升多少\n",
    "### 正向注意力"
   ]
  },
  {
   "cell_type": "code",
   "execution_count": null,
   "id": "882707f2-88d3-4160-91ea-53dc26d479ca",
   "metadata": {},
   "outputs": [
    {
     "name": "stdout",
     "output_type": "stream",
     "text": [
      "f1提升成功的平均提升 1.0 [1.0]\n",
      "概率提升成功的平均提升 nan\n"
     ]
    },
    {
     "name": "stderr",
     "output_type": "stream",
     "text": [
      "/home/zikun/anaconda3/envs/xai/lib/python3.8/site-packages/numpy/core/fromnumeric.py:3440: RuntimeWarning: Mean of empty slice.\n",
      "  return _methods._mean(a, axis=axis, dtype=dtype,\n",
      "/home/zikun/anaconda3/envs/xai/lib/python3.8/site-packages/numpy/core/_methods.py:189: RuntimeWarning: invalid value encountered in double_scalars\n",
      "  ret = ret.dtype.type(ret / rcount)\n"
     ]
    }
   ],
   "source": [
    "# temp = 0\n",
    "# index = 999\n",
    "# for i in range(len(f1)):\n",
    "#     if f1[i][0]<max(f1[i]):\n",
    "#         #最大值的index\n",
    "#         index = f1[i].index(max(f1[i]))\n",
    "#         print(index)\n",
    "temp = []\n",
    "index = 999\n",
    "for i in range(len(f1)):\n",
    "    if max(f1[i]) - f1[i][0] > 0.7:\n",
    "        index = f1[i].index(max(f1[i]))\n",
    "        temp.append(f1[i][index] - f1[i][0])\n",
    "print(\"f1提升成功的平均提升\", mean(temp), temp)\n",
    "\n",
    "temp = []\n",
    "index = 999\n",
    "for i in range(len(forword_pro)):\n",
    "    if max(forword_pro[i]) - forword_pro[i][0] > 0.7:\n",
    "        index = forword_pro[i].index(max(forword_pro[i]))\n",
    "        temp.append(f1[i][index] - f1[i][0])\n",
    "print(\"概率提升成功的平均提升\", mean(temp))"
   ]
  },
  {
   "cell_type": "code",
   "execution_count": null,
   "id": "38c7c652-4703-47a7-96dd-544a48f67180",
   "metadata": {},
   "outputs": [
    {
     "name": "stdout",
     "output_type": "stream",
     "text": [
      "[0.1  0.11 0.12 0.13 0.14 0.15 0.16 0.17 0.18 0.19 0.2  0.21 0.22 0.23\n",
      " 0.24 0.25 0.26 0.27 0.28 0.29 0.3  0.31 0.32 0.33 0.34 0.35 0.36 0.37\n",
      " 0.38 0.39 0.4  0.41 0.42 0.43 0.44 0.45 0.46 0.47 0.48 0.49 0.5  0.51\n",
      " 0.52 0.53 0.54 0.55 0.56 0.57 0.58 0.59 0.6  0.61 0.62 0.63 0.64 0.65\n",
      " 0.66 0.67 0.68 0.69 0.7  0.71 0.72 0.73 0.74 0.75 0.76 0.77 0.78 0.79\n",
      " 0.8  0.81 0.82 0.83 0.84 0.85 0.86 0.87 0.88 0.89 0.9  0.91 0.92 0.93\n",
      " 0.94 0.95 0.96 0.97 0.98 0.99]\n"
     ]
    },
    {
     "name": "stderr",
     "output_type": "stream",
     "text": [
      "/home/zikun/anaconda3/envs/xai/lib/python3.8/site-packages/numpy/core/fromnumeric.py:3440: RuntimeWarning: Mean of empty slice.\n",
      "  return _methods._mean(a, axis=axis, dtype=dtype,\n",
      "/home/zikun/anaconda3/envs/xai/lib/python3.8/site-packages/numpy/core/_methods.py:189: RuntimeWarning: invalid value encountered in double_scalars\n",
      "  ret = ret.dtype.type(ret / rcount)\n"
     ]
    },
    {
     "data": {
      "image/png": "[encoded data removed]",
      "text/plain": [
       "<Figure size 432x288 with 1 Axes>"
      ]
     },
     "metadata": {
      "needs_background": "light"
     },
     "output_type": "display_data"
    },
    {
     "name": "stdout",
     "output_type": "stream",
     "text": [
      "[-0.5, -0.5, -0.5, -0.5, -0.5, -0.5, -0.5, -0.5, -0.5, -0.5, -0.5, -0.5, -0.5, -0.5, -0.5, -0.5, -0.5, -0.5, -0.5, -1.0, -1.0, -1.0, -1.0, -1.0, -1.0, -1.0, -1.0, -1.0, -1.0, -1.0, -1.0, -1.0, nan, nan, nan, nan, nan, nan, nan, nan, nan, nan, nan, nan, nan, nan, nan, nan, nan, nan, nan, nan, nan, nan, nan, nan, nan, nan, nan, nan, nan, nan, nan, nan, nan, nan, nan, nan, nan, nan, nan, nan, nan, nan, nan, nan, nan, nan, nan, nan, nan, nan, nan, nan, nan, nan, nan, nan, nan, nan]\n"
     ]
    }
   ],
   "source": [
    "\n",
    "import matplotlib.pyplot as plt\n",
    "l_threshold = np.arange(0.1,1,0.01)  \n",
    "from numpy import *\n",
    "print (l_threshold)\n",
    "creaserate = []\n",
    "for threshold in l_threshold:\n",
    "    temp = []\n",
    "    for i in range(len(forword_pro)):\n",
    "        if max(forword_pro[i]) - forword_pro[i][0] > threshold:\n",
    "            index = forword_pro[i].index(max(forword_pro[i]))\n",
    "            temp.append(f1[i][index] - f1[i][0])\n",
    "    creaserate.append(mean(temp))\n",
    "plt.plot(l_threshold, creaserate, label = \"accurcy of model\")\n",
    "plt.xlabel('Threshold = high probability-low probability from 0 -1')\n",
    "plt.ylabel('Effect')\n",
    "plt.title(\"forward direction attention processing\")\n",
    "plt.legend()\n",
    "plt.show()\n",
    "print(creaserate)"
   ]
  },
  {
   "cell_type": "markdown",
   "id": "cfa6f2ab-874b-4c6a-804b-192ad1608c6a",
   "metadata": {},
   "source": [
    "### 反向注意力"
   ]
  },
  {
   "cell_type": "code",
   "execution_count": null,
   "id": "60a4b3e1-911c-421b-b83f-8f5de430ab63",
   "metadata": {},
   "outputs": [
    {
     "name": "stdout",
     "output_type": "stream",
     "text": [
      "[0.1  0.11 0.12 0.13 0.14 0.15 0.16 0.17 0.18 0.19 0.2  0.21 0.22 0.23\n",
      " 0.24 0.25 0.26 0.27 0.28 0.29 0.3  0.31 0.32 0.33 0.34 0.35 0.36 0.37\n",
      " 0.38 0.39 0.4  0.41 0.42 0.43 0.44 0.45 0.46 0.47 0.48 0.49 0.5  0.51\n",
      " 0.52 0.53 0.54 0.55 0.56 0.57 0.58 0.59 0.6  0.61 0.62 0.63 0.64 0.65\n",
      " 0.66 0.67 0.68 0.69 0.7  0.71 0.72 0.73 0.74 0.75 0.76 0.77 0.78 0.79\n",
      " 0.8  0.81 0.82 0.83 0.84 0.85 0.86 0.87 0.88 0.89 0.9  0.91 0.92 0.93\n",
      " 0.94 0.95 0.96 0.97 0.98 0.99]\n"
     ]
    },
    {
     "name": "stderr",
     "output_type": "stream",
     "text": [
      "/home/zikun/anaconda3/envs/xai/lib/python3.8/site-packages/numpy/core/fromnumeric.py:3440: RuntimeWarning: Mean of empty slice.\n",
      "  return _methods._mean(a, axis=axis, dtype=dtype,\n",
      "/home/zikun/anaconda3/envs/xai/lib/python3.8/site-packages/numpy/core/_methods.py:189: RuntimeWarning: invalid value encountered in double_scalars\n",
      "  ret = ret.dtype.type(ret / rcount)\n"
     ]
    },
    {
     "data": {
      "image/png": "[encoded data removed]",
      "text/plain": [
       "<Figure size 432x288 with 1 Axes>"
      ]
     },
     "metadata": {
      "needs_background": "light"
     },
     "output_type": "display_data"
    }
   ],
   "source": [
    "l_threshold = np.arange(0.1,1,0.01)  \n",
    "print (l_threshold)\n",
    "creaserate = []\n",
    "for threshold in l_threshold:\n",
    "    temp = []\n",
    "    for i in range(len(backword_pro)):\n",
    "        if max(backword_pro[i]) - backword_pro[i][0] > threshold:\n",
    "            index = backword_pro[i].index(max(backword_pro[i]))\n",
    "            temp.append(f1[i][index] - f1[i][0])\n",
    "    creaserate.append(mean(temp))\n",
    "plt.plot(l_threshold, creaserate,  label = \"accurcy of model\")\n",
    "plt.xlabel('Threshold = high probability-low probability from 0 -1')\n",
    "plt.ylabel('Effect')\n",
    "plt.title(\"backward direction attention processing\")\n",
    "plt.legend()\n",
    "plt.show()"
   ]
  },
  {
   "cell_type": "markdown",
   "id": "7223c9ee-d8b5-49ff-9cb0-07b1311255aa",
   "metadata": {},
   "source": [
    "## 总注意力"
   ]
  },
  {
   "cell_type": "code",
   "execution_count": null,
   "id": "b0c62acf-6f3b-4343-a813-02f933477503",
   "metadata": {},
   "outputs": [
    {
     "name": "stdout",
     "output_type": "stream",
     "text": [
      "[0.1  0.11 0.12 0.13 0.14 0.15 0.16 0.17 0.18 0.19 0.2  0.21 0.22 0.23\n",
      " 0.24 0.25 0.26 0.27 0.28 0.29 0.3  0.31 0.32 0.33 0.34 0.35 0.36 0.37\n",
      " 0.38 0.39 0.4  0.41 0.42 0.43 0.44 0.45 0.46 0.47 0.48 0.49 0.5  0.51\n",
      " 0.52 0.53 0.54 0.55 0.56 0.57 0.58 0.59 0.6  0.61 0.62 0.63 0.64 0.65\n",
      " 0.66 0.67 0.68 0.69 0.7  0.71 0.72 0.73 0.74 0.75 0.76 0.77 0.78 0.79\n",
      " 0.8  0.81 0.82 0.83 0.84 0.85 0.86 0.87 0.88 0.89 0.9  0.91 0.92 0.93\n",
      " 0.94 0.95 0.96 0.97 0.98 0.99]\n"
     ]
    },
    {
     "name": "stderr",
     "output_type": "stream",
     "text": [
      "/home/zikun/anaconda3/envs/xai/lib/python3.8/site-packages/numpy/core/fromnumeric.py:3440: RuntimeWarning: Mean of empty slice.\n",
      "  return _methods._mean(a, axis=axis, dtype=dtype,\n",
      "/home/zikun/anaconda3/envs/xai/lib/python3.8/site-packages/numpy/core/_methods.py:189: RuntimeWarning: invalid value encountered in double_scalars\n",
      "  ret = ret.dtype.type(ret / rcount)\n"
     ]
    },
    {
     "data": {
      "image/png": "[encoded data removed]",
      "text/plain": [
       "<Figure size 432x288 with 1 Axes>"
      ]
     },
     "metadata": {
      "needs_background": "light"
     },
     "output_type": "display_data"
    }
   ],
   "source": [
    "l_threshold = np.arange(0.1,1,0.01)  \n",
    "print (l_threshold)\n",
    "creaserate = []\n",
    "for threshold in l_threshold:\n",
    "    temp = []\n",
    "    for i in range(len(sun_pro)):\n",
    "        if max(sun_pro[i]) - sun_pro[i][0] > threshold:\n",
    "            index = sun_pro[i].index(max(sun_pro[i]))\n",
    "            temp.append(f1[i][index] - f1[i][0])\n",
    "    creaserate.append(mean(temp))\n",
    "plt.plot(l_threshold, creaserate, label = \"accurcy of model\")\n",
    "plt.xlabel('Threshold = high probability-low probability from 0 -1')\n",
    "plt.ylabel('Effect')\n",
    "plt.title(\"average attention processing\")\n",
    "plt.legend()\n",
    "plt.show()"
   ]
  },
  {
   "cell_type": "code",
   "execution_count": null,
   "id": "8a10736a-9cee-4f0b-ae50-6594363da413",
   "metadata": {},
   "outputs": [
    {
     "data": {
      "image/png": "[encoded data removed]",
      "text/plain": [
       "<Figure size 432x288 with 1 Axes>"
      ]
     },
     "metadata": {
      "needs_background": "light"
     },
     "output_type": "display_data"
    },
    {
     "name": "stdout",
     "output_type": "stream",
     "text": [
      "acc_ori :  100\n"
     ]
    }
   ],
   "source": [
    "import numpy as np\n",
    "import matplotlib.pyplot as plt\n",
    "l_threshold = np.arange(0,1,0.01)  \n",
    "\n",
    "acc_ori = []\n",
    "acc_exp = []\n",
    "for threshold in l_threshold:\n",
    "    temp_ori = []\n",
    "    temp_exp = []\n",
    "    for i in range(len(forword_pro)):\n",
    "        if max(forword_pro[i]) - forword_pro[i][0] > threshold:\n",
    "            index = forword_pro[i].index(max(forword_pro[i]))\n",
    "            temp_exp.append(f1[i][index])\n",
    "            temp_ori.append(f1[i][0])\n",
    "        else:\n",
    "            temp_exp.append(f1[i][0])\n",
    "            temp_ori.append(f1[i][0])\n",
    "    acc_ori.append(mean(temp_ori))\n",
    "    acc_exp.append(mean(temp_exp))\n",
    "plt.plot(l_threshold, acc_ori, label = \"accurcy of original\")\n",
    "plt.plot(l_threshold, acc_exp, label = \"accurcy of explain model\")\n",
    "plt.xlabel('Threshold = high probability-low probability from 0 -1')\n",
    "plt.ylabel('Effect')\n",
    "plt.title(\"forward direction attention processing\")\n",
    "plt.legend()\n",
    "plt.show()\n",
    "print(\"acc_ori : \", len(acc_ori))"
   ]
  },
  {
   "cell_type": "code",
   "execution_count": null,
   "id": "9f04030f-b972-4182-8ada-589ef99ca5bb",
   "metadata": {},
   "outputs": [],
   "source": [
    "for i in range(len(acc_ori)):\n",
    "    if acc_ori[i] < acc_exp[i]:\n",
    "        print(\"When Threshold : \", i, \"%   \\r\\n Model promote\", acc_exp[i] - acc_ori[i],\"\\r\\n\",  acc_ori[i], \"->\", acc_exp[i])"
   ]
  },
  {
   "cell_type": "code",
   "execution_count": null,
   "id": "69b4b387-3b20-48a5-9550-f868e689a697",
   "metadata": {},
   "outputs": [
    {
     "name": "stdout",
     "output_type": "stream",
     "text": [
      "概率提升成功的平均提升 nan\n"
     ]
    },
    {
     "name": "stderr",
     "output_type": "stream",
     "text": [
      "/home/zikun/anaconda3/envs/xai/lib/python3.8/site-packages/numpy/core/fromnumeric.py:3440: RuntimeWarning: Mean of empty slice.\n",
      "  return _methods._mean(a, axis=axis, dtype=dtype,\n",
      "/home/zikun/anaconda3/envs/xai/lib/python3.8/site-packages/numpy/core/_methods.py:189: RuntimeWarning: invalid value encountered in double_scalars\n",
      "  ret = ret.dtype.type(ret / rcount)\n"
     ]
    }
   ],
   "source": [
    "temp = []\n",
    "index = 999\n",
    "for i in range(len(forword_pro)):\n",
    "    if max(forword_pro[i]) - forword_pro[i][0] > 0.7:\n",
    "        index = forword_pro[i].index(max(forword_pro[i]))\n",
    "        temp.append(f1[i][index] - f1[i][0])\n",
    "print(\"概率提升成功的平均提升\", mean(temp))"
   ]
  }
 ],
 "metadata": {
  "kernelspec": {
   "display_name": "Python 3 (ipykernel)",
   "language": "python",
   "name": "python3"
  },
  "language_info": {
   "codemirror_mode": {
    "name": "ipython",
    "version": 3
   },
   "file_extension": ".py",
   "mimetype": "text/x-python",
   "name": "python",
   "nbconvert_exporter": "python",
   "pygments_lexer": "ipython3",
   "version": "3.8.12"
  }
 },
 "nbformat": 4,
 "nbformat_minor": 5
}

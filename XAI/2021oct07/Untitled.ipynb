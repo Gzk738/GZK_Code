{
 "cells": [
  {
   "cell_type": "code",
   "execution_count": 13,
   "id": "8fdc14ab-5c87-4d90-b587-0d7b96d9bde5",
   "metadata": {},
   "outputs": [
    {
     "name": "stdout",
     "output_type": "stream",
     "text": [
      "_id 5adf9ba1554299025d62a2db\n",
      "question What position on the Billboard Top 100 did Alison Moyet's late summer hit achieve?\n",
      "context [['The Other Side of Love', ['\"The Other Side of Love\" is a song by the British synthpop band Yazoo, released in 1982 as their third single.', \" The single peaked at #13 on the UK Singles Chart, making it the band's least successful single and the only one of their four singles to miss the top 10.\", ' The track was written by band members Vince Clarke and Alison Moyet, and was originally not included on either of the band\\'s albums (it was later added to a reissue of \"Upstairs at Eric\\'s\").', \" It featured Stiff Records' all-girl band Sylvia and the Sapphires on backing vocals following a chance meeting on the B.A. Robertson show.\"]], ['All Cried Out (Alison Moyet song)', ['\"All Cried Out\" is a song by English singer-songwriter Alison Moyet.', ' It was written by Moyet and producers Jolley & Swain for her debut studio album \"Alf\" (1984).', \" Released as the album's second single in the autumn of 1984, the track peaked within the top ten on both the Irish and the UK Singles Chart, also reaching the top twenty in Switzerland.\"]], ['The Vandals (UK band)', ['The Vandals were a late 1970s English rock band from Basildon in South East Essex.', \" Playing in the punk rock style, they are mainly notable for featuring vocalist Alison Moyet; 'Alf' as she was then known, who later found fame as one half of 1980s synthpop act Yazoo.\", \" The other members were Robert Marlow, who during his tenure with the band was known as 'the guitarist with no name', two other female backing singers, Kim Forey and Sue Paget (Susan Ryder Paget), who also played bass at the band's later gigs, and Simon Kirk on drums, who was later replaced by John Dee, formerly of Southend band The Machines.\"]], ['Yazoo (band)', ['Yazoo (known as Yaz in North America for legal reasons involving Yazoo Records) were a British synthpop duo from Basildon, Essex, England, consisting of former Depeche Mode member Vince Clarke (keyboards) and Alison Moyet (vocals).', ' Formed in late 1981 after Clarke responded to an advertisement Moyet placed in a UK music magazine, over the next 18 months the duo made two critically acclaimed albums, \"Upstairs at Eric\\'s\" and \"You and Me Both\", blending Clarke\\'s synthesizer melodies with Moyet\\'s blues- and soul-influenced vocals.', ' Yazoo enjoyed worldwide success, particularly in their home country where three of their four singles reached the top three of the UK Singles Chart and both their albums made the top two of the albums chart.', ' In North America they are best known for the song \"Situation\", originally only a B-side in the UK but which was a club and airplay hit in the US and Canada before being released as the band\\'s debut single in North America.']], ['Nick Morris', ['Nick Morris is a film maker who began writing and making amateur films at school, one of which was shown at the NFT.', ' His professional career began in the 1980s with music videos for \"The Final Countdown\" by Europe, \"Kyrie\" by Mr. Mister and \"Everytime You Go Away\" by Paul Young.', ' After making approximately 100 promos for artists such as Elton John, Celine Dion, Alison Moyet, Warrant, Terence Trent D\\'Arby, Stevie Wonder, Paul Carrack, Prefab Sprout, Kirsty MacColl, Go West, the Kane Gang, The Alarm, Status Quo, Toto, Natalie Cole, Nena, Scorpions and the number one charity single Ferry Aid, he moved into longer form projects including the Cirque du Soleil show \"Alegría\", which was nominated for a primetime Emmy, \"Jesus Christ Superstar\", which won an International Emmy, and AC/DC\\'s \"Stiff Upper Lip Live\" in Munich.', ' He has also directed DVDs for comedians such as The Mighty Boosh, Mitchell and Webb and Bill Bailey.', ' Other work includes numerous trailers and music clips for West End shows such as \"The Producers\", \"Spamalot\", \"Calendar Girls\", \"Guys and Dolls\", \"Edward Scissorhands\" and \"The Rocky Horror Show\".', \" in 2009 he captured Spandau Ballet's triumphant homecoming concert at the O2 Arena in London and Jude Law's portrayal of Hamlet.\"]], ['Only You (Yazoo song)', ['\"Only You\" is a song written by English musician Vince Clarke.', ' He wrote it while with Depeche Mode, but recorded it in 1982 after forming the duo Yazoo with Alison Moyet.', \" It was released as Yazoo's first single on 15 March 1982 in the United Kingdom.\", ' Upon its UK release, the single became an instant success, hitting number two on the UK Singles Chart.', ' In the US, the song was released as their second single in November 1982 and charted at number sixty-seven on \"Billboard\" Hot 100.', ' \"Only You\" also made the US Adult Contemporary chart at number thirty-eight.']], ['Love Resurrection', ['\"Love Resurrection\" is a pop song written by English singer-songwriter Alison Moyet and producers Jolley & Swain for Moyet\\'s debut studio album \"Alf\" (1984).', \" Released as the album's first single in June 1984, it reached number 10 in the UK Singles Chart.\", ' It was released in the US in summer 1985 following \"Invisible\" and reached number 82 on the \"Billboard\" Hot 100 that August.']], ['In the Misty Moonlight', ['\"In the Misty Moonlight\" is a song written by Cindy Walker.', ' One of the first singers to record the song in 1964 was Jim Reeves: it is included on his posthumous album \"The Jim Reeves Way\".', ' There also have been many other artists who have covered the song, but the most successful version was recorded by Dean Martin in 1964.', ' It was released as a single in 1967 and went to number one on the Easy Listening chart and number forty-six on the \"Billboard\" Hot 100.', \" The song was Martin's fifth and final number one on the Easy Listening chart.\", ' On the other hand, Jerry Wallace had a #19 hit on Billboard Top 100 when his version was released in 1964, so as far as Billboard Top 100 charts, Wallace had the more successful version.', \" Both Wallace and Martin's versions are high quality and well produced.\"]], ['Jocelyn Alice', ['Jocelyn Alice is a Canadian singer and songwriter.', ' Formerly one half of Canadian indie soul pop duo jocelyn & lisa from Calgary, Alberta, Alice began performing as a solo artist in 2015.', ' Her debut single, the 2015 summer hit ‘Jackpot’, was certified Gold in Canada in early August 2015 and reached the top 15 on multiple Canadian commercial radio charts including #11 Mediabase Hot AC, #12 Billboard AC, #12 Billboard All-Format Airplay, and #14 Billboard CHR/Top 40.', ' Jackpot also reached #12 on the Shazam Canada Top 100 and #13 on the iTunes Canada Top 200 Pop Songs chart.']], ['Weak in the Presence of Beauty (song)', ['\"Weak in the Presence of Beauty\" is a song written by Michael Ward and Rob Clarke.', ' It was first released by their band, the British group Floy Joy, in 1986.', ' The song was later covered by singer Alison Moyet in 1987 and became a hit for her.']]]\n"
     ]
    }
   ],
   "source": [
    "import json\n",
    "path_example = r'D:\\software\\github\\GZK_Code\\XAI\\2021oct07\\hotpot_test_fullwiki_v1.json'\n",
    "with open(path_example, 'r') as load_f:\n",
    "    load_dict = json.load(load_f)\n",
    "for i , j in load_dict[0].items():\n",
    "    print(i, j)\n",
    "\n"
   ]
  }
 ],
 "metadata": {
  "kernelspec": {
   "display_name": "Python 3",
   "language": "python",
   "name": "python3"
  },
  "language_info": {
   "codemirror_mode": {
    "name": "ipython",
    "version": 3
   },
   "file_extension": ".py",
   "mimetype": "text/x-python",
   "name": "python",
   "nbconvert_exporter": "python",
   "pygments_lexer": "ipython3",
   "version": "3.6.13"
  }
 },
 "nbformat": 4,
 "nbformat_minor": 5
}

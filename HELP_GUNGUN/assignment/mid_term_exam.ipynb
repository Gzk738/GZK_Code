{
 "cells": [
  {
   "cell_type": "markdown",
   "metadata": {},
   "source": [
    "# 사회과학 빅데이터 분석 기초 중간고사 \n",
    "***"
   ]
  },
  {
   "cell_type": "markdown",
   "metadata": {},
   "source": [
    "### Direction \n",
    "1. 문제에 주어진 조건에 맞춰 정답을 작성한다. \n",
    "2. pandas를 사용하지 않고 정답을 작성한다.\n",
    "3. 모든 문제에서 풀이과정과 정답을 구분할 수 있도록 주석처리한다. \n",
    "4. 제출 시 파일명 mid_term_exam_이름.ipynb 형태의 제출한다."
   ]
  },
  {
   "cell_type": "markdown",
   "metadata": {},
   "source": [
    "### 추가정보\n",
    "1. csv파일을 불러오기 위해서 csv 모듈을 활용 (import csv)\n",
    "2. csv파일 활용 관련 링크 : https://docs.python.org/ko/3/library/csv.html"
   ]
  },
  {
   "cell_type": "markdown",
   "metadata": {},
   "source": [
    "### Dataset 1 - Ramen Ratings\n",
    "- 파일명 : ramen-ratings.csv\n",
    "- Encoding : utf-8"
   ]
  },
  {
   "cell_type": "markdown",
   "metadata": {},
   "source": [
    "Question 1. 가장 많은 상품을 출시한 라면 브랜드 5개와 해당 브랜드의 국가와 평균 평점을 구하시오. \n",
    "Question 1.查找推出最多产品的5个拉面品牌，其国家和平均评分。"
   ]
  },
  {
   "cell_type": "code",
   "execution_count": 14,
   "metadata": {},
   "outputs": [
    {
     "ename": "KeyError",
     "evalue": "'Brand'",
     "output_type": "error",
     "traceback": [
      "\u001b[1;31m---------------------------------------------------------------------------\u001b[0m",
      "\u001b[1;31mKeyError\u001b[0m                                  Traceback (most recent call last)",
      "\u001b[1;32m<ipython-input-14-952465df1875>\u001b[0m in \u001b[0;36m<module>\u001b[1;34m\u001b[0m\n\u001b[0;32m      4\u001b[0m     \u001b[0mrows\u001b[0m\u001b[1;33m=\u001b[0m\u001b[1;33m[\u001b[0m\u001b[0mrow\u001b[0m \u001b[1;32mfor\u001b[0m \u001b[0mrow\u001b[0m \u001b[1;32min\u001b[0m \u001b[0mcsvfile\u001b[0m\u001b[1;33m]\u001b[0m\u001b[1;33m\u001b[0m\u001b[1;33m\u001b[0m\u001b[0m\n\u001b[0;32m      5\u001b[0m \u001b[1;32mfor\u001b[0m \u001b[0mrow\u001b[0m \u001b[1;32min\u001b[0m \u001b[0mrows\u001b[0m\u001b[1;33m:\u001b[0m\u001b[1;33m\u001b[0m\u001b[1;33m\u001b[0m\u001b[0m\n\u001b[1;32m----> 6\u001b[1;33m     \u001b[0mallbrand\u001b[0m\u001b[1;33m=\u001b[0m\u001b[0mrow\u001b[0m\u001b[1;33m[\u001b[0m\u001b[1;34m'Brand'\u001b[0m\u001b[1;33m]\u001b[0m\u001b[1;33m\u001b[0m\u001b[1;33m\u001b[0m\u001b[0m\n\u001b[0m\u001b[0;32m      7\u001b[0m \u001b[1;32mdef\u001b[0m \u001b[0mcount\u001b[0m\u001b[1;33m(\u001b[0m\u001b[0mstr\u001b[0m\u001b[1;33m)\u001b[0m\u001b[1;33m:\u001b[0m\u001b[1;33m\u001b[0m\u001b[1;33m\u001b[0m\u001b[0m\n\u001b[0;32m      8\u001b[0m     \u001b[0mcount_words\u001b[0m \u001b[1;33m=\u001b[0m \u001b[0mstr\u001b[0m\u001b[1;33m.\u001b[0m\u001b[0msplit\u001b[0m\u001b[1;33m(\u001b[0m\u001b[1;33m)\u001b[0m\u001b[1;33m\u001b[0m\u001b[1;33m\u001b[0m\u001b[0m\n",
      "\u001b[1;31mKeyError\u001b[0m: 'Brand'"
     ]
    }
   ],
   "source": [
    "import csv\n",
    "with open('world-happiness-report-2021.csv','r',encoding='utf-8') as f:\n",
    "    csvfile=csv.DictReader(f)\n",
    "    rows=[row for row in csvfile]\n",
    "for row in rows:\n",
    "    allbrand=row['Brand']\n",
    "def count(str):\n",
    "    count_words = str.split()\n",
    "    count_word = {}\n",
    "    for word in count_words:\n",
    "        if word not in count_word.keys():\n",
    "            count_word[word] = 1\n",
    "        else:\n",
    "            count_word[word] += 1\n",
    "    return count_word\n",
    "\n",
    "print(count(allbrand))"
   ]
  },
  {
   "cell_type": "markdown",
   "metadata": {},
   "source": [
    "Question 2. 평점 평균이 가장 높은 라면 생산국과 Top 10을 가장 많이 배출한 생산국을 구하시오. "
   ]
  },
  {
   "cell_type": "markdown",
   "metadata": {},
   "source": [
    "점수 가장 높은 라면의 생산국"
   ]
  },
  {
   "cell_type": "code",
   "execution_count": null,
   "metadata": {},
   "outputs": [],
   "source": [
    "results_by_Stars = []\n",
    "for row in rows:\n",
    "    c = row['Variety']\n",
    "    d = row['Country']\n",
    "    v = row['Stars']\n",
    "    if v != '':\n",
    "        r = (c, d, float(v))\n",
    "        results_by_Stars.append(r)\n",
    "        "
   ]
  },
  {
   "cell_type": "code",
   "execution_count": 20,
   "metadata": {},
   "outputs": [],
   "source": [
    "per_ramen_Stars = []\n",
    "prS = ('', '', '')\n",
    "for result in results_by_Stars:\n",
    "    if result[0] != prev[0]:\n",
    "        per_ramen_Stars.append(result)\n",
    "        prS = result \n",
    "    else:\n",
    "        continue"
   ]
  },
  {
   "cell_type": "code",
   "execution_count": 21,
   "metadata": {},
   "outputs": [],
   "source": [
    "per_ramen_Stars.sort(reverse=True, key=lambda x: x[2])"
   ]
  },
  {
   "cell_type": "code",
   "execution_count": 22,
   "metadata": {},
   "outputs": [
    {
     "data": {
      "text/plain": [
       "[('Creamy tom Yum Kung Flavour', 'Thailand', 5.0),\n",
       " ('Yokohama Tonkotsu Shoyu', 'USA', 5.0),\n",
       " ('Demae Ramen Bar Noodle Aka Tonkotsu Flavour Instant Noodle',\n",
       "  'Hong Kong',\n",
       "  5.0),\n",
       " ('Tokyo Shoyu Ramen', 'USA', 5.0),\n",
       " ('Beef Ramen', 'USA', 5.0),\n",
       " ('Creamy Soup With Crushed Noodles Hot & Sour Fish Flavor', 'Singapore', 5.0),\n",
       " ('Penang White Curry Rice Vermicelli Soup', 'Malaysia', 5.0),\n",
       " ('Paegaejang Ramen', 'South Korea', 5.0),\n",
       " ('Kimchi song Song Ramen', 'South Korea', 4.75),\n",
       " ('Sapporo Miso Ramen', 'USA', 4.75)]"
      ]
     },
     "execution_count": 22,
     "metadata": {},
     "output_type": "execute_result"
    }
   ],
   "source": [
    "per_ramen_Stars[:10]"
   ]
  },
  {
   "cell_type": "markdown",
   "metadata": {},
   "source": [
    "Question 3. 가장 이름이 긴 라면의 국가, 브랜드, 상품명, 그리고 상품명의 길이를 구하시오. (이름의 길이는 띄워쓰기를 제외한 영문 상품명을 기준으로 한다.)"
   ]
  },
  {
   "cell_type": "code",
   "execution_count": 30,
   "metadata": {},
   "outputs": [],
   "source": [
    "for row in rows:\n",
    "    allvariety=row['Variety']"
   ]
  },
  {
   "cell_type": "code",
   "execution_count": 31,
   "metadata": {},
   "outputs": [],
   "source": [
    "import nltk"
   ]
  },
  {
   "cell_type": "markdown",
   "metadata": {},
   "source": [
    "### Dataset 2 - 전국전통시장표준데이터\n",
    "- 파일명 : traditional_market_kor.json\n",
    "- Encoding : utf-8"
   ]
  },
  {
   "cell_type": "markdown",
   "metadata": {},
   "source": [
    "Question 4. 9개 시도 중 가장 전통시장이 많은 지역을 구하시오. 그리고 5일장이 가장 많은 지역과 상설시장이 가장 많은 지역을 구하시오. (주소가 없는 시장은 제외)"
   ]
  },
  {
   "cell_type": "code",
   "execution_count": null,
   "metadata": {},
   "outputs": [],
   "source": []
  },
  {
   "cell_type": "code",
   "execution_count": 50,
   "metadata": {},
   "outputs": [],
   "source": [
    "import json\n",
    "with open('traditional_market_kor.json','r',encoding='utf-8') as f:\n",
    "    jsonfile=json.load(f)"
   ]
  },
  {
   "cell_type": "code",
   "execution_count": null,
   "metadata": {},
   "outputs": [],
   "source": [
    "name=jsonfile[records]\n",
    "year=jsonfile['개설연도']"
   ]
  },
  {
   "cell_type": "code",
   "execution_count": null,
   "metadata": {},
   "outputs": [],
   "source": [
    "jsonfile"
   ]
  },
  {
   "cell_type": "markdown",
   "metadata": {},
   "source": [
    "Question 5. 가장 오래된 시장과 가장 큰 시장을 구하시오."
   ]
  },
  {
   "cell_type": "code",
   "execution_count": null,
   "metadata": {},
   "outputs": [],
   "source": []
  },
  {
   "cell_type": "markdown",
   "metadata": {},
   "source": [
    "Questions 6. 시장명을 입력하면 \"시장주소\"와 \"주자창보유여부\"를 출력하는 함수를 만드시오."
   ]
  },
  {
   "cell_type": "code",
   "execution_count": null,
   "metadata": {},
   "outputs": [],
   "source": []
  },
  {
   "cell_type": "markdown",
   "metadata": {},
   "source": [
    "### Dataset 3 - World Happiness Report 2021 \n",
    "- 파일명 : world-happiness-report-2021.csv\n",
    "- Encoding : utf-8-sig\n",
    "-第七题和第八题好好做，第九题就随便吧，做不出来就算了～"
   ]
  },
  {
   "cell_type": "markdown",
   "metadata": {},
   "source": [
    "Question 7. \n",
    "用f-string函数 print出 South Korea的 행복점수(Ladder Score), 사회지원(Social Support), 기대수명(Healthy Life Expectancy), 너그러움(Generocity), 부패인식(Perceptions of Corruption) \n",
    "(先做一个Class，然后做一个包括上面几个内容的函数） \n",
    "（Class를 만들고 위 언급한 특성의 값을 반환하는 method를 작성)"
   ]
  },
  {
   "cell_type": "code",
   "execution_count": 46,
   "metadata": {},
   "outputs": [
    {
     "name": "stdout",
     "output_type": "stream",
     "text": [
      "please input:Denmark\n",
      "Denmark Ladder Score is 7.620 Healthy Life Expectancy is  72.700 Generocity is 0.030 Perceptions of Corruption is 0.179\n"
     ]
    }
   ],
   "source": [
    "def read_data(row_index):\n",
    "    with open('world-happiness-report-2021.csv','r',encoding='utf-8') as csvfile:\n",
    "        reader = csv.reader(csvfile)\n",
    "        \"\"\"' Column: 'Sweden', 'Luxembourg', 'New Zealand', 'Austria', 'Australia'... \"\"\"\n",
    "        colunm = [row[row_index] for row in reader]\n",
    "    return colunm\n",
    "if __name__ == '__main__':\n",
    "    cmd = input(\"please input:\")\n",
    "    countries = read_data(0)\n",
    "    country_index = countries.index(cmd)\n",
    "    Ladder_Score = read_data(2)\n",
    "    Social_Support = read_data(7)\n",
    "    Healthy_Life = read_data(8)\n",
    "    Generocity = read_data(10)\n",
    "    Perceptions_Corruption= read_data(11)\n",
    "    print(cmd, \"Ladder Score is\", Ladder_Score[country_index],\n",
    "         \"Healthy Life Expectancy is \", Healthy_Life[country_index],\n",
    "         \"Generocity is\", Generocity[country_index],\n",
    "         \"Perceptions of Corruption is\", Perceptions_Corruption[country_index])\n"
   ]
  },
  {
   "cell_type": "code",
   "execution_count": null,
   "metadata": {},
   "outputs": [],
   "source": [
    "f'{Country name}-Ladder Score is{},Social Support is{},\n",
    "Healthy Life Expectancy is{}, Generocity is{},Perceptions of Corruption is{}'\n",
    "就是做这样一个句子～"
   ]
  },
  {
   "cell_type": "code",
   "execution_count": 74,
   "metadata": {},
   "outputs": [
    {
     "data": {
      "text/plain": [
       "dict_values(['Moldova', 'Commonwealth of Independent States', '5.766', '0.046', '5.856', '5.677', '9.454', '0.857', '65.699', '0.822', '-0.079', '0.918', '2.430', '0.985', '0.888', '0.542', '0.536', '0.137', '0.013', '2.665'])"
      ]
     },
     "execution_count": 74,
     "metadata": {},
     "output_type": "execute_result"
    }
   ],
   "source": [
    "## 我瞎写的 \n",
    "rows[64].values()"
   ]
  },
  {
   "cell_type": "markdown",
   "metadata": {},
   "source": [
    "Question 8. \n",
    "用同样的方式把South Korea上面两个国家和下面两个国家也print出来！\n",
    "대한민국 바로 위 2개국과 바로 아래 2개국의 특성(4번 문제 참조)을 국가명과 함께 출력하시오. (f-string 활용)"
   ]
  },
  {
   "cell_type": "markdown",
   "metadata": {},
   "source": [
    "Question 9. \n",
    "找出每个 Regional indicator里面最幸福的国家和对应的幸福指数～ \n",
    "如果不好做的话 就按照Reginal Indictor把国家分类吧～也算我做出来一半😭\n",
    "각 지역권(Reginal Indicator) 가장 행복한 국가와 행복지수를 구하시오. "
   ]
  },
  {
   "cell_type": "code",
   "execution_count": 61,
   "metadata": {},
   "outputs": [
    {
     "name": "stdout",
     "output_type": "stream",
     "text": [
      "['7.842', '7.620', '7.571', '7.554', '7.464', '7.392', '7.363', '7.324', '7.277', '7.268', '7.183', '7.157', '7.155', '7.103', '7.085', '7.069', '7.064', '6.965', '6.951', '6.834', '6.690', '6.647', '6.602', '6.584', '6.561', '6.494', '6.491', '6.483', '6.461', '6.435', '6.431', '6.377', '6.372', '6.331', '6.330', '6.317', '6.309', '6.255', '6.223', '6.189', '6.180', '6.179', '6.172', '6.166', '6.152', '6.140', '6.106', '6.078', '6.061', '6.049', '6.032', '6.012', '5.992', '5.985', '5.972', '5.940', '5.929', '5.929', '5.919', '5.882', '5.880', '5.845', '5.840', '5.813', '5.766', '5.764', '5.744', '5.723', '5.716', '5.677', '5.653', '5.581', '5.545', '5.536', '5.534', '5.477', '5.477', '5.466', '5.411', '5.410', '5.384', '5.345', '5.342', '5.339', '5.306', '5.283', '5.269', '5.266', '5.198', '5.171', '5.142', '5.132', '5.117', '5.101', '5.088', '5.074', '5.066', '5.051', '5.045', '5.030', '5.025', '4.984', '4.956', '4.948', '4.934', '4.918', '4.892', '4.891', '4.887', '4.875', '4.854', '4.852', '4.834', '4.830', '4.794', '4.759', '4.723', '4.721', '4.636', '4.625', '4.607', '4.596', '4.584', '4.574', '4.517', '4.426', '4.395', '4.355', '4.325', '4.308', '4.289', '4.283', '4.275', '4.227', '4.208', '4.107', '4.073', '3.849', '3.819', '3.775', '3.658', '3.623', '3.615', '3.600', '3.512', '3.467', '3.415', '3.145', '2.523']\n",
      "7.842\n"
     ]
    },
    {
     "ename": "TypeError",
     "evalue": "'list' object cannot be interpreted as an integer",
     "output_type": "error",
     "traceback": [
      "\u001b[1;31m---------------------------------------------------------------------------\u001b[0m",
      "\u001b[1;31mTypeError\u001b[0m                                 Traceback (most recent call last)",
      "\u001b[1;32m<ipython-input-61-1316d3b2a9b9>\u001b[0m in \u001b[0;36m<module>\u001b[1;34m\u001b[0m\n\u001b[0;32m     20\u001b[0m     \u001b[0mmax_index\u001b[0m \u001b[1;33m=\u001b[0m \u001b[0mmax\u001b[0m\u001b[1;33m(\u001b[0m\u001b[0mlist_a\u001b[0m\u001b[1;33m)\u001b[0m\u001b[1;33m\u001b[0m\u001b[1;33m\u001b[0m\u001b[0m\n\u001b[0;32m     21\u001b[0m     \u001b[0mprint\u001b[0m\u001b[1;33m(\u001b[0m\u001b[0mmax_index\u001b[0m\u001b[1;33m)\u001b[0m\u001b[1;33m\u001b[0m\u001b[1;33m\u001b[0m\u001b[0m\n\u001b[1;32m---> 22\u001b[1;33m     \u001b[0mprint\u001b[0m\u001b[1;33m(\u001b[0m\u001b[0mfind_max_index\u001b[0m\u001b[1;33m(\u001b[0m\u001b[0mlist_a\u001b[0m\u001b[1;33m)\u001b[0m\u001b[1;33m)\u001b[0m\u001b[1;33m\u001b[0m\u001b[1;33m\u001b[0m\u001b[0m\n\u001b[0m\u001b[0;32m     23\u001b[0m \u001b[1;33m\u001b[0m\u001b[0m\n",
      "\u001b[1;32m<ipython-input-61-1316d3b2a9b9>\u001b[0m in \u001b[0;36mfind_max_index\u001b[1;34m(original_list)\u001b[0m\n\u001b[0;32m     11\u001b[0m         \u001b[0mtemp_list\u001b[0m\u001b[1;33m.\u001b[0m\u001b[0mappend\u001b[0m\u001b[1;33m(\u001b[0m\u001b[0mfloat\u001b[0m\u001b[1;33m(\u001b[0m\u001b[0moriginal_list\u001b[0m\u001b[1;33m[\u001b[0m\u001b[0mi\u001b[0m\u001b[1;33m]\u001b[0m\u001b[1;33m)\u001b[0m\u001b[1;33m)\u001b[0m\u001b[1;33m\u001b[0m\u001b[1;33m\u001b[0m\u001b[0m\n\u001b[0;32m     12\u001b[0m     \u001b[0mmax_value\u001b[0m \u001b[1;33m=\u001b[0m \u001b[0mmax\u001b[0m\u001b[1;33m(\u001b[0m\u001b[0mtemp_list\u001b[0m\u001b[1;33m)\u001b[0m\u001b[1;33m\u001b[0m\u001b[1;33m\u001b[0m\u001b[0m\n\u001b[1;32m---> 13\u001b[1;33m     \u001b[1;32mfor\u001b[0m \u001b[0mj\u001b[0m \u001b[1;32min\u001b[0m \u001b[0mrange\u001b[0m\u001b[1;33m(\u001b[0m\u001b[0mtemp_list\u001b[0m\u001b[1;33m)\u001b[0m\u001b[1;33m:\u001b[0m\u001b[1;33m\u001b[0m\u001b[1;33m\u001b[0m\u001b[0m\n\u001b[0m\u001b[0;32m     14\u001b[0m         \u001b[1;32mif\u001b[0m \u001b[0mtemp_list\u001b[0m\u001b[1;33m[\u001b[0m\u001b[0mj\u001b[0m\u001b[1;33m]\u001b[0m \u001b[1;33m==\u001b[0m \u001b[0mmax_value\u001b[0m\u001b[1;33m:\u001b[0m\u001b[1;33m\u001b[0m\u001b[1;33m\u001b[0m\u001b[0m\n\u001b[0;32m     15\u001b[0m             \u001b[1;32mreturn\u001b[0m \u001b[0mj\u001b[0m\u001b[1;33m\u001b[0m\u001b[1;33m\u001b[0m\u001b[0m\n",
      "\u001b[1;31mTypeError\u001b[0m: 'list' object cannot be interpreted as an integer"
     ]
    }
   ],
   "source": [
    "def read_data(row_index):\n",
    "    with open('world-happiness-report-2021.csv','r',encoding='utf-8') as csvfile:\n",
    "        reader = csv.reader(csvfile)\n",
    "        \"\"\"' Column: 'Sweden', 'Luxembourg', 'New Zealand', 'Austria', 'Australia'... \"\"\"\n",
    "        colunm = [row[row_index] for row in reader]\n",
    "        colunm.pop(0)\n",
    "    return colunm\n",
    "def find_max_index(original_list):\n",
    "    temp_list = []\n",
    "    for i in range(len(original_list)):\n",
    "        temp_list.append(float(original_list[i]))\n",
    "    max_value = max(temp_list)\n",
    "    for j in range(temp_list):\n",
    "        if temp_list[j] == max_value:\n",
    "            return j\n",
    "        \n",
    "if __name__ == '__main__':\n",
    "    list_a = read_data(2)\n",
    "    print(list_a)\n",
    "    max_index = max(list_a)\n",
    "    print(max_index)\n",
    "    print(find_max_index(list_a))\n",
    "    \n"
   ]
  },
  {
   "cell_type": "markdown",
   "metadata": {},
   "source": [
    "### Coding Problem"
   ]
  },
  {
   "cell_type": "markdown",
   "metadata": {},
   "source": [
    "Question 10. 아래의 코드는 완전한 코드가 아닙니다. 특정 상황에서 올바르게 작동하지 않을 수 있습니다. 어떤 경우에 에러가 발생할 수 있는지 확인하고 해당 에러에 프로그램이 멈추지 않도록 예외처리하시오."
   ]
  },
  {
   "cell_type": "code",
   "execution_count": 63,
   "metadata": {},
   "outputs": [
    {
     "name": "stdout",
     "output_type": "stream",
     "text": [
      "Ladder score : Switzerland : 7.842\n",
      "Standard error of ladder score : Iceland : 0.032\n",
      "upperwhisker : Netherlands : 7.904\n",
      "lowerwhisker : Norway : 7.780\n",
      "Logged GDP per capita : Sweden : 10.775\n",
      "Social support : Luxembourg : 0.954\n",
      "Healthy life expectancy : New Zealand : 72.000\n",
      "Freedom to make life choices : Austria : 0.949\n",
      "Generosity : Australia : -0.098\n",
      "Perceptions of corruption : Israel : 0.186\n",
      "Ladder score in Dystopia : Germany : 2.430\n",
      "Explained by: Log GDP per capita : Canada : 1.446\n",
      "Explained by: Social support : Ireland : 1.106\n",
      "Explained by: Healthy life expectancy : Costa Rica : 0.741\n",
      "Explained by: Freedom to make life choices : United Kingdom : 0.691\n",
      "Explained by: Generosity : Czech Republic : 0.124\n",
      "Explained by: Perceptions of corruption : United States : 0.481\n",
      "Dystopia + residual : Belgium : 3.253\n"
     ]
    }
   ],
   "source": [
    "class handle():\n",
    "    lable = \"\"\n",
    "    max_value = 0\n",
    "    max_index = 0\n",
    "    list_value = []\n",
    "    country = []\n",
    "def init_handle():\n",
    "    \"\"\"\n",
    "    get the country list\n",
    "    :return:\n",
    "    \"\"\"\n",
    "    with open('world-happiness-report-2021.csv', 'r', encoding='utf-8') as csvfile:\n",
    "        reader = csv.reader(csvfile)\n",
    "        \"\"\"' Column: 'Sweden', 'Luxembourg', 'New Zealand', 'Austria', 'Australia'... \"\"\"\n",
    "        colunm = [row[0] for row in reader]\n",
    "    colunm.pop(0)\n",
    "    for i in range(len(colunm)):\n",
    "        handle.country.append(colunm[i])\n",
    "\n",
    "    return\n",
    "def read_data(row_index):\n",
    "    with open('world-happiness-report-2021.csv','r',encoding='utf-8') as csvfile:\n",
    "        reader = csv.reader(csvfile)\n",
    "        \"\"\"' Column: 'Sweden', 'Luxembourg', 'New Zealand', 'Austria', 'Australia'... \"\"\"\n",
    "        colunm = [row[row_index] for row in reader]\n",
    "        handle.lable = colunm[0]\n",
    "        colunm.pop(0)\n",
    "        handle.list_value = colunm\n",
    "    return colunm\n",
    "def find_max_index(original_list):\n",
    "    temp_list = []\n",
    "    for i in range(len(original_list)):\n",
    "        temp_list.append(float(original_list[i]))\n",
    "    max_value = max(temp_list)\n",
    "    for j in range(len(temp_list)):\n",
    "        if temp_list[j] == max_value:\n",
    "            handle.max_index = j\n",
    "            return\n",
    "\n",
    "if __name__ == '__main__':\n",
    "    init_handle()\n",
    "    for i in range(20):\n",
    "        if i != 0 and i !=1:\n",
    "            data = read_data(i)\n",
    "            max_data = find_max_index(data)\n",
    "            print( handle.lable,\":\", handle.country[i],\":\", data[handle.max_value])\n",
    "            data.clear()\n",
    "            max_data = 0\n"
   ]
  }
 ],
 "metadata": {
  "kernelspec": {
   "display_name": "Python 3",
   "language": "python",
   "name": "python3"
  },
  "language_info": {
   "codemirror_mode": {
    "name": "ipython",
    "version": 3
   },
   "file_extension": ".py",
   "mimetype": "text/x-python",
   "name": "python",
   "nbconvert_exporter": "python",
   "pygments_lexer": "ipython3",
   "version": "3.8.8"
  }
 },
 "nbformat": 4,
 "nbformat_minor": 4
}
